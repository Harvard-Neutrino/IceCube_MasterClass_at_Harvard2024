{
 "cells": [
  {
   "cell_type": "code",
   "execution_count": 1,
   "id": "3cf72264",
   "metadata": {},
   "outputs": [],
   "source": [
    "import numpy as np\n",
    "import pandas as pd\n",
    "import torch\n",
    "import torch.nn as nn\n",
    "import matplotlib.pyplot as plt"
   ]
  },
  {
   "cell_type": "code",
   "execution_count": 2,
   "id": "6e7dad59",
   "metadata": {},
   "outputs": [],
   "source": [
    "data_dir = \"/Users/nickkamp/Documents/Harvard/Research/Prometheus/PublicDatasets/IceCube_HE\"\n",
    "mu_data = pd.read_parquet(\"%s/MuMinus/total_0.parquet\"%data_dir)\n",
    "e_data = pd.read_parquet(\"%s/EMinus/total_0.parquet\"%data_dir)\n",
    "mu_hit_mask = [len(mu_data[\"photons\"][i][\"sensor_pos_x\"])>1 for i in range(len(mu_data[\"photons\"]))]\n",
    "e_hit_mask = [len(e_data[\"photons\"][i][\"sensor_pos_x\"])>1 for i in range(len(e_data[\"photons\"]))]\n",
    "mu_data_reduced = mu_data[mu_hit_mask]\n",
    "e_data_reduced = e_data[e_hit_mask]"
   ]
  },
  {
   "cell_type": "code",
   "execution_count": 3,
   "id": "1b2ddceb",
   "metadata": {},
   "outputs": [
    {
     "data": {
      "image/png": "[encoded data removed]",
      "text/plain": [
       "<Figure size 432x288 with 1 Axes>"
      ]
     },
     "metadata": {
      "needs_background": "light"
     },
     "output_type": "display_data"
    }
   ],
   "source": [
    "plt.hist([len(x[\"sensor_pos_x\"]) for x in e_data_reduced[\"photons\"]],bins=np.logspace(0,7,100),alpha=0.5)\n",
    "plt.hist([len(x[\"sensor_pos_x\"]) for x in mu_data_reduced[\"photons\"]],bins=np.logspace(0,7,100),alpha=0.5)\n",
    "plt.loglog()\n",
    "plt.show()"
   ]
  },
  {
   "cell_type": "code",
   "execution_count": 849,
   "id": "e0ef97f1",
   "metadata": {},
   "outputs": [],
   "source": [
    "def generate_images(muon_data,electron_data,m=87,N=10000):\n",
    "    images = np.empty((2*N,2,m,m),dtype=np.float32)\n",
    "    labels = np.empty((2*N,4),dtype=np.float32)\n",
    "    for i,(event,truth) in enumerate(zip(muon_data[\"photons\"],\n",
    "                                         muon_data[\"mc_truth\"])):\n",
    "        if i>=N: break\n",
    "        print(i,end=\"\\r\")\n",
    "        bins = np.linspace(-0.5,m-0.5,m+1)\n",
    "        nhits,_,_ = np.histogram2d(event[\"string_id\"],event[\"sensor_id\"],bins=bins)\n",
    "        first_hit = np.zeros((m,m))\n",
    "        for j,hit_t in enumerate(event[\"t\"]):\n",
    "            if first_hit[event[\"string_id\"][j],event[\"sensor_id\"][j]]==0 or first_hit[event[\"string_id\"][j],event[\"sensor_id\"][j]] > hit_t:\n",
    "                first_hit[event[\"string_id\"][j],event[\"sensor_id\"][j]] = hit_t\n",
    "        images[i,0,:,:] = nhits\n",
    "        images[i,1,:,:] = first_hit\n",
    "        \n",
    "        # label\n",
    "        labels[i] = [0,truth[\"final_state_energy\"][0],truth[\"final_state_zenith\"][0],truth[\"final_state_azimuth\"][0]]\n",
    "    for i,(event,truth) in enumerate(zip(electron_data[\"photons\"],\n",
    "                                         electron_data[\"mc_truth\"])):\n",
    "        if i>=N: break\n",
    "        print(i,end=\"\\r\")\n",
    "        bins = np.linspace(-0.5,m-0.5,m+1)\n",
    "        nhits,_,_ = np.histogram2d(event[\"string_id\"],event[\"sensor_id\"],bins=bins)\n",
    "        first_hit = np.zeros((m,m))\n",
    "        for j,hit_t in enumerate(event[\"t\"]):\n",
    "            if first_hit[event[\"string_id\"][j],event[\"sensor_id\"][j]]==0 or first_hit[event[\"string_id\"][j],event[\"sensor_id\"][j]] > hit_t:\n",
    "                first_hit[event[\"string_id\"][j],event[\"sensor_id\"][j]] = hit_t\n",
    "        images[i+N,0,:,:] = nhits\n",
    "        images[i+N,1,:,:] = first_hit/4000.\n",
    "        \n",
    "        # label\n",
    "        labels[i+N] = [1,truth[\"final_state_energy\"][0],truth[\"final_state_zenith\"][0],truth[\"final_state_azimuth\"][0]]\n",
    "    randperm = torch.randperm(len(images))\n",
    "    return torch.from_numpy(images[randperm]),torch.from_numpy(labels[randperm])\n",
    "        "
   ]
  },
  {
   "cell_type": "code",
   "execution_count": 850,
   "id": "d7a39fdb",
   "metadata": {},
   "outputs": [
    {
     "name": "stdout",
     "output_type": "stream",
     "text": [
      "3939\r"
     ]
    }
   ],
   "source": [
    "images,labels = generate_images(mu_data_reduced,e_data_reduced)"
   ]
  },
  {
   "cell_type": "code",
   "execution_count": 853,
   "id": "5bbecc90",
   "metadata": {},
   "outputs": [],
   "source": [
    "from torch.utils.data import DataLoader\n",
    "from torch.utils.data import Dataset\n",
    "\n",
    "class CustomImageDataset(Dataset):\n",
    "    def __init__(self, images, labels):\n",
    "        self.images = images\n",
    "        self.labels = labels\n",
    "        #self.labels = np.expand_dims(np.cos(self.labels[:,0]),-1)\n",
    "        self.labels = np.expand_dims(self.labels[:,0],-1)\n",
    "\n",
    "\n",
    "    def __len__(self):\n",
    "        return len(self.images)\n",
    "\n",
    "    def __getitem__(self, idx):\n",
    "        return self.images[idx], self.labels[idx]\n",
    "\n",
    "Ntrain = 16000\n",
    "Ntest = 4000\n",
    "train_dataloader = DataLoader(CustomImageDataset(images[:Ntrain],labels[:Ntrain]), batch_size=20, shuffle=True)\n",
    "test_dataloader = DataLoader(CustomImageDataset(images[-Ntest:],labels[-Ntest:]), batch_size=64, shuffle=True)"
   ]
  },
  {
   "cell_type": "markdown",
   "id": "d13fb25e",
   "metadata": {},
   "source": [
    "# ML"
   ]
  },
  {
   "cell_type": "code",
   "execution_count": 854,
   "id": "537bde57",
   "metadata": {},
   "outputs": [],
   "source": [
    "import torch\n",
    "import torch.nn as nn\n",
    "import torch.nn.functional as F\n",
    "import torch.optim as optim\n",
    "\n",
    "\n",
    "class Net(nn.Module):\n",
    "\n",
    "    def __init__(self, N):\n",
    "        super(Net, self).__init__()\n",
    "        # 2 input image channels, 6 output channels, 5x5 square convolution\n",
    "        # kernel\n",
    "        self.conv1 = nn.Conv2d(2, 6, 5)\n",
    "        self.conv2 = nn.Conv2d(6, 12, 5)\n",
    "        #self.conv3 = nn.Conv2d(12, 24, 5)\n",
    "        #self.conv4 = nn.Conv2d(24, 48, 5)\n",
    "        # an affine operation: y = Wx + b\n",
    "        self.fc1 = nn.Linear(3888, 1000)  # 5*5 from image dimension\n",
    "        self.fc2 = nn.Linear(1000, 84)\n",
    "        self.fc3 = nn.Linear(84, 1)\n",
    "\n",
    "    def forward(self, input):\n",
    "        # Convolution layer C1: 2 input image channels, 6 output channels,\n",
    "        # 5x5 square convolution, it uses RELU activation function, and\n",
    "        # outputs a Tensor with size (N, 6, 28, 28), where N is the size of the batch\n",
    "        c1 = F.relu(self.conv1(input))\n",
    "        # Subsampling layer S2: 2x2 grid, purely functional,\n",
    "        # this layer does not have any parameter, and outputs a (N, 16, 14, 14) Tensor\n",
    "        s2 = F.max_pool2d(c1, 2)\n",
    "        # Convolution layer C3: 6 input channels, 16 output channels,\n",
    "        # 5x5 square convolution, it uses RELU activation function, and\n",
    "        # outputs a (N, 16, 10, 10) Tensor\n",
    "        c3 = F.relu(self.conv2(s2))\n",
    "        # Subsampling layer S4: 2x2 grid, purely functional,\n",
    "        # this layer does not have any parameter, and outputs a (N, 16, 5, 5) Tensor\n",
    "        s4 = F.max_pool2d(c3, 2)\n",
    "#         c5 = F.relu(self.conv3(s4))\n",
    "#         s6 = F.max_pool2d(c5,2)\n",
    "#         c7 = F.relu(self.conv4(s6))\n",
    "#         s8 = F.max_pool2d(c7,2)\n",
    "        # Flatten operation: purely functional, outputs a (N, 400) Tensor\n",
    "        s8 = torch.flatten(s4, 1)\n",
    "        # Fully connected layer F5: (N, 400) Tensor input,\n",
    "        # and outputs a (N, 120) Tensor, it uses RELU activation function\n",
    "        f5 = F.relu(self.fc1(s8))\n",
    "        # Fully connected layer F6: (N, 120) Tensor input,\n",
    "        # and outputs a (N, 84) Tensor, it uses RELU activation function\n",
    "        f6 = F.relu(self.fc2(f5))\n",
    "        # Gaussian layer OUTPUT: (N, 84) Tensor input, and\n",
    "        # outputs a (N, 10) Tensor\n",
    "        output = F.sigmoid(self.fc3(f6))\n",
    "        #output = torch.where(output<0,0,output)\n",
    "        #output = torch.where(output>1,1,output)\n",
    "        return output\n",
    "\n",
    "\n"
   ]
  },
  {
   "cell_type": "code",
   "execution_count": 855,
   "id": "53dce5d0",
   "metadata": {},
   "outputs": [
    {
     "name": "stdout",
     "output_type": "stream",
     "text": [
      "Net(\n",
      "  (conv1): Conv2d(2, 6, kernel_size=(5, 5), stride=(1, 1))\n",
      "  (conv2): Conv2d(6, 12, kernel_size=(5, 5), stride=(1, 1))\n",
      "  (fc1): Linear(in_features=3888, out_features=1000, bias=True)\n",
      "  (fc2): Linear(in_features=1000, out_features=84, bias=True)\n",
      "  (fc3): Linear(in_features=84, out_features=1, bias=True)\n",
      ")\n",
      "3975287\n",
      "0\n",
      "tensor(1.1530, grad_fn=<BinaryCrossEntropyBackward0>)\r"
     ]
    },
    {
     "ename": "RuntimeError",
     "evalue": "all elements of target should be between 0 and 1",
     "output_type": "error",
     "traceback": [
      "\u001b[0;31m---------------------------------------------------------------------------\u001b[0m",
      "\u001b[0;31mRuntimeError\u001b[0m                              Traceback (most recent call last)",
      "Input \u001b[0;32mIn [855]\u001b[0m, in \u001b[0;36m<cell line: 11>\u001b[0;34m()\u001b[0m\n\u001b[1;32m     18\u001b[0m \u001b[38;5;66;03m#target = torch.where(target<0,0,target)\u001b[39;00m\n\u001b[1;32m     19\u001b[0m \u001b[38;5;66;03m#target = torch.where(target>1,1,target)\u001b[39;00m\n\u001b[1;32m     20\u001b[0m target \u001b[38;5;241m=\u001b[39m torch\u001b[38;5;241m.\u001b[39mwhere(torch\u001b[38;5;241m.\u001b[39misnan(target),\u001b[38;5;241m0\u001b[39m,target)\n\u001b[0;32m---> 21\u001b[0m loss \u001b[38;5;241m=\u001b[39m \u001b[43mcriterion\u001b[49m\u001b[43m(\u001b[49m\u001b[43moutput\u001b[49m\u001b[43m,\u001b[49m\u001b[43m \u001b[49m\u001b[43mtarget\u001b[49m\u001b[43m)\u001b[49m\n\u001b[1;32m     22\u001b[0m \u001b[38;5;28mprint\u001b[39m(loss,end\u001b[38;5;241m=\u001b[39m\u001b[38;5;124m\"\u001b[39m\u001b[38;5;130;01m\\r\u001b[39;00m\u001b[38;5;124m\"\u001b[39m)\n\u001b[1;32m     23\u001b[0m loss_dict[epoch]\u001b[38;5;241m.\u001b[39mappend(loss\u001b[38;5;241m.\u001b[39mdetach()\u001b[38;5;241m.\u001b[39mnumpy())\n",
      "File \u001b[0;32m~/opt/anaconda3/lib/python3.9/site-packages/torch/nn/functional.py:3127\u001b[0m, in \u001b[0;36mbinary_cross_entropy\u001b[0;34m(input, target, weight, size_average, reduce, reduction)\u001b[0m\n\u001b[1;32m   3124\u001b[0m     new_size \u001b[38;5;241m=\u001b[39m _infer_size(target\u001b[38;5;241m.\u001b[39msize(), weight\u001b[38;5;241m.\u001b[39msize())\n\u001b[1;32m   3125\u001b[0m     weight \u001b[38;5;241m=\u001b[39m weight\u001b[38;5;241m.\u001b[39mexpand(new_size)\n\u001b[0;32m-> 3127\u001b[0m \u001b[38;5;28;01mreturn\u001b[39;00m \u001b[43mtorch\u001b[49m\u001b[38;5;241;43m.\u001b[39;49m\u001b[43m_C\u001b[49m\u001b[38;5;241;43m.\u001b[39;49m\u001b[43m_nn\u001b[49m\u001b[38;5;241;43m.\u001b[39;49m\u001b[43mbinary_cross_entropy\u001b[49m\u001b[43m(\u001b[49m\u001b[38;5;28;43minput\u001b[39;49m\u001b[43m,\u001b[49m\u001b[43m \u001b[49m\u001b[43mtarget\u001b[49m\u001b[43m,\u001b[49m\u001b[43m \u001b[49m\u001b[43mweight\u001b[49m\u001b[43m,\u001b[49m\u001b[43m \u001b[49m\u001b[43mreduction_enum\u001b[49m\u001b[43m)\u001b[49m\n",
      "\u001b[0;31mRuntimeError\u001b[0m: all elements of target should be between 0 and 1"
     ]
    }
   ],
   "source": [
    "\n",
    "net = Net(87)\n",
    "print(net)\n",
    "pytorch_total_params = sum(p.numel() for p in net.parameters() if p.requires_grad)\n",
    "print(pytorch_total_params)\n",
    "# create your optimizer\n",
    "optimizer = optim.SGD(net.parameters(), lr=0.001, momentum=0.9)\n",
    "scheduler = torch.optim.lr_scheduler.ExponentialLR(optimizer, gamma=0.9)\n",
    "criterion = nn.functional.binary_cross_entropy\n",
    "loss_dict = {}\n",
    "epochs = 10\n",
    "for epoch in range(epochs):\n",
    "    print(epoch)\n",
    "    loss_dict[epoch] = []\n",
    "    for input,target in train_dataloader:\n",
    "        # in your training loop:\n",
    "        optimizer.zero_grad()   # zero the gradient buffers\n",
    "        output = net(input)\n",
    "        #target = torch.where(target<0,0,target)\n",
    "        #target = torch.where(target>1,1,target)\n",
    "        target = torch.where(torch.isnan(target),0,target)\n",
    "        loss = criterion(output, target)\n",
    "        print(loss,end=\"\\r\")\n",
    "        loss_dict[epoch].append(loss.detach().numpy())\n",
    "        loss.backward()\n",
    "        optimizer.step()    # Does the update\n",
    "    #print(scheduler.get_last_lr())\n",
    "    scheduler.step()"
   ]
  },
  {
   "cell_type": "code",
   "execution_count": 841,
   "id": "fdbcb22d",
   "metadata": {},
   "outputs": [
    {
     "data": {
      "image/png": "[encoded data removed]",
      "text/plain": [
       "<Figure size 432x288 with 1 Axes>"
      ]
     },
     "metadata": {
      "needs_background": "light"
     },
     "output_type": "display_data"
    }
   ],
   "source": [
    "for epoch,losses in loss_dict.items():\n",
    "    plt.plot(epoch*len(losses)+np.arange(len(losses)),np.array(losses))\n",
    "plt.semilogy()\n",
    "plt.ylabel(\"BCE Loss\")\n",
    "plt.xlabel(\"Training Step\")\n",
    "plt.ylim(1e-3)\n",
    "plt.show()"
   ]
  },
  {
   "cell_type": "code",
   "execution_count": 842,
   "id": "78994ce1",
   "metadata": {
    "scrolled": true
   },
   "outputs": [],
   "source": [
    "from matplotlib.colors import LogNorm\n",
    "pred_label = []\n",
    "true_label = []\n",
    "for input,target in train_dataloader:\n",
    "    output = net(input).detach().numpy()\n",
    "#     fig,ax = plt.subplots(1,2,figsize=(12,6))\n",
    "#     ax[0].pcolor(input[0,0],norm=LogNorm())\n",
    "#     label=\"Track\" if target[0,0]==0 else \"Cascade\"\n",
    "#     label+=\" (%2.2f)\"%output[0]\n",
    "#     ax[0].text(2,82,label,fontsize=14)\n",
    "#     ax[1].pcolor(input[0,1],norm=LogNorm())\n",
    "#     ax[0].set_title(\"Num Hits\")\n",
    "#     ax[1].set_title(\"Hit Time\")\n",
    "#     ax[0].set_ylabel(\"String ID\")\n",
    "#     ax[0].set_xlabel(\"Sensor ID\")\n",
    "#     ax[1].set_ylabel(\"String ID\")\n",
    "#     ax[1].set_xlabel(\"Sensor ID\")\n",
    "    \n",
    "#     plt.show()\n",
    "    true_label += list(target[:,0])\n",
    "    pred_label += list(output[:])"
   ]
  },
  {
   "cell_type": "code",
   "execution_count": 843,
   "id": "ab9311d8",
   "metadata": {
    "scrolled": true
   },
   "outputs": [],
   "source": [
    "from matplotlib.colors import LogNorm\n",
    "pred_label_test = []\n",
    "true_label_test = []\n",
    "for input,target in test_dataloader:\n",
    "    output = net(input).detach().numpy()\n",
    "#     fig,ax = plt.subplots(1,2,figsize=(12,6))\n",
    "#     ax[0].pcolor(input[0,0],norm=LogNorm())\n",
    "#     label=\"Track\" if target[0,0]==0 else \"Cascade\"\n",
    "#     label+=\" (%2.2f)\"%output[0]\n",
    "#     ax[0].text(2,82,label,fontsize=14)\n",
    "#     ax[1].pcolor(input[0,1],norm=LogNorm())\n",
    "#     ax[0].set_title(\"Num Hits\")\n",
    "#     ax[1].set_title(\"Hit Time\")\n",
    "#     ax[0].set_ylabel(\"String ID\")\n",
    "#     ax[0].set_xlabel(\"Sensor ID\")\n",
    "#     ax[1].set_ylabel(\"String ID\")\n",
    "#     ax[1].set_xlabel(\"Sensor ID\")\n",
    "    \n",
    "#     plt.show()\n",
    "    true_label_test += list(target[:,0])\n",
    "    pred_label_test += list(output[:])"
   ]
  },
  {
   "cell_type": "code",
   "execution_count": 844,
   "id": "ae99ed08",
   "metadata": {},
   "outputs": [
    {
     "data": {
      "image/png": "[encoded data removed]",
      "text/plain": [
       "<Figure size 432x288 with 1 Axes>"
      ]
     },
     "metadata": {
      "needs_background": "light"
     },
     "output_type": "display_data"
    }
   ],
   "source": [
    "pred = np.array(pred_label,dtype=float)\n",
    "true = np.array(true_label,dtype=float)\n",
    "pred_test = np.array(pred_label_test,dtype=float)\n",
    "true_test = np.array(true_label_test,dtype=float)\n",
    "plt.hist(pred[true==0],alpha=0.5,bins=np.linspace(0,1,50),label=\"train tracks\")\n",
    "plt.hist(pred[true==1],alpha=0.5,bins=np.linspace(0,1,50),label=\"train cascades\")\n",
    "plt.hist(pred_test[true_test==0],alpha=0.5,bins=np.linspace(0,1,50),label=\"test tracks\")\n",
    "plt.hist(pred_test[true_test==1],alpha=0.5,bins=np.linspace(0,1,50),label=\"test cascades\")\n",
    "plt.xlabel(\"Cascade score\")\n",
    "plt.ylabel(\"Events\")\n",
    "plt.semilogy()\n",
    "plt.legend(fontsize=14)\n",
    "plt.show()\n",
    "# plt.hist2d(true_azimuth,pred_azimuth,bins=np.linspace(-np.pi,np.pi,50))\n",
    "# plt.show()"
   ]
  },
  {
   "cell_type": "code",
   "execution_count": null,
   "id": "c8ea8f8e",
   "metadata": {},
   "outputs": [],
   "source": []
  }
 ],
 "metadata": {
  "kernelspec": {
   "display_name": "Python 3 (ipykernel)",
   "language": "python",
   "name": "python3"
  },
  "language_info": {
   "codemirror_mode": {
    "name": "ipython",
    "version": 3
   },
   "file_extension": ".py",
   "mimetype": "text/x-python",
   "name": "python",
   "nbconvert_exporter": "python",
   "pygments_lexer": "ipython3",
   "version": "3.9.12"
  }
 },
 "nbformat": 4,
 "nbformat_minor": 5
}
