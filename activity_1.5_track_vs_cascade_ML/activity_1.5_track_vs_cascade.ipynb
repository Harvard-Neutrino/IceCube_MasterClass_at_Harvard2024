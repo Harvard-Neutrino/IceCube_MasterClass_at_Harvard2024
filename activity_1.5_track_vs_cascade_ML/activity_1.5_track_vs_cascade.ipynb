{
 "cells": [
  {
   "cell_type": "code",
   "execution_count": null,
   "id": "3cf72264",
   "metadata": {},
   "outputs": [],
   "source": [
    "# needed for figures to appear in colab \n",
    "from google.colab import output\n",
    "output.enable_custom_widget_manager()\n",
    "\n",
    "!rm -rf sample_data\n",
    "\n",
    "# download reduced_electrons.parquet\n",
    "!gdown https://drive.google.com/uc?id=1BVTkqniSfwJsVsUnNhM_FjMueXfotr2f\n",
    "\n",
    "# download reduced_muons.parquet\n",
    "!gdown https://drive.google.com/uc?id=1nJpyojI8CAwaq5P_ZcqgeKhfBEVCQn9n\n",
    "\n",
    "# download pre-prepared analysis code\n",
    "!rm -rf IceCube_MasterClass_at_Harvard2024\n",
    "!git clone \"https://github.com/kcarloni/IceCube_MasterClass_at_Harvard2024\";\n",
    "\n",
    "# Import some standard python libraries\n",
    "import sys\n",
    "import numpy as np\n",
    "import matplotlib.pyplot as plt\n",
    "\n",
    "# Import some custom libraries for this example\n",
    "sys.path.insert(0, \"./IceCube_MasterClass_at_Harvard2024/\")\n",
    "from src.ml_tools import *"
   ]
  },
  {
   "cell_type": "code",
   "execution_count": null,
   "id": "afd2a71b",
   "metadata": {},
   "outputs": [],
   "source": [
    "# Load a Python class that will guide this ML example\n",
    "MLHelper = MLHelper(\"reduced_muons.parquet\",\n",
    "                    \"reduced_electrons.parquet\")"
   ]
  },
  {
   "cell_type": "code",
   "execution_count": null,
   "id": "993f3628",
   "metadata": {},
   "outputs": [],
   "source": [
    "width = 10 # how \"wide\" the network is, which will determine the number of paremeters\n",
    "N_train = 1000 # how many training examples to use. Pick a number between 1 and 5000\n",
    "\n",
    "# Make the network\n",
    "MLHelper.MakeNetwork(width=width)\n",
    "\n",
    "# Make the training data\n",
    "MLHelper.MakeTrainingDataset(N_train=N_train)"
   ]
  },
  {
   "cell_type": "code",
   "execution_count": null,
   "id": "09d12786",
   "metadata": {},
   "outputs": [],
   "source": [
    "loss_dict = MLHelper.train(num_epochs=2)\n",
    "for epoch,losses in loss_dict.items():\n",
    "    if epoch>0:\n",
    "        plt.plot(epoch*len(losses)-1+np.arange(len(losses)+1),np.array([loss_dict[epoch-1][-1]]+losses))\n",
    "    else:\n",
    "        plt.plot(epoch*len(losses)+np.arange(len(losses)),np.array(losses))\n",
    "plt.semilogy()\n",
    "plt.ylabel(\"BCE Loss\",fontsize=14)\n",
    "plt.xlabel(\"Training Step\",fontsize=14)\n",
    "plt.show()"
   ]
  },
  {
   "cell_type": "code",
   "execution_count": null,
   "id": "2fe133ee",
   "metadata": {},
   "outputs": [],
   "source": [
    "event_no = 1\n",
    "MLHelper.plot_event(event_no,\n",
    "                    reveal_network_predition=True,\n",
    "                    reveal_true_label=True)"
   ]
  },
  {
   "cell_type": "code",
   "execution_count": null,
   "id": "ab9311d8",
   "metadata": {
    "scrolled": true
   },
   "outputs": [],
   "source": [
    "# Save network scores on the test data\n",
    "pred_label_test = []\n",
    "true_label_test = []\n",
    "for input,target in MLHelper.test_dataloader:\n",
    "    output = MLHelper.net(input).detach().numpy()\n",
    "    true_label_test += list(target[:,0])\n",
    "    pred_label_test += list(output[:])\n",
    "pred_test = np.array(pred_label_test,dtype=float)\n",
    "true_test = np.array(true_label_test,dtype=float)"
   ]
  },
  {
   "cell_type": "code",
   "execution_count": null,
   "id": "ae99ed08",
   "metadata": {},
   "outputs": [],
   "source": [
    "bins = np.linspace(0,1,10)\n",
    "fig = plt.figure(figsize=(8,6))\n",
    "# Plot network score distributions\n",
    "plt.hist(pred_test[true_test==0],alpha=0.5,bins=bins,label=\"Test data: muons\",color=\"dodgerblue\")\n",
    "plt.hist(pred_test[true_test==1],alpha=0.5,bins=bins,label=\"Test data: electrons\",color=\"orangered\")\n",
    "plt.xlabel(\"Electron score\", fontsize=14)\n",
    "plt.ylabel(\"Number of events\",fontsize=14)\n",
    "plt.semilogy()\n",
    "plt.legend(fontsize=14)\n",
    "plt.show()"
   ]
  }
 ],
 "metadata": {
  "kernelspec": {
   "display_name": "Python 3 (ipykernel)",
   "language": "python",
   "name": "python3"
  },
  "language_info": {
   "codemirror_mode": {
    "name": "ipython",
    "version": 3
   },
   "file_extension": ".py",
   "mimetype": "text/x-python",
   "name": "python",
   "nbconvert_exporter": "python",
   "pygments_lexer": "ipython3",
   "version": "3.9.12"
  }
 },
 "nbformat": 4,
 "nbformat_minor": 5
}
