{
 "cells": [
  {
   "cell_type": "code",
   "execution_count": 5,
   "id": "3cf72264",
   "metadata": {},
   "outputs": [],
   "source": [
    "# Import some standard python libraries\n",
    "import sys\n",
    "import matplotlib.pyplot as plt\n",
    "\n",
    "# Import some custom libraries for this example\n",
    "sys.path.insert(0, \"../\")\n",
    "from src.ml_tools import *"
   ]
  },
  {
   "cell_type": "code",
   "execution_count": 8,
   "id": "afd2a71b",
   "metadata": {},
   "outputs": [
    {
     "name": "stdout",
     "output_type": "stream",
     "text": [
      "Created neural network with 3975287 trainable parameters\n"
     ]
    }
   ],
   "source": [
    "data_dir = \"/Users/nickkamp/Documents/Harvard/Research/Prometheus/PublicDatasets/IceCube_HE\"\n",
    "MLHelper = MLHelper(\"%s/MuMinus/reduced_muons.parquet\"%data_dir,\n",
    "                    \"%s/EMinus/reduced_electrons.parquet\"%data_dir)"
   ]
  },
  {
   "cell_type": "code",
   "execution_count": 9,
   "id": "09d12786",
   "metadata": {},
   "outputs": [
    {
     "name": "stdout",
     "output_type": "stream",
     "text": [
      "Beginning epoch 0/1\n",
      "\n",
      "Beginning epoch 1/143\n",
      "\n",
      "Training loss: 0.031\r"
     ]
    },
    {
     "data": {
      "image/png": "[encoded data removed]",
      "text/plain": [
       "<Figure size 432x288 with 1 Axes>"
      ]
     },
     "metadata": {
      "needs_background": "light"
     },
     "output_type": "display_data"
    }
   ],
   "source": [
    "loss_dict = MLHelper.train(num_epochs=1)\n",
    "for epoch,losses in loss_dict.items():\n",
    "    plt.plot(epoch*len(losses)+np.arange(len(losses)),np.array(losses))\n",
    "plt.semilogy()\n",
    "plt.ylabel(\"BCE Loss\")\n",
    "plt.xlabel(\"Training Step\")\n",
    "plt.ylim(1e-3)\n",
    "plt.show()"
   ]
  },
  {
   "cell_type": "code",
   "execution_count": 10,
   "id": "2fe133ee",
   "metadata": {},
   "outputs": [
    {
     "data": {
      "application/vnd.plotly.v1+json": {
       "config": {
        "plotlyServerURL": "https://plot.ly"
       },
       "data": [
        {
         "hoverinfo": "skip",
         "line": {
          "color": "lightgrey",
          "width": 1
         },
         "mode": "lines",
         "showlegend": false,
         "type": "scatter3d",
         "uid": "eb9cd3ab-5a2e-4d13-aef2-479e8bfa9080",
         "x": [
          -256.14,
          -256.14
         ],
         "y": [
          -521.08,
          -521.08
         ],
         "z": [
          -1441.93,
          -2453.06
         ]
        },
        {
         "hoverinfo": "skip",
         "line": {
          "color": "lightgrey",
          "width": 1
         },
         "mode": "lines",
         "showlegend": false,
         "type": "scatter3d",
         "uid": "9021d84c-3ab4-4f38-ad69-8f94e02df2a3",
         "x": [
          -132.8,
          -132.8
         ],
         "y": [
          -501.45,
          -501.45
         ],
         "z": [
          -1441.93,
          -2453.06
         ]
        },
        {
         "hoverinfo": "skip",
         "line": {
          "color": "lightgrey",
          "width": 1
         },
         "mode": "lines",
         "showlegend": false,
         "type": "scatter3d",
         "uid": "d4712dc4-2df2-4275-805b-47d6cabdf6a6",
         "x": [
          -9.13,
          -9.13
         ],
         "y": [
          -481.74,
          -481.74
         ],
         "z": [
          -1441.93,
          -2453.06
         ]
        },
        {
         "hoverinfo": "skip",
         "line": {
          "color": "lightgrey",
          "width": 1
         },
         "mode": "lines",
         "showlegend": false,
         "type": "scatter3d",
         "uid": "099df03e-10aa-4345-8207-d7c44a386770",
         "x": [
          114.39,
          114.39
         ],
         "y": [
          -461.99,
          -461.99
         ],
         "z": [
          -1441.93,
          -2453.06
         ]
        },
        {
         "hoverinfo": "skip",
         "line": {
          "color": "lightgrey",
          "width": 1
         },
         "mode": "lines",
         "showlegend": false,
         "type": "scatter3d",
         "uid": "2f50e729-d893-4850-bca1-dddcc61da551",
         "x": [
          237.78,
          237.78
         ],
         "y": [
          -442.42,
          -442.42
         ],
         "z": [
          -1441.93,
          -2453.06
         ]
        },
        {
         "hoverinfo": "skip",
         "line": {
          "color": "lightgrey",
          "width": 1
         },
         "mode": "lines",
         "showlegend": false,
         "type": "scatter3d",
         "uid": "e2701707-ac79-4b95-81b5-4b5b1472613f",
         "x": [
          361,
          361
         ],
         "y": [
          -422.83,
          -422.83
         ],
         "z": [
          -1441.93,
          -2453.06
         ]
        },
        {
         "hoverinfo": "skip",
         "line": {
          "color": "lightgrey",
          "width": 1
         },
         "mode": "lines",
         "showlegend": false,
         "type": "scatter3d",
         "uid": "15d979ae-0209-42d0-8659-7aa9685dda74",
         "x": [
          -334.8,
          -334.8
         ],
         "y": [
          -424.5,
          -424.5
         ],
         "z": [
          -1441.93,
          -2453.06
         ]
        },
        {
         "hoverinfo": "skip",
         "line": {
          "color": "lightgrey",
          "width": 1
         },
         "mode": "lines",
         "showlegend": false,
         "type": "scatter3d",
         "uid": "8a393fee-77d1-4ecf-8057-670ea4171ea2",
         "x": [
          -211.35,
          -211.35
         ],
         "y": [
          -404.48,
          -404.48
         ],
         "z": [
          -1441.93,
          -2453.06
         ]
        },
        {
         "hoverinfo": "skip",
         "line": {
          "color": "lightgrey",
          "width": 1
         },
         "mode": "lines",
         "showlegend": false,
         "type": "scatter3d",
         "uid": "81f23679-9622-4720-89c5-a3777e593bd7",
         "x": [
          -88.05,
          -88.05
         ],
         "y": [
          -384.3,
          -384.3
         ],
         "z": [
          -1441.93,
          -2453.06
         ]
        },
        {
         "hoverinfo": "skip",
         "line": {
          "color": "lightgrey",
          "width": 1
         },
         "mode": "lines",
         "showlegend": false,
         "type": "scatter3d",
         "uid": "4be0049d-e1e5-402a-aebf-21743971fc93",
         "x": [
          35.54,
          35.54
         ],
         "y": [
          -364.83,
          -364.83
         ],
         "z": [
          -1441.93,
          -2453.06
         ]
        },
        {
         "hoverinfo": "skip",
         "line": {
          "color": "lightgrey",
          "width": 1
         },
         "mode": "lines",
         "showlegend": false,
         "type": "scatter3d",
         "uid": "542d783e-3226-4a58-8c63-ba9f13c8aea2",
         "x": [
          158.94,
          158.94
         ],
         "y": [
          -345.23,
          -345.23
         ],
         "z": [
          -1441.93,
          -2453.06
         ]
        },
        {
         "hoverinfo": "skip",
         "line": {
          "color": "lightgrey",
          "width": 1
         },
         "mode": "lines",
         "showlegend": false,
         "type": "scatter3d",
         "uid": "3f6bf124-84ca-4974-ab1f-8f884bc3f130",
         "x": [
          282.18,
          282.18
         ],
         "y": [
          -325.74,
          -325.74
         ],
         "z": [
          -1441.93,
          -2453.06
         ]
        },
        {
         "hoverinfo": "skip",
         "line": {
          "color": "lightgrey",
          "width": 1
         },
         "mode": "lines",
         "showlegend": false,
         "type": "scatter3d",
         "uid": "c49bbef9-6322-4f20-81fd-f24c51feeddb",
         "x": [
          405.83,
          405.83
         ],
         "y": [
          -306.38,
          -306.38
         ],
         "z": [
          -1441.93,
          -2453.06
         ]
        },
        {
         "hoverinfo": "skip",
         "line": {
          "color": "lightgrey",
          "width": 1
         },
         "mode": "lines",
         "showlegend": false,
         "type": "scatter3d",
         "uid": "8c6cb9d4-cbd0-4de7-a1e1-5e172207b82f",
         "x": [
          -413.46,
          -413.46
         ],
         "y": [
          -327.27,
          -327.27
         ],
         "z": [
          -1441.93,
          -2453.06
         ]
        },
        {
         "hoverinfo": "skip",
         "line": {
          "color": "lightgrey",
          "width": 1
         },
         "mode": "lines",
         "showlegend": false,
         "type": "scatter3d",
         "uid": "f3627eb7-c619-405c-9a8b-f406b1e28f26",
         "x": [
          -290.66,
          -290.66
         ],
         "y": [
          -307.38,
          -307.38
         ],
         "z": [
          -1441.93,
          -2453.06
         ]
        },
        {
         "hoverinfo": "skip",
         "line": {
          "color": "lightgrey",
          "width": 1
         },
         "mode": "lines",
         "showlegend": false,
         "type": "scatter3d",
         "uid": "f0867ec7-d7fb-4562-b0a9-f0baaf0487c4",
         "x": [
          -166.4,
          -166.4
         ],
         "y": [
          -287.79,
          -287.79
         ],
         "z": [
          -1441.93,
          -2453.06
         ]
        },
        {
         "hoverinfo": "skip",
         "line": {
          "color": "lightgrey",
          "width": 1
         },
         "mode": "lines",
         "showlegend": false,
         "type": "scatter3d",
         "uid": "a7dce19d-d51e-4f43-9fae-1ef00980e857",
         "x": [
          -43.27,
          -43.27
         ],
         "y": [
          -267.52,
          -267.52
         ],
         "z": [
          -1441.93,
          -2453.06
         ]
        },
        {
         "hoverinfo": "skip",
         "line": {
          "color": "lightgrey",
          "width": 1
         },
         "mode": "lines",
         "showlegend": false,
         "type": "scatter3d",
         "uid": "b48b6188-b6fa-43b9-9ea6-c46ba74c679b",
         "x": [
          79.41,
          79.41
         ],
         "y": [
          -248.24,
          -248.24
         ],
         "z": [
          -1441.93,
          -2453.06
         ]
        },
        {
         "hoverinfo": "skip",
         "line": {
          "color": "lightgrey",
          "width": 1
         },
         "mode": "lines",
         "showlegend": false,
         "type": "scatter3d",
         "uid": "7625ad58-a717-41f3-9b9a-830a6c80210c",
         "x": [
          210.47,
          210.47
         ],
         "y": [
          -209.77,
          -209.77
         ],
         "z": [
          -1441.93,
          -2453.06
         ]
        },
        {
         "hoverinfo": "skip",
         "line": {
          "color": "lightgrey",
          "width": 1
         },
         "mode": "lines",
         "showlegend": false,
         "type": "scatter3d",
         "uid": "cb713f98-3396-4a58-b3ee-d48dcbd2d301",
         "x": [
          326.85,
          326.85
         ],
         "y": [
          -209.07,
          -209.07
         ],
         "z": [
          -1441.93,
          -2453.06
         ]
        },
        {
         "hoverinfo": "skip",
         "line": {
          "color": "lightgrey",
          "width": 1
         },
         "mode": "lines",
         "showlegend": false,
         "type": "scatter3d",
         "uid": "7b908353-4153-476a-b6d4-0291c35bee04",
         "x": [
          443.55,
          443.55
         ],
         "y": [
          -194.16,
          -194.16
         ],
         "z": [
          -1441.93,
          -2453.06
         ]
        },
        {
         "hoverinfo": "skip",
         "line": {
          "color": "lightgrey",
          "width": 1
         },
         "mode": "lines",
         "showlegend": false,
         "type": "scatter3d",
         "uid": "61063fb1-1511-4055-86c2-266a71a124f1",
         "x": [
          -492.43,
          -492.43
         ],
         "y": [
          -230.16,
          -230.16
         ],
         "z": [
          -1441.93,
          -2453.06
         ]
        },
        {
         "hoverinfo": "skip",
         "line": {
          "color": "lightgrey",
          "width": 1
         },
         "mode": "lines",
         "showlegend": false,
         "type": "scatter3d",
         "uid": "e8f200b7-8d5c-44cf-8a84-ed7c2796d2e6",
         "x": [
          -368.93,
          -368.93
         ],
         "y": [
          -210.23,
          -210.23
         ],
         "z": [
          -1441.93,
          -2453.06
         ]
        },
        {
         "hoverinfo": "skip",
         "line": {
          "color": "lightgrey",
          "width": 1
         },
         "mode": "lines",
         "showlegend": false,
         "type": "scatter3d",
         "uid": "1d422d96-51c8-454d-ad3f-0e6ec5956c68",
         "x": [
          -245.65,
          -245.65
         ],
         "y": [
          -190.49,
          -190.49
         ],
         "z": [
          -1441.93,
          -2453.06
         ]
        },
        {
         "hoverinfo": "skip",
         "line": {
          "color": "lightgrey",
          "width": 1
         },
         "mode": "lines",
         "showlegend": false,
         "type": "scatter3d",
         "uid": "cf1126b9-7806-4fd1-a0a5-6adb95f98deb",
         "x": [
          -121.77,
          -121.77
         ],
         "y": [
          -171.03,
          -171.03
         ],
         "z": [
          -1441.93,
          -2453.06
         ]
        },
        {
         "hoverinfo": "skip",
         "line": {
          "color": "lightgrey",
          "width": 1
         },
         "mode": "lines",
         "showlegend": false,
         "type": "scatter3d",
         "uid": "ab0363af-4eb8-445e-ba25-d2ffbd03f34c",
         "x": [
          1.71,
          1.71
         ],
         "y": [
          -150.63,
          -150.63
         ],
         "z": [
          -1441.93,
          -2453.06
         ]
        },
        {
         "hoverinfo": "skip",
         "line": {
          "color": "lightgrey",
          "width": 1
         },
         "mode": "lines",
         "showlegend": false,
         "type": "scatter3d",
         "uid": "c6120e5b-8040-436c-8a47-101e818b395b",
         "x": [
          124.97,
          124.97
         ],
         "y": [
          -131.25,
          -131.25
         ],
         "z": [
          -1441.93,
          -2453.06
         ]
        },
        {
         "hoverinfo": "skip",
         "line": {
          "color": "lightgrey",
          "width": 1
         },
         "mode": "lines",
         "showlegend": false,
         "type": "scatter3d",
         "uid": "9e832f59-b33d-4277-9e4e-c6c6838e127c",
         "x": [
          248.15,
          248.15
         ],
         "y": [
          -111.87,
          -111.87
         ],
         "z": [
          -1441.93,
          -2453.06
         ]
        },
        {
         "hoverinfo": "skip",
         "line": {
          "color": "lightgrey",
          "width": 1
         },
         "mode": "lines",
         "showlegend": false,
         "type": "scatter3d",
         "uid": "24183d8a-4328-4f6e-8e5e-fecda9b4b426",
         "x": [
          371.56,
          371.56
         ],
         "y": [
          -92.18,
          -92.18
         ],
         "z": [
          -1441.93,
          -2453.06
         ]
        },
        {
         "hoverinfo": "skip",
         "line": {
          "color": "lightgrey",
          "width": 1
         },
         "mode": "lines",
         "showlegend": false,
         "type": "scatter3d",
         "uid": "71d7cac7-66f4-4001-a09b-3e7639c21806",
         "x": [
          500.43,
          500.43
         ],
         "y": [
          -58.45,
          -58.45
         ],
         "z": [
          -1441.93,
          -2453.06
         ]
        },
        {
         "hoverinfo": "skip",
         "line": {
          "color": "lightgrey",
          "width": 1
         },
         "mode": "lines",
         "showlegend": false,
         "type": "scatter3d",
         "uid": "b1f37a5d-7d2b-499a-b8df-b7e23aefd137",
         "x": [
          -570.9,
          -570.9
         ],
         "y": [
          -125.14,
          -125.14
         ],
         "z": [
          -1441.93,
          -2453.06
         ]
        },
        {
         "hoverinfo": "skip",
         "line": {
          "color": "lightgrey",
          "width": 1
         },
         "mode": "lines",
         "showlegend": false,
         "type": "scatter3d",
         "uid": "b935cd33-37e0-4304-bdbd-ec2c84cb8e7b",
         "x": [
          -447.74,
          -447.74
         ],
         "y": [
          -113.13,
          -113.13
         ],
         "z": [
          -1441.93,
          -2453.06
         ]
        },
        {
         "hoverinfo": "skip",
         "line": {
          "color": "lightgrey",
          "width": 1
         },
         "mode": "lines",
         "showlegend": false,
         "type": "scatter3d",
         "uid": "0be887ae-f892-48f0-a096-2e00a47db96d",
         "x": [
          -324.39,
          -324.39
         ],
         "y": [
          -93.43,
          -93.43
         ],
         "z": [
          -1441.93,
          -2453.06
         ]
        },
        {
         "hoverinfo": "skip",
         "line": {
          "color": "lightgrey",
          "width": 1
         },
         "mode": "lines",
         "showlegend": false,
         "type": "scatter3d",
         "uid": "c6b57b65-731f-400e-b093-ce2cc9afdf0a",
         "x": [
          -200.55,
          -200.55
         ],
         "y": [
          -74.03,
          -74.03
         ],
         "z": [
          -1441.93,
          -2453.06
         ]
        },
        {
         "hoverinfo": "skip",
         "line": {
          "color": "lightgrey",
          "width": 1
         },
         "mode": "lines",
         "showlegend": false,
         "type": "scatter3d",
         "uid": "21229d72-eff3-42d6-b251-0dc7ccf18923",
         "x": [
          -77.8,
          -77.8
         ],
         "y": [
          -54.33,
          -54.33
         ],
         "z": [
          -1441.93,
          -2453.06
         ]
        },
        {
         "hoverinfo": "skip",
         "line": {
          "color": "lightgrey",
          "width": 1
         },
         "mode": "lines",
         "showlegend": false,
         "type": "scatter3d",
         "uid": "b52135aa-f7f5-4df3-af7d-f8e608f825f8",
         "x": [
          46.29,
          46.29
         ],
         "y": [
          -34.88,
          -34.88
         ],
         "z": [
          -1441.93,
          -2453.06
         ]
        },
        {
         "hoverinfo": "skip",
         "line": {
          "color": "lightgrey",
          "width": 1
         },
         "mode": "lines",
         "showlegend": false,
         "type": "scatter3d",
         "uid": "6705e629-9078-460d-bf65-ebc0950bb28d",
         "x": [
          194.34,
          194.34
         ],
         "y": [
          -30.92,
          -30.92
         ],
         "z": [
          -1441.93,
          -2453.06
         ]
        },
        {
         "hoverinfo": "skip",
         "line": {
          "color": "lightgrey",
          "width": 1
         },
         "mode": "lines",
         "showlegend": false,
         "type": "scatter3d",
         "uid": "83c02bab-874a-41a2-9775-80cfa509a6f7",
         "x": [
          292.9,
          292.9
         ],
         "y": [
          5.2,
          5.2
         ],
         "z": [
          -1441.93,
          -2453.06
         ]
        },
        {
         "hoverinfo": "skip",
         "line": {
          "color": "lightgrey",
          "width": 1
         },
         "mode": "lines",
         "showlegend": false,
         "type": "scatter3d",
         "uid": "2f389eae-3e09-49d6-bcb2-c34ea7bd9ed5",
         "x": [
          411.81,
          411.81
         ],
         "y": [
          13,
          13
         ],
         "z": [
          -1441.93,
          -2453.06
         ]
        },
        {
         "hoverinfo": "skip",
         "line": {
          "color": "lightgrey",
          "width": 1
         },
         "mode": "lines",
         "showlegend": false,
         "type": "scatter3d",
         "uid": "6cb4b91f-d359-4b1c-9de8-4cb5bb934626",
         "x": [
          544.07,
          544.07
         ],
         "y": [
          55.89,
          55.89
         ],
         "z": [
          -1441.93,
          -2453.06
         ]
        },
        {
         "hoverinfo": "skip",
         "line": {
          "color": "lightgrey",
          "width": 1
         },
         "mode": "lines",
         "showlegend": false,
         "type": "scatter3d",
         "uid": "f5121624-3499-4223-aaf6-ec7c2893ea82",
         "x": [
          -526.63,
          -526.63
         ],
         "y": [
          -15.6,
          -15.6
         ],
         "z": [
          -1441.93,
          -2453.06
         ]
        },
        {
         "hoverinfo": "skip",
         "line": {
          "color": "lightgrey",
          "width": 1
         },
         "mode": "lines",
         "showlegend": false,
         "type": "scatter3d",
         "uid": "6a4707ef-3561-43de-9504-5a8bb940889b",
         "x": [
          -403.14,
          -403.14
         ],
         "y": [
          3.49,
          3.49
         ],
         "z": [
          -1441.93,
          -2453.06
         ]
        },
        {
         "hoverinfo": "skip",
         "line": {
          "color": "lightgrey",
          "width": 1
         },
         "mode": "lines",
         "showlegend": false,
         "type": "scatter3d",
         "uid": "5d1be093-3d59-4f18-84fd-3da5fcc88569",
         "x": [
          -279.53,
          -279.53
         ],
         "y": [
          23.17,
          23.17
         ],
         "z": [
          -1441.93,
          -2453.06
         ]
        },
        {
         "hoverinfo": "skip",
         "line": {
          "color": "lightgrey",
          "width": 1
         },
         "mode": "lines",
         "showlegend": false,
         "type": "scatter3d",
         "uid": "e516fc56-be03-4785-9db7-27f7f7f5a81b",
         "x": [
          -156.23,
          -156.23
         ],
         "y": [
          43.37,
          43.37
         ],
         "z": [
          -1441.93,
          -2453.06
         ]
        },
        {
         "hoverinfo": "skip",
         "line": {
          "color": "lightgrey",
          "width": 1
         },
         "mode": "lines",
         "showlegend": false,
         "type": "scatter3d",
         "uid": "37e4e5bd-8899-4c2a-8748-0402067d5650",
         "x": [
          -32.96,
          -32.96
         ],
         "y": [
          62.44,
          62.44
         ],
         "z": [
          -1441.93,
          -2453.06
         ]
        },
        {
         "hoverinfo": "skip",
         "line": {
          "color": "lightgrey",
          "width": 1
         },
         "mode": "lines",
         "showlegend": false,
         "type": "scatter3d",
         "uid": "9e7eeaac-ecfe-4109-a108-f0df880b7226",
         "x": [
          90.49,
          90.49
         ],
         "y": [
          82.35,
          82.35
         ],
         "z": [
          -1441.93,
          -2453.06
         ]
        },
        {
         "hoverinfo": "skip",
         "line": {
          "color": "lightgrey",
          "width": 1
         },
         "mode": "lines",
         "showlegend": false,
         "type": "scatter3d",
         "uid": "0659d655-d3fd-4c5b-b232-d1f440bd69ce",
         "x": [
          195.03,
          195.03
         ],
         "y": [
          125.59,
          125.59
         ],
         "z": [
          -1441.93,
          -2453.06
         ]
        },
        {
         "hoverinfo": "skip",
         "line": {
          "color": "lightgrey",
          "width": 1
         },
         "mode": "lines",
         "showlegend": false,
         "type": "scatter3d",
         "uid": "e1aa7404-4760-442d-9263-48f61bdbdad8",
         "x": [
          330.03,
          330.03
         ],
         "y": [
          127.2,
          127.2
         ],
         "z": [
          -1441.93,
          -2453.06
         ]
        },
        {
         "hoverinfo": "skip",
         "line": {
          "color": "lightgrey",
          "width": 1
         },
         "mode": "lines",
         "showlegend": false,
         "type": "scatter3d",
         "uid": "b0d13b7e-8d3d-4534-9845-2800d87358f7",
         "x": [
          472.05,
          472.05
         ],
         "y": [
          127.9,
          127.9
         ],
         "z": [
          -1441.93,
          -2453.06
         ]
        },
        {
         "hoverinfo": "skip",
         "line": {
          "color": "lightgrey",
          "width": 1
         },
         "mode": "lines",
         "showlegend": false,
         "type": "scatter3d",
         "uid": "d986078d-5a56-484a-a998-b00741b4ca10",
         "x": [
          576.37,
          576.37
         ],
         "y": [
          170.92,
          170.92
         ],
         "z": [
          -1441.93,
          -2453.06
         ]
        },
        {
         "hoverinfo": "skip",
         "line": {
          "color": "lightgrey",
          "width": 1
         },
         "mode": "lines",
         "showlegend": false,
         "type": "scatter3d",
         "uid": "dc05eb73-9461-4857-8298-1fae2ef96d3d",
         "x": [
          -481.6,
          -481.6
         ],
         "y": [
          101.39,
          101.39
         ],
         "z": [
          -1441.93,
          -2453.06
         ]
        },
        {
         "hoverinfo": "skip",
         "line": {
          "color": "lightgrey",
          "width": 1
         },
         "mode": "lines",
         "showlegend": false,
         "type": "scatter3d",
         "uid": "593f0f43-78c5-4943-913f-e096d1e8896d",
         "x": [
          -358.44,
          -358.44
         ],
         "y": [
          120.56,
          120.56
         ],
         "z": [
          -1441.93,
          -2453.06
         ]
        },
        {
         "hoverinfo": "skip",
         "line": {
          "color": "lightgrey",
          "width": 1
         },
         "mode": "lines",
         "showlegend": false,
         "type": "scatter3d",
         "uid": "b0e4339a-112f-45a0-8bcd-b4808e3fc646",
         "x": [
          -234.95,
          -234.95
         ],
         "y": [
          140.44,
          140.44
         ],
         "z": [
          -1441.93,
          -2453.06
         ]
        },
        {
         "hoverinfo": "skip",
         "line": {
          "color": "lightgrey",
          "width": 1
         },
         "mode": "lines",
         "showlegend": false,
         "type": "scatter3d",
         "uid": "ca86f77e-d3e3-40b2-beaf-ed0892067641",
         "x": [
          -111.51,
          -111.51
         ],
         "y": [
          159.98,
          159.98
         ],
         "z": [
          -1441.93,
          -2453.06
         ]
        },
        {
         "hoverinfo": "skip",
         "line": {
          "color": "lightgrey",
          "width": 1
         },
         "mode": "lines",
         "showlegend": false,
         "type": "scatter3d",
         "uid": "056861ba-6105-4be6-ad4c-6291630b8edd",
         "x": [
          11.87,
          11.87
         ],
         "y": [
          179.19,
          179.19
         ],
         "z": [
          -1441.93,
          -2453.06
         ]
        },
        {
         "hoverinfo": "skip",
         "line": {
          "color": "lightgrey",
          "width": 1
         },
         "mode": "lines",
         "showlegend": false,
         "type": "scatter3d",
         "uid": "70ae6c3e-3754-494e-b5d6-5f0e72f1ed69",
         "x": [
          132.03,
          132.03
         ],
         "y": [
          202.98,
          202.98
         ],
         "z": [
          -1441.93,
          -2453.06
         ]
        },
        {
         "hoverinfo": "skip",
         "line": {
          "color": "lightgrey",
          "width": 1
         },
         "mode": "lines",
         "showlegend": false,
         "type": "scatter3d",
         "uid": "ea1410a5-42d1-484c-af1c-e33ca780d7e8",
         "x": [
          257.31,
          257.31
         ],
         "y": [
          211.66,
          211.66
         ],
         "z": [
          -1441.93,
          -2453.06
         ]
        },
        {
         "hoverinfo": "skip",
         "line": {
          "color": "lightgrey",
          "width": 1
         },
         "mode": "lines",
         "showlegend": false,
         "type": "scatter3d",
         "uid": "f8e33851-a598-4b29-9374-fd0b08652ae8",
         "x": [
          382.35,
          382.35
         ],
         "y": [
          238.9,
          238.9
         ],
         "z": [
          -1441.93,
          -2453.06
         ]
        },
        {
         "hoverinfo": "skip",
         "line": {
          "color": "lightgrey",
          "width": 1
         },
         "mode": "lines",
         "showlegend": false,
         "type": "scatter3d",
         "uid": "2c93ca75-790c-40c7-9055-d504eab875db",
         "x": [
          505.27,
          505.27
         ],
         "y": [
          257.88,
          257.88
         ],
         "z": [
          -1441.93,
          -2453.06
         ]
        },
        {
         "hoverinfo": "skip",
         "line": {
          "color": "lightgrey",
          "width": 1
         },
         "mode": "lines",
         "showlegend": false,
         "type": "scatter3d",
         "uid": "9ca82bfe-840d-431d-859e-7970c049dad1",
         "x": [
          -437.04,
          -437.04
         ],
         "y": [
          217.8,
          217.8
         ],
         "z": [
          -1441.93,
          -2453.06
         ]
        },
        {
         "hoverinfo": "skip",
         "line": {
          "color": "lightgrey",
          "width": 1
         },
         "mode": "lines",
         "showlegend": false,
         "type": "scatter3d",
         "uid": "34edb2b3-49fa-429b-9c48-a73ac10d6418",
         "x": [
          -313.6,
          -313.6
         ],
         "y": [
          237.44,
          237.44
         ],
         "z": [
          -1441.93,
          -2453.06
         ]
        },
        {
         "hoverinfo": "skip",
         "line": {
          "color": "lightgrey",
          "width": 1
         },
         "mode": "lines",
         "showlegend": false,
         "type": "scatter3d",
         "uid": "4a53c551-65ba-49ef-bc67-af4abb74dd04",
         "x": [
          -189.98,
          -189.98
         ],
         "y": [
          257.42,
          257.42
         ],
         "z": [
          -1441.93,
          -2453.06
         ]
        },
        {
         "hoverinfo": "skip",
         "line": {
          "color": "lightgrey",
          "width": 1
         },
         "mode": "lines",
         "showlegend": false,
         "type": "scatter3d",
         "uid": "3e502bee-5362-43df-a62d-86a6add23353",
         "x": [
          -66.7,
          -66.7
         ],
         "y": [
          276.92,
          276.92
         ],
         "z": [
          -1441.93,
          -2453.06
         ]
        },
        {
         "hoverinfo": "skip",
         "line": {
          "color": "lightgrey",
          "width": 1
         },
         "mode": "lines",
         "showlegend": false,
         "type": "scatter3d",
         "uid": "14c7777e-26bb-4762-bb55-607196a084ce",
         "x": [
          54.26,
          54.26
         ],
         "y": [
          292.97,
          292.97
         ],
         "z": [
          -1441.93,
          -2453.06
         ]
        },
        {
         "hoverinfo": "skip",
         "line": {
          "color": "lightgrey",
          "width": 1
         },
         "mode": "lines",
         "showlegend": false,
         "type": "scatter3d",
         "uid": "41259281-2821-4b4d-9a00-efa9fe9a6fee",
         "x": [
          174.47,
          174.47
         ],
         "y": [
          315.54,
          315.54
         ],
         "z": [
          -1441.93,
          -2453.06
         ]
        },
        {
         "hoverinfo": "skip",
         "line": {
          "color": "lightgrey",
          "width": 1
         },
         "mode": "lines",
         "showlegend": false,
         "type": "scatter3d",
         "uid": "8b6eb6d5-7c2c-414e-b390-3694246a7689",
         "x": [
          303.41,
          303.41
         ],
         "y": [
          335.64,
          335.64
         ],
         "z": [
          -1441.93,
          -2453.06
         ]
        },
        {
         "hoverinfo": "skip",
         "line": {
          "color": "lightgrey",
          "width": 1
         },
         "mode": "lines",
         "showlegend": false,
         "type": "scatter3d",
         "uid": "db227f2a-fedf-48df-a222-4072f701a692",
         "x": [
          429.76,
          429.76
         ],
         "y": [
          351.02,
          351.02
         ],
         "z": [
          -1441.93,
          -2453.06
         ]
        },
        {
         "hoverinfo": "skip",
         "line": {
          "color": "lightgrey",
          "width": 1
         },
         "mode": "lines",
         "showlegend": false,
         "type": "scatter3d",
         "uid": "ff354b69-4b70-4490-86ec-abd0117bc8b7",
         "x": [
          -392.38,
          -392.38
         ],
         "y": [
          334.24,
          334.24
         ],
         "z": [
          -1441.93,
          -2453.06
         ]
        },
        {
         "hoverinfo": "skip",
         "line": {
          "color": "lightgrey",
          "width": 1
         },
         "mode": "lines",
         "showlegend": false,
         "type": "scatter3d",
         "uid": "b53f1686-8b07-47e7-9b19-d743909226bb",
         "x": [
          -268.9,
          -268.9
         ],
         "y": [
          354.24,
          354.24
         ],
         "z": [
          -1441.93,
          -2453.06
         ]
        },
        {
         "hoverinfo": "skip",
         "line": {
          "color": "lightgrey",
          "width": 1
         },
         "mode": "lines",
         "showlegend": false,
         "type": "scatter3d",
         "uid": "e7c3ee14-4bf2-4dee-be23-91977d2d56eb",
         "x": [
          -145.45,
          -145.45
         ],
         "y": [
          374.24,
          374.24
         ],
         "z": [
          -1441.93,
          -2453.06
         ]
        },
        {
         "hoverinfo": "skip",
         "line": {
          "color": "lightgrey",
          "width": 1
         },
         "mode": "lines",
         "showlegend": false,
         "type": "scatter3d",
         "uid": "9a4b3046-279d-4e40-939f-e6fc96b54949",
         "x": [
          -21.97,
          -21.97
         ],
         "y": [
          393.24,
          393.24
         ],
         "z": [
          -1441.93,
          -2453.06
         ]
        },
        {
         "hoverinfo": "skip",
         "line": {
          "color": "lightgrey",
          "width": 1
         },
         "mode": "lines",
         "showlegend": false,
         "type": "scatter3d",
         "uid": "069cf14c-12c9-4b4f-ae28-97d2199b8fa6",
         "x": [
          101.04,
          101.04
         ],
         "y": [
          412.79,
          412.79
         ],
         "z": [
          -1441.93,
          -2453.06
         ]
        },
        {
         "hoverinfo": "skip",
         "line": {
          "color": "lightgrey",
          "width": 1
         },
         "mode": "lines",
         "showlegend": false,
         "type": "scatter3d",
         "uid": "c8a037cf-ff93-4acd-a1a9-05104e4d0307",
         "x": [
          224.58,
          224.58
         ],
         "y": [
          432.35,
          432.35
         ],
         "z": [
          -1441.93,
          -2453.06
         ]
        },
        {
         "hoverinfo": "skip",
         "line": {
          "color": "lightgrey",
          "width": 1
         },
         "mode": "lines",
         "showlegend": false,
         "type": "scatter3d",
         "uid": "be3c3440-1320-4be7-bdae-476b777e5b8a",
         "x": [
          338.44,
          338.44
         ],
         "y": [
          463.72,
          463.72
         ],
         "z": [
          -1441.93,
          -2453.06
         ]
        },
        {
         "hoverinfo": "skip",
         "line": {
          "color": "lightgrey",
          "width": 1
         },
         "mode": "lines",
         "showlegend": false,
         "type": "scatter3d",
         "uid": "42cb658d-568a-4959-8263-b7393e3c19f0",
         "x": [
          -347.88,
          -347.88
         ],
         "y": [
          451.52,
          451.52
         ],
         "z": [
          -1441.93,
          -2453.06
         ]
        },
        {
         "hoverinfo": "skip",
         "line": {
          "color": "lightgrey",
          "width": 1
         },
         "mode": "lines",
         "showlegend": false,
         "type": "scatter3d",
         "uid": "73120e7e-52ac-4dcb-8671-cd3052828a22",
         "x": [
          -224.09,
          -224.09
         ],
         "y": [
          470.86,
          470.86
         ],
         "z": [
          -1441.93,
          -2453.06
         ]
        },
        {
         "hoverinfo": "skip",
         "line": {
          "color": "lightgrey",
          "width": 1
         },
         "mode": "lines",
         "showlegend": false,
         "type": "scatter3d",
         "uid": "8693d02c-e5e9-4819-8a7e-3f8fe2a42962",
         "x": [
          -101.06,
          -101.06
         ],
         "y": [
          490.22,
          490.22
         ],
         "z": [
          -1441.93,
          -2453.06
         ]
        },
        {
         "hoverinfo": "skip",
         "line": {
          "color": "lightgrey",
          "width": 1
         },
         "mode": "lines",
         "showlegend": false,
         "type": "scatter3d",
         "uid": "a6a443c5-b65b-4847-a231-b4b9565c5db7",
         "x": [
          22.11,
          22.11
         ],
         "y": [
          509.5,
          509.5
         ],
         "z": [
          -1441.93,
          -2453.06
         ]
        },
        {
         "hoverinfo": "skip",
         "line": {
          "color": "lightgrey",
          "width": 1
         },
         "mode": "lines",
         "showlegend": false,
         "type": "scatter3d",
         "uid": "cd7e93a0-9baf-4459-ad8f-092ad55d38fa",
         "x": [
          31.25,
          31.25
         ],
         "y": [
          -72.93,
          -72.93
         ],
         "z": [
          -1441.93,
          -2453.06
         ]
        },
        {
         "hoverinfo": "skip",
         "line": {
          "color": "lightgrey",
          "width": 1
         },
         "mode": "lines",
         "showlegend": false,
         "type": "scatter3d",
         "uid": "cdb18aaa-b60d-41e1-8cd1-e19f64422376",
         "x": [
          72.37,
          72.37
         ],
         "y": [
          -66.6,
          -66.6
         ],
         "z": [
          -1441.93,
          -2453.06
         ]
        },
        {
         "hoverinfo": "skip",
         "line": {
          "color": "lightgrey",
          "width": 1
         },
         "mode": "lines",
         "showlegend": false,
         "type": "scatter3d",
         "uid": "d14f0944-a1c9-497d-96d4-33a155d2cd4f",
         "x": [
          41.6,
          41.6
         ],
         "y": [
          35.49,
          35.49
         ],
         "z": [
          -1441.93,
          -2453.06
         ]
        },
        {
         "hoverinfo": "skip",
         "line": {
          "color": "lightgrey",
          "width": 1
         },
         "mode": "lines",
         "showlegend": false,
         "type": "scatter3d",
         "uid": "c1bf0624-07e2-4a08-bb10-bfba45ae4c46",
         "x": [
          106.94,
          106.94
         ],
         "y": [
          27.09,
          27.09
         ],
         "z": [
          -1441.93,
          -2453.06
         ]
        },
        {
         "hoverinfo": "skip",
         "line": {
          "color": "lightgrey",
          "width": 1
         },
         "mode": "lines",
         "showlegend": false,
         "type": "scatter3d",
         "uid": "797eb950-3c6d-44de-880d-71a83eb5d7cc",
         "x": [
          113.19,
          113.19
         ],
         "y": [
          -60.47,
          -60.47
         ],
         "z": [
          -1441.93,
          -2453.06
         ]
        },
        {
         "hoverinfo": "skip",
         "line": {
          "color": "lightgrey",
          "width": 1
         },
         "mode": "lines",
         "showlegend": false,
         "type": "scatter3d",
         "uid": "0eb7d7df-93d4-4b5e-ac5d-d4d6e1074bcf",
         "x": [
          57.2,
          57.2
         ],
         "y": [
          -105.52,
          -105.52
         ],
         "z": [
          -1441.93,
          -2453.06
         ]
        },
        {
         "hoverinfo": "skip",
         "line": {
          "color": "lightgrey",
          "width": 1
         },
         "mode": "lines",
         "showlegend": false,
         "type": "scatter3d",
         "uid": "c68fdbb6-83b1-4970-a625-13cfe3b7d613",
         "x": [
          -9.68,
          -9.68
         ],
         "y": [
          -79.5,
          -79.5
         ],
         "z": [
          -1441.93,
          -2453.06
         ]
        },
        {
         "hoverinfo": "skip",
         "line": {
          "color": "lightgrey",
          "width": 1
         },
         "mode": "lines",
         "showlegend": false,
         "type": "scatter3d",
         "uid": "82d94cc9-8e50-4737-96f5-a8371fdf2ef1",
         "x": [
          -10.97,
          -10.97
         ],
         "y": [
          6.72,
          6.72
         ],
         "z": [
          -1441.93,
          -2453.06
         ]
        },
        {
         "hoverinfo": "skip",
         "line": {
          "color": "grey",
          "width": 1
         },
         "mode": "lines",
         "showlegend": false,
         "type": "scatter3d",
         "uid": "0b7eff3a-3f9a-41d1-9ba7-5464bc686980",
         "x": [
          -347.88,
          -570.9,
          -256.14,
          361,
          576.37,
          338.44,
          101.04,
          22.11,
          -347.88
         ],
         "y": [
          451.52,
          -125.14,
          -521.08,
          -422.83,
          170.92,
          463.72,
          412.79,
          509.5,
          451.52
         ],
         "z": [
          -2453.06,
          -2453.06,
          -2453.06,
          -2453.06,
          -2453.06,
          -2453.06,
          -2453.06,
          -2453.06,
          -2453.06,
          -2453.06,
          -2453.06,
          -2453.06,
          -2453.06,
          -2453.06,
          -2453.06,
          -2453.06,
          -2453.06,
          -2453.06,
          -2453.06,
          -2453.06,
          -2453.06,
          -2453.06,
          -2453.06,
          -2453.06,
          -2453.06,
          -2453.06,
          -2453.06,
          -2453.06,
          -2453.06,
          -2453.06,
          -2453.06,
          -2453.06,
          -2453.06,
          -2453.06,
          -2453.06,
          -2453.06,
          -2453.06,
          -2453.06,
          -2453.06,
          -2453.06,
          -2453.06,
          -2453.06,
          -2453.06,
          -2453.06,
          -2453.06,
          -2453.06,
          -2453.06,
          -2453.06,
          -2453.06,
          -2453.06,
          -2453.06,
          -2453.06,
          -2453.06,
          -2453.06,
          -2453.06,
          -2453.06,
          -2453.06,
          -2453.06,
          -2453.06,
          -2453.06,
          -2453.06,
          -2453.06,
          -2453.06,
          -2453.06,
          -2453.06,
          -2453.06,
          -2453.06,
          -2453.06,
          -2453.06,
          -2453.06,
          -2453.06,
          -2453.06,
          -2453.06,
          -2453.06,
          -2453.06,
          -2453.06,
          -2453.06,
          -2453.06,
          -2453.06,
          -2453.06,
          -2453.06,
          -2453.06,
          -2453.06,
          -2453.06,
          -2453.06,
          -2453.06
         ]
        },
        {
         "hoverinfo": "skip",
         "line": {
          "color": "grey",
          "width": 1
         },
         "mode": "lines",
         "showlegend": false,
         "type": "scatter3d",
         "uid": "1b886245-8a7e-4376-9685-0759e8e3cf15",
         "x": [
          -347.88,
          -570.9,
          -256.14,
          361,
          576.37,
          338.44,
          101.04,
          22.11,
          -347.88
         ],
         "y": [
          451.52,
          -125.14,
          -521.08,
          -422.83,
          170.92,
          463.72,
          412.79,
          509.5,
          451.52
         ],
         "z": [
          -1441.93,
          -1441.93,
          -1441.93,
          -1441.93,
          -1441.93,
          -1441.93,
          -1441.93,
          -1441.93,
          -1441.93,
          -1441.93,
          -1441.93,
          -1441.93,
          -1441.93,
          -1441.93,
          -1441.93,
          -1441.93,
          -1441.93,
          -1441.93,
          -1441.93,
          -1441.93,
          -1441.93,
          -1441.93,
          -1441.93,
          -1441.93,
          -1441.93,
          -1441.93,
          -1441.93,
          -1441.93,
          -1441.93,
          -1441.93,
          -1441.93,
          -1441.93,
          -1441.93,
          -1441.93,
          -1441.93,
          -1441.93,
          -1441.93,
          -1441.93,
          -1441.93,
          -1441.93,
          -1441.93,
          -1441.93,
          -1441.93,
          -1441.93,
          -1441.93,
          -1441.93,
          -1441.93,
          -1441.93,
          -1441.93,
          -1441.93,
          -1441.93,
          -1441.93,
          -1441.93,
          -1441.93,
          -1441.93,
          -1441.93,
          -1441.93,
          -1441.93,
          -1441.93,
          -1441.93,
          -1441.93,
          -1441.93,
          -1441.93,
          -1441.93,
          -1441.93,
          -1441.93,
          -1441.93,
          -1441.93,
          -1441.93,
          -1441.93,
          -1441.93,
          -1441.93,
          -1441.93,
          -1441.93,
          -1441.93,
          -1441.93,
          -1441.93,
          -1441.93,
          -1441.93,
          -1441.93,
          -1441.93,
          -1441.93,
          -1441.93,
          -1441.93,
          -1441.93,
          -1441.93
         ]
        },
        {
         "customdata": [
          9004.416016,
          9282.473633
         ],
         "hoverinfo": [
          "x",
          "y",
          "z",
          "text"
         ],
         "hovertemplate": "x: %{x} m, y: %{y} m, z: %{z} m, t: %{customdata} ns",
         "hovertext": [
          "-2265.46 ns",
          "-2398.57 ns"
         ],
         "marker": {
          "color": [
           9004.416016,
           9282.473633
          ],
          "colorscale": [
           [
            0,
            "rgb(255,0,0)"
           ],
           [
            0.125,
            "rgb(255,111,0)"
           ],
           [
            0.25,
            "rgb(255,234,0)"
           ],
           [
            0.375,
            "rgb(151,255,0)"
           ],
           [
            0.5,
            "rgb(44,255,150)"
           ],
           [
            0.625,
            "rgb(0,152,255)"
           ],
           [
            0.75,
            "rgb(0,25,255)"
           ],
           [
            0.875,
            "rgb(0,0,200)"
           ],
           [
            1,
            "rgb(150,0,90)"
           ]
          ],
          "size": 4
         },
         "mode": "markers",
         "showlegend": false,
         "type": "scatter3d",
         "uid": "63addea0-52af-4a48-aba1-9253dc41f695",
         "x": [
          -570.9,
          -526.63
         ],
         "y": [
          -125.14,
          -15.6
         ],
         "z": [
          -2265.46,
          -2398.57
         ]
        }
       ],
       "layout": {
        "margin": {
         "b": 40,
         "l": 20,
         "r": 20,
         "t": 40
        },
        "scene": {
         "camera": {
          "center": {
           "x": 0,
           "y": 0,
           "z": 0
          },
          "eye": {
           "x": 1.5,
           "y": 1.5,
           "z": 0.1
          },
          "up": {
           "x": 0,
           "y": 0,
           "z": 1
          }
         },
         "xaxis": {
          "backgroundcolor": "whitesmoke",
          "showgrid": false,
          "showspikes": false,
          "showticklabels": false,
          "title": {
           "text": ""
          }
         },
         "yaxis": {
          "backgroundcolor": "whitesmoke",
          "showgrid": false,
          "showspikes": false,
          "showticklabels": false,
          "title": {
           "text": ""
          }
         },
         "zaxis": {
          "backgroundcolor": "whitesmoke",
          "showgrid": false,
          "showspikes": false,
          "showticklabels": false,
          "title": {
           "text": ""
          }
         }
        },
        "template": {
         "data": {
          "bar": [
           {
            "error_x": {
             "color": "#2a3f5f"
            },
            "error_y": {
             "color": "#2a3f5f"
            },
            "marker": {
             "line": {
              "color": "#E5ECF6",
              "width": 0.5
             },
             "pattern": {
              "fillmode": "overlay",
              "size": 10,
              "solidity": 0.2
             }
            },
            "type": "bar"
           }
          ],
          "barpolar": [
           {
            "marker": {
             "line": {
              "color": "#E5ECF6",
              "width": 0.5
             },
             "pattern": {
              "fillmode": "overlay",
              "size": 10,
              "solidity": 0.2
             }
            },
            "type": "barpolar"
           }
          ],
          "carpet": [
           {
            "aaxis": {
             "endlinecolor": "#2a3f5f",
             "gridcolor": "white",
             "linecolor": "white",
             "minorgridcolor": "white",
             "startlinecolor": "#2a3f5f"
            },
            "baxis": {
             "endlinecolor": "#2a3f5f",
             "gridcolor": "white",
             "linecolor": "white",
             "minorgridcolor": "white",
             "startlinecolor": "#2a3f5f"
            },
            "type": "carpet"
           }
          ],
          "choropleth": [
           {
            "colorbar": {
             "outlinewidth": 0,
             "ticks": ""
            },
            "type": "choropleth"
           }
          ],
          "contour": [
           {
            "colorbar": {
             "outlinewidth": 0,
             "ticks": ""
            },
            "colorscale": [
             [
              0,
              "#0d0887"
             ],
             [
              0.1111111111111111,
              "#46039f"
             ],
             [
              0.2222222222222222,
              "#7201a8"
             ],
             [
              0.3333333333333333,
              "#9c179e"
             ],
             [
              0.4444444444444444,
              "#bd3786"
             ],
             [
              0.5555555555555556,
              "#d8576b"
             ],
             [
              0.6666666666666666,
              "#ed7953"
             ],
             [
              0.7777777777777778,
              "#fb9f3a"
             ],
             [
              0.8888888888888888,
              "#fdca26"
             ],
             [
              1,
              "#f0f921"
             ]
            ],
            "type": "contour"
           }
          ],
          "contourcarpet": [
           {
            "colorbar": {
             "outlinewidth": 0,
             "ticks": ""
            },
            "type": "contourcarpet"
           }
          ],
          "heatmap": [
           {
            "colorbar": {
             "outlinewidth": 0,
             "ticks": ""
            },
            "colorscale": [
             [
              0,
              "#0d0887"
             ],
             [
              0.1111111111111111,
              "#46039f"
             ],
             [
              0.2222222222222222,
              "#7201a8"
             ],
             [
              0.3333333333333333,
              "#9c179e"
             ],
             [
              0.4444444444444444,
              "#bd3786"
             ],
             [
              0.5555555555555556,
              "#d8576b"
             ],
             [
              0.6666666666666666,
              "#ed7953"
             ],
             [
              0.7777777777777778,
              "#fb9f3a"
             ],
             [
              0.8888888888888888,
              "#fdca26"
             ],
             [
              1,
              "#f0f921"
             ]
            ],
            "type": "heatmap"
           }
          ],
          "heatmapgl": [
           {
            "colorbar": {
             "outlinewidth": 0,
             "ticks": ""
            },
            "colorscale": [
             [
              0,
              "#0d0887"
             ],
             [
              0.1111111111111111,
              "#46039f"
             ],
             [
              0.2222222222222222,
              "#7201a8"
             ],
             [
              0.3333333333333333,
              "#9c179e"
             ],
             [
              0.4444444444444444,
              "#bd3786"
             ],
             [
              0.5555555555555556,
              "#d8576b"
             ],
             [
              0.6666666666666666,
              "#ed7953"
             ],
             [
              0.7777777777777778,
              "#fb9f3a"
             ],
             [
              0.8888888888888888,
              "#fdca26"
             ],
             [
              1,
              "#f0f921"
             ]
            ],
            "type": "heatmapgl"
           }
          ],
          "histogram": [
           {
            "marker": {
             "pattern": {
              "fillmode": "overlay",
              "size": 10,
              "solidity": 0.2
             }
            },
            "type": "histogram"
           }
          ],
          "histogram2d": [
           {
            "colorbar": {
             "outlinewidth": 0,
             "ticks": ""
            },
            "colorscale": [
             [
              0,
              "#0d0887"
             ],
             [
              0.1111111111111111,
              "#46039f"
             ],
             [
              0.2222222222222222,
              "#7201a8"
             ],
             [
              0.3333333333333333,
              "#9c179e"
             ],
             [
              0.4444444444444444,
              "#bd3786"
             ],
             [
              0.5555555555555556,
              "#d8576b"
             ],
             [
              0.6666666666666666,
              "#ed7953"
             ],
             [
              0.7777777777777778,
              "#fb9f3a"
             ],
             [
              0.8888888888888888,
              "#fdca26"
             ],
             [
              1,
              "#f0f921"
             ]
            ],
            "type": "histogram2d"
           }
          ],
          "histogram2dcontour": [
           {
            "colorbar": {
             "outlinewidth": 0,
             "ticks": ""
            },
            "colorscale": [
             [
              0,
              "#0d0887"
             ],
             [
              0.1111111111111111,
              "#46039f"
             ],
             [
              0.2222222222222222,
              "#7201a8"
             ],
             [
              0.3333333333333333,
              "#9c179e"
             ],
             [
              0.4444444444444444,
              "#bd3786"
             ],
             [
              0.5555555555555556,
              "#d8576b"
             ],
             [
              0.6666666666666666,
              "#ed7953"
             ],
             [
              0.7777777777777778,
              "#fb9f3a"
             ],
             [
              0.8888888888888888,
              "#fdca26"
             ],
             [
              1,
              "#f0f921"
             ]
            ],
            "type": "histogram2dcontour"
           }
          ],
          "mesh3d": [
           {
            "colorbar": {
             "outlinewidth": 0,
             "ticks": ""
            },
            "type": "mesh3d"
           }
          ],
          "parcoords": [
           {
            "line": {
             "colorbar": {
              "outlinewidth": 0,
              "ticks": ""
             }
            },
            "type": "parcoords"
           }
          ],
          "pie": [
           {
            "automargin": true,
            "type": "pie"
           }
          ],
          "scatter": [
           {
            "marker": {
             "colorbar": {
              "outlinewidth": 0,
              "ticks": ""
             }
            },
            "type": "scatter"
           }
          ],
          "scatter3d": [
           {
            "line": {
             "colorbar": {
              "outlinewidth": 0,
              "ticks": ""
             }
            },
            "marker": {
             "colorbar": {
              "outlinewidth": 0,
              "ticks": ""
             }
            },
            "type": "scatter3d"
           }
          ],
          "scattercarpet": [
           {
            "marker": {
             "colorbar": {
              "outlinewidth": 0,
              "ticks": ""
             }
            },
            "type": "scattercarpet"
           }
          ],
          "scattergeo": [
           {
            "marker": {
             "colorbar": {
              "outlinewidth": 0,
              "ticks": ""
             }
            },
            "type": "scattergeo"
           }
          ],
          "scattergl": [
           {
            "marker": {
             "colorbar": {
              "outlinewidth": 0,
              "ticks": ""
             }
            },
            "type": "scattergl"
           }
          ],
          "scattermapbox": [
           {
            "marker": {
             "colorbar": {
              "outlinewidth": 0,
              "ticks": ""
             }
            },
            "type": "scattermapbox"
           }
          ],
          "scatterpolar": [
           {
            "marker": {
             "colorbar": {
              "outlinewidth": 0,
              "ticks": ""
             }
            },
            "type": "scatterpolar"
           }
          ],
          "scatterpolargl": [
           {
            "marker": {
             "colorbar": {
              "outlinewidth": 0,
              "ticks": ""
             }
            },
            "type": "scatterpolargl"
           }
          ],
          "scatterternary": [
           {
            "marker": {
             "colorbar": {
              "outlinewidth": 0,
              "ticks": ""
             }
            },
            "type": "scatterternary"
           }
          ],
          "surface": [
           {
            "colorbar": {
             "outlinewidth": 0,
             "ticks": ""
            },
            "colorscale": [
             [
              0,
              "#0d0887"
             ],
             [
              0.1111111111111111,
              "#46039f"
             ],
             [
              0.2222222222222222,
              "#7201a8"
             ],
             [
              0.3333333333333333,
              "#9c179e"
             ],
             [
              0.4444444444444444,
              "#bd3786"
             ],
             [
              0.5555555555555556,
              "#d8576b"
             ],
             [
              0.6666666666666666,
              "#ed7953"
             ],
             [
              0.7777777777777778,
              "#fb9f3a"
             ],
             [
              0.8888888888888888,
              "#fdca26"
             ],
             [
              1,
              "#f0f921"
             ]
            ],
            "type": "surface"
           }
          ],
          "table": [
           {
            "cells": {
             "fill": {
              "color": "#EBF0F8"
             },
             "line": {
              "color": "white"
             }
            },
            "header": {
             "fill": {
              "color": "#C8D4E3"
             },
             "line": {
              "color": "white"
             }
            },
            "type": "table"
           }
          ]
         },
         "layout": {
          "annotationdefaults": {
           "arrowcolor": "#2a3f5f",
           "arrowhead": 0,
           "arrowwidth": 1
          },
          "autotypenumbers": "strict",
          "coloraxis": {
           "colorbar": {
            "outlinewidth": 0,
            "ticks": ""
           }
          },
          "colorscale": {
           "diverging": [
            [
             0,
             "#8e0152"
            ],
            [
             0.1,
             "#c51b7d"
            ],
            [
             0.2,
             "#de77ae"
            ],
            [
             0.3,
             "#f1b6da"
            ],
            [
             0.4,
             "#fde0ef"
            ],
            [
             0.5,
             "#f7f7f7"
            ],
            [
             0.6,
             "#e6f5d0"
            ],
            [
             0.7,
             "#b8e186"
            ],
            [
             0.8,
             "#7fbc41"
            ],
            [
             0.9,
             "#4d9221"
            ],
            [
             1,
             "#276419"
            ]
           ],
           "sequential": [
            [
             0,
             "#0d0887"
            ],
            [
             0.1111111111111111,
             "#46039f"
            ],
            [
             0.2222222222222222,
             "#7201a8"
            ],
            [
             0.3333333333333333,
             "#9c179e"
            ],
            [
             0.4444444444444444,
             "#bd3786"
            ],
            [
             0.5555555555555556,
             "#d8576b"
            ],
            [
             0.6666666666666666,
             "#ed7953"
            ],
            [
             0.7777777777777778,
             "#fb9f3a"
            ],
            [
             0.8888888888888888,
             "#fdca26"
            ],
            [
             1,
             "#f0f921"
            ]
           ],
           "sequentialminus": [
            [
             0,
             "#0d0887"
            ],
            [
             0.1111111111111111,
             "#46039f"
            ],
            [
             0.2222222222222222,
             "#7201a8"
            ],
            [
             0.3333333333333333,
             "#9c179e"
            ],
            [
             0.4444444444444444,
             "#bd3786"
            ],
            [
             0.5555555555555556,
             "#d8576b"
            ],
            [
             0.6666666666666666,
             "#ed7953"
            ],
            [
             0.7777777777777778,
             "#fb9f3a"
            ],
            [
             0.8888888888888888,
             "#fdca26"
            ],
            [
             1,
             "#f0f921"
            ]
           ]
          },
          "colorway": [
           "#636efa",
           "#EF553B",
           "#00cc96",
           "#ab63fa",
           "#FFA15A",
           "#19d3f3",
           "#FF6692",
           "#B6E880",
           "#FF97FF",
           "#FECB52"
          ],
          "font": {
           "color": "#2a3f5f"
          },
          "geo": {
           "bgcolor": "white",
           "lakecolor": "white",
           "landcolor": "#E5ECF6",
           "showlakes": true,
           "showland": true,
           "subunitcolor": "white"
          },
          "hoverlabel": {
           "align": "left"
          },
          "hovermode": "closest",
          "mapbox": {
           "style": "light"
          },
          "paper_bgcolor": "white",
          "plot_bgcolor": "#E5ECF6",
          "polar": {
           "angularaxis": {
            "gridcolor": "white",
            "linecolor": "white",
            "ticks": ""
           },
           "bgcolor": "#E5ECF6",
           "radialaxis": {
            "gridcolor": "white",
            "linecolor": "white",
            "ticks": ""
           }
          },
          "scene": {
           "xaxis": {
            "backgroundcolor": "#E5ECF6",
            "gridcolor": "white",
            "gridwidth": 2,
            "linecolor": "white",
            "showbackground": true,
            "ticks": "",
            "zerolinecolor": "white"
           },
           "yaxis": {
            "backgroundcolor": "#E5ECF6",
            "gridcolor": "white",
            "gridwidth": 2,
            "linecolor": "white",
            "showbackground": true,
            "ticks": "",
            "zerolinecolor": "white"
           },
           "zaxis": {
            "backgroundcolor": "#E5ECF6",
            "gridcolor": "white",
            "gridwidth": 2,
            "linecolor": "white",
            "showbackground": true,
            "ticks": "",
            "zerolinecolor": "white"
           }
          },
          "shapedefaults": {
           "line": {
            "color": "#2a3f5f"
           }
          },
          "ternary": {
           "aaxis": {
            "gridcolor": "white",
            "linecolor": "white",
            "ticks": ""
           },
           "baxis": {
            "gridcolor": "white",
            "linecolor": "white",
            "ticks": ""
           },
           "bgcolor": "#E5ECF6",
           "caxis": {
            "gridcolor": "white",
            "linecolor": "white",
            "ticks": ""
           }
          },
          "title": {
           "x": 0.05
          },
          "xaxis": {
           "automargin": true,
           "gridcolor": "white",
           "linecolor": "white",
           "ticks": "",
           "title": {
            "standoff": 15
           },
           "zerolinecolor": "white",
           "zerolinewidth": 2
          },
          "yaxis": {
           "automargin": true,
           "gridcolor": "white",
           "linecolor": "white",
           "ticks": "",
           "title": {
            "standoff": 15
           },
           "zerolinecolor": "white",
           "zerolinewidth": 2
          }
         }
        }
       }
      }
     },
     "metadata": {},
     "output_type": "display_data"
    }
   ],
   "source": [
    "MLHelper.plot_event(300)\n",
    "#MLHelper.get_event_info(300)"
   ]
  },
  {
   "cell_type": "code",
   "execution_count": 79,
   "id": "78994ce1",
   "metadata": {
    "scrolled": true
   },
   "outputs": [],
   "source": [
    "pred_label = []\n",
    "true_label = []\n",
    "for input,target in MLHelper.train_dataloader:\n",
    "    output = MLHelper.net(input).detach().numpy()\n",
    "    true_label += list(target[:,0])\n",
    "    pred_label += list(output[:])"
   ]
  },
  {
   "cell_type": "code",
   "execution_count": 80,
   "id": "ab9311d8",
   "metadata": {
    "scrolled": true
   },
   "outputs": [],
   "source": [
    "pred_label_test = []\n",
    "true_label_test = []\n",
    "for input,target in MLHelper.test_dataloader:\n",
    "    output = MLHelper.net(input).detach().numpy()\n",
    "    true_label_test += list(target[:,0])\n",
    "    pred_label_test += list(output[:])"
   ]
  },
  {
   "cell_type": "code",
   "execution_count": 81,
   "id": "ae99ed08",
   "metadata": {},
   "outputs": [
    {
     "data": {
      "image/png": "[encoded data removed]",
      "text/plain": [
       "<Figure size 432x288 with 1 Axes>"
      ]
     },
     "metadata": {
      "needs_background": "light"
     },
     "output_type": "display_data"
    }
   ],
   "source": [
    "pred = np.array(pred_label,dtype=float)\n",
    "true = np.array(true_label,dtype=float)\n",
    "pred_test = np.array(pred_label_test,dtype=float)\n",
    "true_test = np.array(true_label_test,dtype=float)\n",
    "plt.hist(pred[true==0],alpha=0.5,bins=np.linspace(0,1,50),label=\"train tracks\")\n",
    "plt.hist(pred[true==1],alpha=0.5,bins=np.linspace(0,1,50),label=\"train cascades\")\n",
    "plt.hist(pred_test[true_test==0],alpha=0.5,bins=np.linspace(0,1,50),label=\"test tracks\")\n",
    "plt.hist(pred_test[true_test==1],alpha=0.5,bins=np.linspace(0,1,50),label=\"test cascades\")\n",
    "plt.xlabel(\"Cascade score\")\n",
    "plt.ylabel(\"Events\")\n",
    "plt.semilogy()\n",
    "plt.legend(fontsize=14)\n",
    "plt.show()\n",
    "# plt.hist2d(true_azimuth,pred_azimuth,bins=np.linspace(-np.pi,np.pi,50))\n",
    "# plt.show()"
   ]
  },
  {
   "cell_type": "code",
   "execution_count": null,
   "id": "c8ea8f8e",
   "metadata": {},
   "outputs": [],
   "source": []
  }
 ],
 "metadata": {
  "kernelspec": {
   "display_name": "Python 3 (ipykernel)",
   "language": "python",
   "name": "python3"
  },
  "language_info": {
   "codemirror_mode": {
    "name": "ipython",
    "version": 3
   },
   "file_extension": ".py",
   "mimetype": "text/x-python",
   "name": "python",
   "nbconvert_exporter": "python",
   "pygments_lexer": "ipython3",
   "version": "3.9.12"
  }
 },
 "nbformat": 4,
 "nbformat_minor": 5
}
