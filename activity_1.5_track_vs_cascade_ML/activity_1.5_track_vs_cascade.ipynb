{
 "cells": [
  {
   "cell_type": "code",
   "execution_count": 64,
   "id": "3cf72264",
   "metadata": {},
   "outputs": [
    {
     "name": "stdout",
     "output_type": "stream",
     "text": [
      "The autoreload extension is already loaded. To reload it, use:\n",
      "  %reload_ext autoreload\n"
     ]
    }
   ],
   "source": [
    "%load_ext autoreload\n",
    "%autoreload 2\n",
    "# Import some standard python libraries\n",
    "import sys\n",
    "import matplotlib.pyplot as plt\n",
    "\n",
    "# Import some custom libraries for this example\n",
    "sys.path.insert(0, \"../\")\n",
    "from src.ml_tools import *"
   ]
  },
  {
   "cell_type": "code",
   "execution_count": 65,
   "id": "afd2a71b",
   "metadata": {},
   "outputs": [],
   "source": [
    "data_dir = \"/Users/nickkamp/Documents/Harvard/Research/Prometheus/PublicDatasets/IceCube_HE\"\n",
    "MLHelper = MLHelper(\"%s/MuMinus/reduced_muons.parquet\"%data_dir,\n",
    "                    \"%s/EMinus/reduced_electrons.parquet\"%data_dir)"
   ]
  },
  {
   "cell_type": "code",
   "execution_count": 97,
   "id": "993f3628",
   "metadata": {},
   "outputs": [
    {
     "name": "stdout",
     "output_type": "stream",
     "text": [
      "Created neural network with 1947213 trainable parameters\n"
     ]
    }
   ],
   "source": [
    "MLHelper.MakeNetwork(width=1000)\n",
    "MLHelper.MakeTrainingDataset(3000)"
   ]
  },
  {
   "cell_type": "code",
   "execution_count": 98,
   "id": "09d12786",
   "metadata": {},
   "outputs": [
    {
     "name": "stdout",
     "output_type": "stream",
     "text": [
      "Beginning epoch 1/2\n",
      "\n",
      "Beginning epoch 2/240\n",
      "\n",
      "Training loss: 0.033\r"
     ]
    },
    {
     "data": {
      "image/png": "[encoded data removed]",
      "text/plain": [
       "<Figure size 432x288 with 1 Axes>"
      ]
     },
     "metadata": {
      "needs_background": "light"
     },
     "output_type": "display_data"
    }
   ],
   "source": [
    "loss_dict = MLHelper.train(num_epochs=2)\n",
    "for epoch,losses in loss_dict.items():\n",
    "    plt.plot(epoch*len(losses)+np.arange(len(losses)),np.array(losses))\n",
    "plt.semilogy()\n",
    "plt.ylabel(\"BCE Loss\")\n",
    "plt.xlabel(\"Training Step\")\n",
    "plt.ylim(1e-3)\n",
    "plt.show()"
   ]
  },
  {
   "cell_type": "code",
   "execution_count": 99,
   "id": "2fe133ee",
   "metadata": {},
   "outputs": [
    {
     "data": {
      "application/vnd.plotly.v1+json": {
       "config": {
        "plotlyServerURL": "https://plot.ly"
       },
       "data": [
        {
         "hoverinfo": "skip",
         "line": {
          "color": "lightgrey",
          "width": 1
         },
         "mode": "lines",
         "showlegend": false,
         "type": "scatter3d",
         "uid": "b5610454-98e3-4671-a1ba-d8e28e228484",
         "x": [
          -256.14,
          -256.14
         ],
         "y": [
          -521.08,
          -521.08
         ],
         "z": [
          -1441.93,
          -2453.06
         ]
        },
        {
         "hoverinfo": "skip",
         "line": {
          "color": "lightgrey",
          "width": 1
         },
         "mode": "lines",
         "showlegend": false,
         "type": "scatter3d",
         "uid": "ddbd8fae-5f75-4a73-9e1d-7df4c1e24160",
         "x": [
          -132.8,
          -132.8
         ],
         "y": [
          -501.45,
          -501.45
         ],
         "z": [
          -1441.93,
          -2453.06
         ]
        },
        {
         "hoverinfo": "skip",
         "line": {
          "color": "lightgrey",
          "width": 1
         },
         "mode": "lines",
         "showlegend": false,
         "type": "scatter3d",
         "uid": "a04d974f-1769-434e-bdea-081be48aba90",
         "x": [
          -9.13,
          -9.13
         ],
         "y": [
          -481.74,
          -481.74
         ],
         "z": [
          -1441.93,
          -2453.06
         ]
        },
        {
         "hoverinfo": "skip",
         "line": {
          "color": "lightgrey",
          "width": 1
         },
         "mode": "lines",
         "showlegend": false,
         "type": "scatter3d",
         "uid": "737cf735-9b9f-4221-9fb0-452a7c77d5ce",
         "x": [
          114.39,
          114.39
         ],
         "y": [
          -461.99,
          -461.99
         ],
         "z": [
          -1441.93,
          -2453.06
         ]
        },
        {
         "hoverinfo": "skip",
         "line": {
          "color": "lightgrey",
          "width": 1
         },
         "mode": "lines",
         "showlegend": false,
         "type": "scatter3d",
         "uid": "6a5c9eba-4b0a-49d8-8aa6-4c6315900892",
         "x": [
          237.78,
          237.78
         ],
         "y": [
          -442.42,
          -442.42
         ],
         "z": [
          -1441.93,
          -2453.06
         ]
        },
        {
         "hoverinfo": "skip",
         "line": {
          "color": "lightgrey",
          "width": 1
         },
         "mode": "lines",
         "showlegend": false,
         "type": "scatter3d",
         "uid": "2cfc1e5e-2639-446d-9672-6c2cebcbd95c",
         "x": [
          361,
          361
         ],
         "y": [
          -422.83,
          -422.83
         ],
         "z": [
          -1441.93,
          -2453.06
         ]
        },
        {
         "hoverinfo": "skip",
         "line": {
          "color": "lightgrey",
          "width": 1
         },
         "mode": "lines",
         "showlegend": false,
         "type": "scatter3d",
         "uid": "7a57265d-ddea-4ef2-a531-59ffc5df88f2",
         "x": [
          -334.8,
          -334.8
         ],
         "y": [
          -424.5,
          -424.5
         ],
         "z": [
          -1441.93,
          -2453.06
         ]
        },
        {
         "hoverinfo": "skip",
         "line": {
          "color": "lightgrey",
          "width": 1
         },
         "mode": "lines",
         "showlegend": false,
         "type": "scatter3d",
         "uid": "4a97f03c-8af2-4411-8a1a-50285059dd39",
         "x": [
          -211.35,
          -211.35
         ],
         "y": [
          -404.48,
          -404.48
         ],
         "z": [
          -1441.93,
          -2453.06
         ]
        },
        {
         "hoverinfo": "skip",
         "line": {
          "color": "lightgrey",
          "width": 1
         },
         "mode": "lines",
         "showlegend": false,
         "type": "scatter3d",
         "uid": "462f50ae-907c-4bc0-bb36-e3aafdc51919",
         "x": [
          -88.05,
          -88.05
         ],
         "y": [
          -384.3,
          -384.3
         ],
         "z": [
          -1441.93,
          -2453.06
         ]
        },
        {
         "hoverinfo": "skip",
         "line": {
          "color": "lightgrey",
          "width": 1
         },
         "mode": "lines",
         "showlegend": false,
         "type": "scatter3d",
         "uid": "5b39e132-6369-4e9c-a2da-45db596983ec",
         "x": [
          35.54,
          35.54
         ],
         "y": [
          -364.83,
          -364.83
         ],
         "z": [
          -1441.93,
          -2453.06
         ]
        },
        {
         "hoverinfo": "skip",
         "line": {
          "color": "lightgrey",
          "width": 1
         },
         "mode": "lines",
         "showlegend": false,
         "type": "scatter3d",
         "uid": "d5c8623e-f9bf-4ab4-94cb-ef08b465a62b",
         "x": [
          158.94,
          158.94
         ],
         "y": [
          -345.23,
          -345.23
         ],
         "z": [
          -1441.93,
          -2453.06
         ]
        },
        {
         "hoverinfo": "skip",
         "line": {
          "color": "lightgrey",
          "width": 1
         },
         "mode": "lines",
         "showlegend": false,
         "type": "scatter3d",
         "uid": "d065f878-9af2-48ba-98a3-8d79934e88e0",
         "x": [
          282.18,
          282.18
         ],
         "y": [
          -325.74,
          -325.74
         ],
         "z": [
          -1441.93,
          -2453.06
         ]
        },
        {
         "hoverinfo": "skip",
         "line": {
          "color": "lightgrey",
          "width": 1
         },
         "mode": "lines",
         "showlegend": false,
         "type": "scatter3d",
         "uid": "cdfa1c5b-8177-4271-b193-d96080a0a79b",
         "x": [
          405.83,
          405.83
         ],
         "y": [
          -306.38,
          -306.38
         ],
         "z": [
          -1441.93,
          -2453.06
         ]
        },
        {
         "hoverinfo": "skip",
         "line": {
          "color": "lightgrey",
          "width": 1
         },
         "mode": "lines",
         "showlegend": false,
         "type": "scatter3d",
         "uid": "4d5e0e42-5f8d-4190-9cfa-34eeabf2e2e8",
         "x": [
          -413.46,
          -413.46
         ],
         "y": [
          -327.27,
          -327.27
         ],
         "z": [
          -1441.93,
          -2453.06
         ]
        },
        {
         "hoverinfo": "skip",
         "line": {
          "color": "lightgrey",
          "width": 1
         },
         "mode": "lines",
         "showlegend": false,
         "type": "scatter3d",
         "uid": "63077b89-9a6f-4c22-87be-13c8636d7ec7",
         "x": [
          -290.66,
          -290.66
         ],
         "y": [
          -307.38,
          -307.38
         ],
         "z": [
          -1441.93,
          -2453.06
         ]
        },
        {
         "hoverinfo": "skip",
         "line": {
          "color": "lightgrey",
          "width": 1
         },
         "mode": "lines",
         "showlegend": false,
         "type": "scatter3d",
         "uid": "2131dad1-a5ca-473f-9e24-f439a01637bd",
         "x": [
          -166.4,
          -166.4
         ],
         "y": [
          -287.79,
          -287.79
         ],
         "z": [
          -1441.93,
          -2453.06
         ]
        },
        {
         "hoverinfo": "skip",
         "line": {
          "color": "lightgrey",
          "width": 1
         },
         "mode": "lines",
         "showlegend": false,
         "type": "scatter3d",
         "uid": "0bfaefb8-b2bf-4f66-9f92-e08f74c1482b",
         "x": [
          -43.27,
          -43.27
         ],
         "y": [
          -267.52,
          -267.52
         ],
         "z": [
          -1441.93,
          -2453.06
         ]
        },
        {
         "hoverinfo": "skip",
         "line": {
          "color": "lightgrey",
          "width": 1
         },
         "mode": "lines",
         "showlegend": false,
         "type": "scatter3d",
         "uid": "52133f30-7035-47cb-a478-ffff35bffa95",
         "x": [
          79.41,
          79.41
         ],
         "y": [
          -248.24,
          -248.24
         ],
         "z": [
          -1441.93,
          -2453.06
         ]
        },
        {
         "hoverinfo": "skip",
         "line": {
          "color": "lightgrey",
          "width": 1
         },
         "mode": "lines",
         "showlegend": false,
         "type": "scatter3d",
         "uid": "eb31d6f9-6dd8-4bf1-95b0-b4c7b3b76a44",
         "x": [
          210.47,
          210.47
         ],
         "y": [
          -209.77,
          -209.77
         ],
         "z": [
          -1441.93,
          -2453.06
         ]
        },
        {
         "hoverinfo": "skip",
         "line": {
          "color": "lightgrey",
          "width": 1
         },
         "mode": "lines",
         "showlegend": false,
         "type": "scatter3d",
         "uid": "41bfdf9b-5df9-4c5a-9377-241fc9d00c77",
         "x": [
          326.85,
          326.85
         ],
         "y": [
          -209.07,
          -209.07
         ],
         "z": [
          -1441.93,
          -2453.06
         ]
        },
        {
         "hoverinfo": "skip",
         "line": {
          "color": "lightgrey",
          "width": 1
         },
         "mode": "lines",
         "showlegend": false,
         "type": "scatter3d",
         "uid": "00d0ea77-2eb1-4eb0-a805-fe197645fb9b",
         "x": [
          443.55,
          443.55
         ],
         "y": [
          -194.16,
          -194.16
         ],
         "z": [
          -1441.93,
          -2453.06
         ]
        },
        {
         "hoverinfo": "skip",
         "line": {
          "color": "lightgrey",
          "width": 1
         },
         "mode": "lines",
         "showlegend": false,
         "type": "scatter3d",
         "uid": "fae4b276-02bd-4d29-b77f-5ae9806a5068",
         "x": [
          -492.43,
          -492.43
         ],
         "y": [
          -230.16,
          -230.16
         ],
         "z": [
          -1441.93,
          -2453.06
         ]
        },
        {
         "hoverinfo": "skip",
         "line": {
          "color": "lightgrey",
          "width": 1
         },
         "mode": "lines",
         "showlegend": false,
         "type": "scatter3d",
         "uid": "2b9c1420-d6c3-4f8d-a8d9-a6f07c713fb3",
         "x": [
          -368.93,
          -368.93
         ],
         "y": [
          -210.23,
          -210.23
         ],
         "z": [
          -1441.93,
          -2453.06
         ]
        },
        {
         "hoverinfo": "skip",
         "line": {
          "color": "lightgrey",
          "width": 1
         },
         "mode": "lines",
         "showlegend": false,
         "type": "scatter3d",
         "uid": "64b455ed-e8b4-4425-9f4b-bcb02b200e35",
         "x": [
          -245.65,
          -245.65
         ],
         "y": [
          -190.49,
          -190.49
         ],
         "z": [
          -1441.93,
          -2453.06
         ]
        },
        {
         "hoverinfo": "skip",
         "line": {
          "color": "lightgrey",
          "width": 1
         },
         "mode": "lines",
         "showlegend": false,
         "type": "scatter3d",
         "uid": "8e835b05-3679-4d57-86cf-be6219fa476a",
         "x": [
          -121.77,
          -121.77
         ],
         "y": [
          -171.03,
          -171.03
         ],
         "z": [
          -1441.93,
          -2453.06
         ]
        },
        {
         "hoverinfo": "skip",
         "line": {
          "color": "lightgrey",
          "width": 1
         },
         "mode": "lines",
         "showlegend": false,
         "type": "scatter3d",
         "uid": "0631932f-4193-4907-b909-3ef888c40f39",
         "x": [
          1.71,
          1.71
         ],
         "y": [
          -150.63,
          -150.63
         ],
         "z": [
          -1441.93,
          -2453.06
         ]
        },
        {
         "hoverinfo": "skip",
         "line": {
          "color": "lightgrey",
          "width": 1
         },
         "mode": "lines",
         "showlegend": false,
         "type": "scatter3d",
         "uid": "a1ffa7e6-5d48-4b94-869d-19bf9180e7a6",
         "x": [
          124.97,
          124.97
         ],
         "y": [
          -131.25,
          -131.25
         ],
         "z": [
          -1441.93,
          -2453.06
         ]
        },
        {
         "hoverinfo": "skip",
         "line": {
          "color": "lightgrey",
          "width": 1
         },
         "mode": "lines",
         "showlegend": false,
         "type": "scatter3d",
         "uid": "1c2fcd2e-aaa7-4908-a87b-3f8bc9740d32",
         "x": [
          248.15,
          248.15
         ],
         "y": [
          -111.87,
          -111.87
         ],
         "z": [
          -1441.93,
          -2453.06
         ]
        },
        {
         "hoverinfo": "skip",
         "line": {
          "color": "lightgrey",
          "width": 1
         },
         "mode": "lines",
         "showlegend": false,
         "type": "scatter3d",
         "uid": "3f989dae-fdca-4934-89d7-cbd2d6f5895e",
         "x": [
          371.56,
          371.56
         ],
         "y": [
          -92.18,
          -92.18
         ],
         "z": [
          -1441.93,
          -2453.06
         ]
        },
        {
         "hoverinfo": "skip",
         "line": {
          "color": "lightgrey",
          "width": 1
         },
         "mode": "lines",
         "showlegend": false,
         "type": "scatter3d",
         "uid": "1384062f-3bf5-4dc9-8b02-7df33392a4e9",
         "x": [
          500.43,
          500.43
         ],
         "y": [
          -58.45,
          -58.45
         ],
         "z": [
          -1441.93,
          -2453.06
         ]
        },
        {
         "hoverinfo": "skip",
         "line": {
          "color": "lightgrey",
          "width": 1
         },
         "mode": "lines",
         "showlegend": false,
         "type": "scatter3d",
         "uid": "b8d3d8b2-a367-491c-9548-5db7735e2552",
         "x": [
          -570.9,
          -570.9
         ],
         "y": [
          -125.14,
          -125.14
         ],
         "z": [
          -1441.93,
          -2453.06
         ]
        },
        {
         "hoverinfo": "skip",
         "line": {
          "color": "lightgrey",
          "width": 1
         },
         "mode": "lines",
         "showlegend": false,
         "type": "scatter3d",
         "uid": "ffd9d98c-85d8-4ba4-a884-c76f7f6f93dc",
         "x": [
          -447.74,
          -447.74
         ],
         "y": [
          -113.13,
          -113.13
         ],
         "z": [
          -1441.93,
          -2453.06
         ]
        },
        {
         "hoverinfo": "skip",
         "line": {
          "color": "lightgrey",
          "width": 1
         },
         "mode": "lines",
         "showlegend": false,
         "type": "scatter3d",
         "uid": "f7bf2a1c-6c5e-429c-9082-453121932590",
         "x": [
          -324.39,
          -324.39
         ],
         "y": [
          -93.43,
          -93.43
         ],
         "z": [
          -1441.93,
          -2453.06
         ]
        },
        {
         "hoverinfo": "skip",
         "line": {
          "color": "lightgrey",
          "width": 1
         },
         "mode": "lines",
         "showlegend": false,
         "type": "scatter3d",
         "uid": "ba379fa1-900b-4a67-8cb6-fe70920bea27",
         "x": [
          -200.55,
          -200.55
         ],
         "y": [
          -74.03,
          -74.03
         ],
         "z": [
          -1441.93,
          -2453.06
         ]
        },
        {
         "hoverinfo": "skip",
         "line": {
          "color": "lightgrey",
          "width": 1
         },
         "mode": "lines",
         "showlegend": false,
         "type": "scatter3d",
         "uid": "d812bb52-facf-4b11-b15b-946bfd7dd9ae",
         "x": [
          -77.8,
          -77.8
         ],
         "y": [
          -54.33,
          -54.33
         ],
         "z": [
          -1441.93,
          -2453.06
         ]
        },
        {
         "hoverinfo": "skip",
         "line": {
          "color": "lightgrey",
          "width": 1
         },
         "mode": "lines",
         "showlegend": false,
         "type": "scatter3d",
         "uid": "31804664-3e0f-4ac8-bc38-979ab7491a7e",
         "x": [
          46.29,
          46.29
         ],
         "y": [
          -34.88,
          -34.88
         ],
         "z": [
          -1441.93,
          -2453.06
         ]
        },
        {
         "hoverinfo": "skip",
         "line": {
          "color": "lightgrey",
          "width": 1
         },
         "mode": "lines",
         "showlegend": false,
         "type": "scatter3d",
         "uid": "3d462825-c383-4379-a87d-eb98969e3459",
         "x": [
          194.34,
          194.34
         ],
         "y": [
          -30.92,
          -30.92
         ],
         "z": [
          -1441.93,
          -2453.06
         ]
        },
        {
         "hoverinfo": "skip",
         "line": {
          "color": "lightgrey",
          "width": 1
         },
         "mode": "lines",
         "showlegend": false,
         "type": "scatter3d",
         "uid": "1426797d-7ebe-472e-b6b3-d7f63d5f6f9f",
         "x": [
          292.9,
          292.9
         ],
         "y": [
          5.2,
          5.2
         ],
         "z": [
          -1441.93,
          -2453.06
         ]
        },
        {
         "hoverinfo": "skip",
         "line": {
          "color": "lightgrey",
          "width": 1
         },
         "mode": "lines",
         "showlegend": false,
         "type": "scatter3d",
         "uid": "d781c467-cf6d-4875-b7f0-649c898d32e3",
         "x": [
          411.81,
          411.81
         ],
         "y": [
          13,
          13
         ],
         "z": [
          -1441.93,
          -2453.06
         ]
        },
        {
         "hoverinfo": "skip",
         "line": {
          "color": "lightgrey",
          "width": 1
         },
         "mode": "lines",
         "showlegend": false,
         "type": "scatter3d",
         "uid": "949c40b5-a655-4dba-a800-5ade9c41a35d",
         "x": [
          544.07,
          544.07
         ],
         "y": [
          55.89,
          55.89
         ],
         "z": [
          -1441.93,
          -2453.06
         ]
        },
        {
         "hoverinfo": "skip",
         "line": {
          "color": "lightgrey",
          "width": 1
         },
         "mode": "lines",
         "showlegend": false,
         "type": "scatter3d",
         "uid": "8a2068a7-b5a2-40b3-8e11-711f74b1333b",
         "x": [
          -526.63,
          -526.63
         ],
         "y": [
          -15.6,
          -15.6
         ],
         "z": [
          -1441.93,
          -2453.06
         ]
        },
        {
         "hoverinfo": "skip",
         "line": {
          "color": "lightgrey",
          "width": 1
         },
         "mode": "lines",
         "showlegend": false,
         "type": "scatter3d",
         "uid": "c021af79-672f-4abd-8aee-b951f095bf2c",
         "x": [
          -403.14,
          -403.14
         ],
         "y": [
          3.49,
          3.49
         ],
         "z": [
          -1441.93,
          -2453.06
         ]
        },
        {
         "hoverinfo": "skip",
         "line": {
          "color": "lightgrey",
          "width": 1
         },
         "mode": "lines",
         "showlegend": false,
         "type": "scatter3d",
         "uid": "0d8ace84-28cf-41a1-be59-8bcc218dacff",
         "x": [
          -279.53,
          -279.53
         ],
         "y": [
          23.17,
          23.17
         ],
         "z": [
          -1441.93,
          -2453.06
         ]
        },
        {
         "hoverinfo": "skip",
         "line": {
          "color": "lightgrey",
          "width": 1
         },
         "mode": "lines",
         "showlegend": false,
         "type": "scatter3d",
         "uid": "c75dad8a-40e1-4fdc-9527-5239ba07c6f4",
         "x": [
          -156.23,
          -156.23
         ],
         "y": [
          43.37,
          43.37
         ],
         "z": [
          -1441.93,
          -2453.06
         ]
        },
        {
         "hoverinfo": "skip",
         "line": {
          "color": "lightgrey",
          "width": 1
         },
         "mode": "lines",
         "showlegend": false,
         "type": "scatter3d",
         "uid": "ac81bd73-be2c-4383-96c1-2a9487ec23eb",
         "x": [
          -32.96,
          -32.96
         ],
         "y": [
          62.44,
          62.44
         ],
         "z": [
          -1441.93,
          -2453.06
         ]
        },
        {
         "hoverinfo": "skip",
         "line": {
          "color": "lightgrey",
          "width": 1
         },
         "mode": "lines",
         "showlegend": false,
         "type": "scatter3d",
         "uid": "465322c1-5219-4092-ba2b-bf7be70f7734",
         "x": [
          90.49,
          90.49
         ],
         "y": [
          82.35,
          82.35
         ],
         "z": [
          -1441.93,
          -2453.06
         ]
        },
        {
         "hoverinfo": "skip",
         "line": {
          "color": "lightgrey",
          "width": 1
         },
         "mode": "lines",
         "showlegend": false,
         "type": "scatter3d",
         "uid": "52326a03-9da9-464b-8514-132268223f57",
         "x": [
          195.03,
          195.03
         ],
         "y": [
          125.59,
          125.59
         ],
         "z": [
          -1441.93,
          -2453.06
         ]
        },
        {
         "hoverinfo": "skip",
         "line": {
          "color": "lightgrey",
          "width": 1
         },
         "mode": "lines",
         "showlegend": false,
         "type": "scatter3d",
         "uid": "2f3cf7eb-80d4-4b61-9eef-d7ab33cfe7b8",
         "x": [
          330.03,
          330.03
         ],
         "y": [
          127.2,
          127.2
         ],
         "z": [
          -1441.93,
          -2453.06
         ]
        },
        {
         "hoverinfo": "skip",
         "line": {
          "color": "lightgrey",
          "width": 1
         },
         "mode": "lines",
         "showlegend": false,
         "type": "scatter3d",
         "uid": "9257cfa2-3a1e-45bc-a713-b6391e6df9b6",
         "x": [
          472.05,
          472.05
         ],
         "y": [
          127.9,
          127.9
         ],
         "z": [
          -1441.93,
          -2453.06
         ]
        },
        {
         "hoverinfo": "skip",
         "line": {
          "color": "lightgrey",
          "width": 1
         },
         "mode": "lines",
         "showlegend": false,
         "type": "scatter3d",
         "uid": "0778aed5-174e-4249-b97b-d53376103024",
         "x": [
          576.37,
          576.37
         ],
         "y": [
          170.92,
          170.92
         ],
         "z": [
          -1441.93,
          -2453.06
         ]
        },
        {
         "hoverinfo": "skip",
         "line": {
          "color": "lightgrey",
          "width": 1
         },
         "mode": "lines",
         "showlegend": false,
         "type": "scatter3d",
         "uid": "6cf0da99-7623-4f33-b644-095b72801988",
         "x": [
          -481.6,
          -481.6
         ],
         "y": [
          101.39,
          101.39
         ],
         "z": [
          -1441.93,
          -2453.06
         ]
        },
        {
         "hoverinfo": "skip",
         "line": {
          "color": "lightgrey",
          "width": 1
         },
         "mode": "lines",
         "showlegend": false,
         "type": "scatter3d",
         "uid": "dd8de3c4-60c8-4bb1-be42-8c42dce9cebc",
         "x": [
          -358.44,
          -358.44
         ],
         "y": [
          120.56,
          120.56
         ],
         "z": [
          -1441.93,
          -2453.06
         ]
        },
        {
         "hoverinfo": "skip",
         "line": {
          "color": "lightgrey",
          "width": 1
         },
         "mode": "lines",
         "showlegend": false,
         "type": "scatter3d",
         "uid": "88629369-a226-4bba-b68c-4d7012a9c82e",
         "x": [
          -234.95,
          -234.95
         ],
         "y": [
          140.44,
          140.44
         ],
         "z": [
          -1441.93,
          -2453.06
         ]
        },
        {
         "hoverinfo": "skip",
         "line": {
          "color": "lightgrey",
          "width": 1
         },
         "mode": "lines",
         "showlegend": false,
         "type": "scatter3d",
         "uid": "f61baed9-87f3-4f79-80ec-a8b23e7e3209",
         "x": [
          -111.51,
          -111.51
         ],
         "y": [
          159.98,
          159.98
         ],
         "z": [
          -1441.93,
          -2453.06
         ]
        },
        {
         "hoverinfo": "skip",
         "line": {
          "color": "lightgrey",
          "width": 1
         },
         "mode": "lines",
         "showlegend": false,
         "type": "scatter3d",
         "uid": "cee2f48a-c7dc-4e09-8728-9f78ccae400c",
         "x": [
          11.87,
          11.87
         ],
         "y": [
          179.19,
          179.19
         ],
         "z": [
          -1441.93,
          -2453.06
         ]
        },
        {
         "hoverinfo": "skip",
         "line": {
          "color": "lightgrey",
          "width": 1
         },
         "mode": "lines",
         "showlegend": false,
         "type": "scatter3d",
         "uid": "cad1e96f-c40e-4840-a5c7-7b8929ab57fb",
         "x": [
          132.03,
          132.03
         ],
         "y": [
          202.98,
          202.98
         ],
         "z": [
          -1441.93,
          -2453.06
         ]
        },
        {
         "hoverinfo": "skip",
         "line": {
          "color": "lightgrey",
          "width": 1
         },
         "mode": "lines",
         "showlegend": false,
         "type": "scatter3d",
         "uid": "2f733475-1c87-49ba-af68-08089f9dfb02",
         "x": [
          257.31,
          257.31
         ],
         "y": [
          211.66,
          211.66
         ],
         "z": [
          -1441.93,
          -2453.06
         ]
        },
        {
         "hoverinfo": "skip",
         "line": {
          "color": "lightgrey",
          "width": 1
         },
         "mode": "lines",
         "showlegend": false,
         "type": "scatter3d",
         "uid": "7f8cdc26-7907-411d-8c8a-aabccd3782df",
         "x": [
          382.35,
          382.35
         ],
         "y": [
          238.9,
          238.9
         ],
         "z": [
          -1441.93,
          -2453.06
         ]
        },
        {
         "hoverinfo": "skip",
         "line": {
          "color": "lightgrey",
          "width": 1
         },
         "mode": "lines",
         "showlegend": false,
         "type": "scatter3d",
         "uid": "c69e93e5-f676-4466-8316-fb35b348dd31",
         "x": [
          505.27,
          505.27
         ],
         "y": [
          257.88,
          257.88
         ],
         "z": [
          -1441.93,
          -2453.06
         ]
        },
        {
         "hoverinfo": "skip",
         "line": {
          "color": "lightgrey",
          "width": 1
         },
         "mode": "lines",
         "showlegend": false,
         "type": "scatter3d",
         "uid": "a2ca58bf-4d38-4c84-b9ab-992ec51fb8de",
         "x": [
          -437.04,
          -437.04
         ],
         "y": [
          217.8,
          217.8
         ],
         "z": [
          -1441.93,
          -2453.06
         ]
        },
        {
         "hoverinfo": "skip",
         "line": {
          "color": "lightgrey",
          "width": 1
         },
         "mode": "lines",
         "showlegend": false,
         "type": "scatter3d",
         "uid": "1cb177da-0704-4787-bfe5-54593124ad2b",
         "x": [
          -313.6,
          -313.6
         ],
         "y": [
          237.44,
          237.44
         ],
         "z": [
          -1441.93,
          -2453.06
         ]
        },
        {
         "hoverinfo": "skip",
         "line": {
          "color": "lightgrey",
          "width": 1
         },
         "mode": "lines",
         "showlegend": false,
         "type": "scatter3d",
         "uid": "23366e0e-58df-4ba2-93f4-262aa2c094fb",
         "x": [
          -189.98,
          -189.98
         ],
         "y": [
          257.42,
          257.42
         ],
         "z": [
          -1441.93,
          -2453.06
         ]
        },
        {
         "hoverinfo": "skip",
         "line": {
          "color": "lightgrey",
          "width": 1
         },
         "mode": "lines",
         "showlegend": false,
         "type": "scatter3d",
         "uid": "0fcbf7aa-56d8-4562-bcaa-81b173748841",
         "x": [
          -66.7,
          -66.7
         ],
         "y": [
          276.92,
          276.92
         ],
         "z": [
          -1441.93,
          -2453.06
         ]
        },
        {
         "hoverinfo": "skip",
         "line": {
          "color": "lightgrey",
          "width": 1
         },
         "mode": "lines",
         "showlegend": false,
         "type": "scatter3d",
         "uid": "9488febc-d0b2-4ec9-8c49-8ebe785ade2e",
         "x": [
          54.26,
          54.26
         ],
         "y": [
          292.97,
          292.97
         ],
         "z": [
          -1441.93,
          -2453.06
         ]
        },
        {
         "hoverinfo": "skip",
         "line": {
          "color": "lightgrey",
          "width": 1
         },
         "mode": "lines",
         "showlegend": false,
         "type": "scatter3d",
         "uid": "063f1e9d-cdb7-4814-9cbd-c8260a0e728e",
         "x": [
          174.47,
          174.47
         ],
         "y": [
          315.54,
          315.54
         ],
         "z": [
          -1441.93,
          -2453.06
         ]
        },
        {
         "hoverinfo": "skip",
         "line": {
          "color": "lightgrey",
          "width": 1
         },
         "mode": "lines",
         "showlegend": false,
         "type": "scatter3d",
         "uid": "be3df805-174a-45c0-a5b5-851390123410",
         "x": [
          303.41,
          303.41
         ],
         "y": [
          335.64,
          335.64
         ],
         "z": [
          -1441.93,
          -2453.06
         ]
        },
        {
         "hoverinfo": "skip",
         "line": {
          "color": "lightgrey",
          "width": 1
         },
         "mode": "lines",
         "showlegend": false,
         "type": "scatter3d",
         "uid": "fe075fa4-31e2-4e17-87b8-97dc9ab68178",
         "x": [
          429.76,
          429.76
         ],
         "y": [
          351.02,
          351.02
         ],
         "z": [
          -1441.93,
          -2453.06
         ]
        },
        {
         "hoverinfo": "skip",
         "line": {
          "color": "lightgrey",
          "width": 1
         },
         "mode": "lines",
         "showlegend": false,
         "type": "scatter3d",
         "uid": "1de158a6-908d-43f8-ad02-d52a5444b206",
         "x": [
          -392.38,
          -392.38
         ],
         "y": [
          334.24,
          334.24
         ],
         "z": [
          -1441.93,
          -2453.06
         ]
        },
        {
         "hoverinfo": "skip",
         "line": {
          "color": "lightgrey",
          "width": 1
         },
         "mode": "lines",
         "showlegend": false,
         "type": "scatter3d",
         "uid": "c41196da-37cb-4021-9e59-ff63f718ba63",
         "x": [
          -268.9,
          -268.9
         ],
         "y": [
          354.24,
          354.24
         ],
         "z": [
          -1441.93,
          -2453.06
         ]
        },
        {
         "hoverinfo": "skip",
         "line": {
          "color": "lightgrey",
          "width": 1
         },
         "mode": "lines",
         "showlegend": false,
         "type": "scatter3d",
         "uid": "f4c0c38a-8159-481f-9c4d-025b10ea49d3",
         "x": [
          -145.45,
          -145.45
         ],
         "y": [
          374.24,
          374.24
         ],
         "z": [
          -1441.93,
          -2453.06
         ]
        },
        {
         "hoverinfo": "skip",
         "line": {
          "color": "lightgrey",
          "width": 1
         },
         "mode": "lines",
         "showlegend": false,
         "type": "scatter3d",
         "uid": "5caac07a-7b51-4594-a79b-ce110ee08824",
         "x": [
          -21.97,
          -21.97
         ],
         "y": [
          393.24,
          393.24
         ],
         "z": [
          -1441.93,
          -2453.06
         ]
        },
        {
         "hoverinfo": "skip",
         "line": {
          "color": "lightgrey",
          "width": 1
         },
         "mode": "lines",
         "showlegend": false,
         "type": "scatter3d",
         "uid": "6a1f2fcc-33e7-4869-b741-090c6f1c888e",
         "x": [
          101.04,
          101.04
         ],
         "y": [
          412.79,
          412.79
         ],
         "z": [
          -1441.93,
          -2453.06
         ]
        },
        {
         "hoverinfo": "skip",
         "line": {
          "color": "lightgrey",
          "width": 1
         },
         "mode": "lines",
         "showlegend": false,
         "type": "scatter3d",
         "uid": "d0bab8f9-f8a9-4df0-95b8-ca13a76cf311",
         "x": [
          224.58,
          224.58
         ],
         "y": [
          432.35,
          432.35
         ],
         "z": [
          -1441.93,
          -2453.06
         ]
        },
        {
         "hoverinfo": "skip",
         "line": {
          "color": "lightgrey",
          "width": 1
         },
         "mode": "lines",
         "showlegend": false,
         "type": "scatter3d",
         "uid": "9cf75f16-8374-47fe-9f8c-1523ce029fa1",
         "x": [
          338.44,
          338.44
         ],
         "y": [
          463.72,
          463.72
         ],
         "z": [
          -1441.93,
          -2453.06
         ]
        },
        {
         "hoverinfo": "skip",
         "line": {
          "color": "lightgrey",
          "width": 1
         },
         "mode": "lines",
         "showlegend": false,
         "type": "scatter3d",
         "uid": "63d431d3-b6ed-40a9-aa17-d977b09d58c0",
         "x": [
          -347.88,
          -347.88
         ],
         "y": [
          451.52,
          451.52
         ],
         "z": [
          -1441.93,
          -2453.06
         ]
        },
        {
         "hoverinfo": "skip",
         "line": {
          "color": "lightgrey",
          "width": 1
         },
         "mode": "lines",
         "showlegend": false,
         "type": "scatter3d",
         "uid": "0425e06e-e523-4d5a-aa32-079e1615c3b9",
         "x": [
          -224.09,
          -224.09
         ],
         "y": [
          470.86,
          470.86
         ],
         "z": [
          -1441.93,
          -2453.06
         ]
        },
        {
         "hoverinfo": "skip",
         "line": {
          "color": "lightgrey",
          "width": 1
         },
         "mode": "lines",
         "showlegend": false,
         "type": "scatter3d",
         "uid": "ae644a66-88bf-4cb6-8cc6-a2902f64994b",
         "x": [
          -101.06,
          -101.06
         ],
         "y": [
          490.22,
          490.22
         ],
         "z": [
          -1441.93,
          -2453.06
         ]
        },
        {
         "hoverinfo": "skip",
         "line": {
          "color": "lightgrey",
          "width": 1
         },
         "mode": "lines",
         "showlegend": false,
         "type": "scatter3d",
         "uid": "5629acb9-f0fd-4ca2-9d5c-d9ef93674f2c",
         "x": [
          22.11,
          22.11
         ],
         "y": [
          509.5,
          509.5
         ],
         "z": [
          -1441.93,
          -2453.06
         ]
        },
        {
         "hoverinfo": "skip",
         "line": {
          "color": "lightgrey",
          "width": 1
         },
         "mode": "lines",
         "showlegend": false,
         "type": "scatter3d",
         "uid": "7e487167-a654-4f16-a20a-d32c65f84b15",
         "x": [
          31.25,
          31.25
         ],
         "y": [
          -72.93,
          -72.93
         ],
         "z": [
          -1441.93,
          -2453.06
         ]
        },
        {
         "hoverinfo": "skip",
         "line": {
          "color": "lightgrey",
          "width": 1
         },
         "mode": "lines",
         "showlegend": false,
         "type": "scatter3d",
         "uid": "1cd4be04-861d-4af9-90a1-c108ccc22717",
         "x": [
          72.37,
          72.37
         ],
         "y": [
          -66.6,
          -66.6
         ],
         "z": [
          -1441.93,
          -2453.06
         ]
        },
        {
         "hoverinfo": "skip",
         "line": {
          "color": "lightgrey",
          "width": 1
         },
         "mode": "lines",
         "showlegend": false,
         "type": "scatter3d",
         "uid": "31b637ec-c376-4a1f-8b2b-ff74fec03e90",
         "x": [
          41.6,
          41.6
         ],
         "y": [
          35.49,
          35.49
         ],
         "z": [
          -1441.93,
          -2453.06
         ]
        },
        {
         "hoverinfo": "skip",
         "line": {
          "color": "lightgrey",
          "width": 1
         },
         "mode": "lines",
         "showlegend": false,
         "type": "scatter3d",
         "uid": "9d068755-5f8c-4251-b32a-3ad2f622c61d",
         "x": [
          106.94,
          106.94
         ],
         "y": [
          27.09,
          27.09
         ],
         "z": [
          -1441.93,
          -2453.06
         ]
        },
        {
         "hoverinfo": "skip",
         "line": {
          "color": "lightgrey",
          "width": 1
         },
         "mode": "lines",
         "showlegend": false,
         "type": "scatter3d",
         "uid": "43c08561-f5ef-403b-a9b0-536094d28756",
         "x": [
          113.19,
          113.19
         ],
         "y": [
          -60.47,
          -60.47
         ],
         "z": [
          -1441.93,
          -2453.06
         ]
        },
        {
         "hoverinfo": "skip",
         "line": {
          "color": "lightgrey",
          "width": 1
         },
         "mode": "lines",
         "showlegend": false,
         "type": "scatter3d",
         "uid": "42757bf9-b46b-4e5f-8f4b-4a2e250f7783",
         "x": [
          57.2,
          57.2
         ],
         "y": [
          -105.52,
          -105.52
         ],
         "z": [
          -1441.93,
          -2453.06
         ]
        },
        {
         "hoverinfo": "skip",
         "line": {
          "color": "lightgrey",
          "width": 1
         },
         "mode": "lines",
         "showlegend": false,
         "type": "scatter3d",
         "uid": "70219aaf-1c35-484b-9415-44cef1321170",
         "x": [
          -9.68,
          -9.68
         ],
         "y": [
          -79.5,
          -79.5
         ],
         "z": [
          -1441.93,
          -2453.06
         ]
        },
        {
         "hoverinfo": "skip",
         "line": {
          "color": "lightgrey",
          "width": 1
         },
         "mode": "lines",
         "showlegend": false,
         "type": "scatter3d",
         "uid": "897b488e-35fb-4724-9ebf-eaacb6d1cf21",
         "x": [
          -10.97,
          -10.97
         ],
         "y": [
          6.72,
          6.72
         ],
         "z": [
          -1441.93,
          -2453.06
         ]
        },
        {
         "hoverinfo": "skip",
         "line": {
          "color": "grey",
          "width": 1
         },
         "mode": "lines",
         "showlegend": false,
         "type": "scatter3d",
         "uid": "f3a24ff6-4bd4-4509-8a27-7e9c2e3d03cc",
         "x": [
          -347.88,
          -570.9,
          -256.14,
          361,
          576.37,
          338.44,
          101.04,
          22.11,
          -347.88
         ],
         "y": [
          451.52,
          -125.14,
          -521.08,
          -422.83,
          170.92,
          463.72,
          412.79,
          509.5,
          451.52
         ],
         "z": [
          -2453.06,
          -2453.06,
          -2453.06,
          -2453.06,
          -2453.06,
          -2453.06,
          -2453.06,
          -2453.06,
          -2453.06,
          -2453.06,
          -2453.06,
          -2453.06,
          -2453.06,
          -2453.06,
          -2453.06,
          -2453.06,
          -2453.06,
          -2453.06,
          -2453.06,
          -2453.06,
          -2453.06,
          -2453.06,
          -2453.06,
          -2453.06,
          -2453.06,
          -2453.06,
          -2453.06,
          -2453.06,
          -2453.06,
          -2453.06,
          -2453.06,
          -2453.06,
          -2453.06,
          -2453.06,
          -2453.06,
          -2453.06,
          -2453.06,
          -2453.06,
          -2453.06,
          -2453.06,
          -2453.06,
          -2453.06,
          -2453.06,
          -2453.06,
          -2453.06,
          -2453.06,
          -2453.06,
          -2453.06,
          -2453.06,
          -2453.06,
          -2453.06,
          -2453.06,
          -2453.06,
          -2453.06,
          -2453.06,
          -2453.06,
          -2453.06,
          -2453.06,
          -2453.06,
          -2453.06,
          -2453.06,
          -2453.06,
          -2453.06,
          -2453.06,
          -2453.06,
          -2453.06,
          -2453.06,
          -2453.06,
          -2453.06,
          -2453.06,
          -2453.06,
          -2453.06,
          -2453.06,
          -2453.06,
          -2453.06,
          -2453.06,
          -2453.06,
          -2453.06,
          -2453.06,
          -2453.06,
          -2453.06,
          -2453.06,
          -2453.06,
          -2453.06,
          -2453.06,
          -2453.06
         ]
        },
        {
         "hoverinfo": "skip",
         "line": {
          "color": "grey",
          "width": 1
         },
         "mode": "lines",
         "showlegend": false,
         "type": "scatter3d",
         "uid": "4d7d5a81-c7c2-4608-be82-2283ce61715a",
         "x": [
          -347.88,
          -570.9,
          -256.14,
          361,
          576.37,
          338.44,
          101.04,
          22.11,
          -347.88
         ],
         "y": [
          451.52,
          -125.14,
          -521.08,
          -422.83,
          170.92,
          463.72,
          412.79,
          509.5,
          451.52
         ],
         "z": [
          -1441.93,
          -1441.93,
          -1441.93,
          -1441.93,
          -1441.93,
          -1441.93,
          -1441.93,
          -1441.93,
          -1441.93,
          -1441.93,
          -1441.93,
          -1441.93,
          -1441.93,
          -1441.93,
          -1441.93,
          -1441.93,
          -1441.93,
          -1441.93,
          -1441.93,
          -1441.93,
          -1441.93,
          -1441.93,
          -1441.93,
          -1441.93,
          -1441.93,
          -1441.93,
          -1441.93,
          -1441.93,
          -1441.93,
          -1441.93,
          -1441.93,
          -1441.93,
          -1441.93,
          -1441.93,
          -1441.93,
          -1441.93,
          -1441.93,
          -1441.93,
          -1441.93,
          -1441.93,
          -1441.93,
          -1441.93,
          -1441.93,
          -1441.93,
          -1441.93,
          -1441.93,
          -1441.93,
          -1441.93,
          -1441.93,
          -1441.93,
          -1441.93,
          -1441.93,
          -1441.93,
          -1441.93,
          -1441.93,
          -1441.93,
          -1441.93,
          -1441.93,
          -1441.93,
          -1441.93,
          -1441.93,
          -1441.93,
          -1441.93,
          -1441.93,
          -1441.93,
          -1441.93,
          -1441.93,
          -1441.93,
          -1441.93,
          -1441.93,
          -1441.93,
          -1441.93,
          -1441.93,
          -1441.93,
          -1441.93,
          -1441.93,
          -1441.93,
          -1441.93,
          -1441.93,
          -1441.93,
          -1441.93,
          -1441.93,
          -1441.93,
          -1441.93,
          -1441.93,
          -1441.93
         ]
        },
        {
         "customdata": [
          12616.744141,
          12095.242188,
          12325.918945,
          12240.663086,
          12183.240234,
          12327.709961,
          13155.551758,
          13291.783203,
          13081.732422,
          12829.256836,
          12850.262695,
          13042.046875,
          13293.295898,
          15055.267578,
          14739.386719,
          14040.717773,
          14843.068359,
          13406.698242,
          13209.273438,
          14486.927734,
          14087.604492,
          13613.772461,
          13120.414062,
          13159.116211,
          13051.72168,
          13017.267578,
          13002.133789,
          13105.556641,
          13203.984375,
          13740.862305,
          13538.115234,
          13735.895508,
          13673.253906,
          14132.34375,
          13641.108398,
          13905.295898,
          14534.362305,
          14343.624023,
          14226,
          14136.501953,
          14169.121094,
          14261.515625,
          14434.217773,
          14497.763672,
          14808.605469,
          14788.893555,
          16961.535156,
          14844.320312,
          15055.077148
         ],
         "hoverinfo": [
          "x",
          "y",
          "z",
          "text"
         ],
         "hovertemplate": "x: %{x} m, y: %{y} m, z: %{z} m, t: %{customdata} ns",
         "hovertext": [
          "-1921.99 ns",
          "-1887.94 ns",
          "-1905.58 ns",
          "-1888.56 ns",
          "-1871.53 ns",
          "-1854.51 ns",
          "-1906.16 ns",
          "-1889.14 ns",
          "-1872.12 ns",
          "-1855.10 ns",
          "-1838.08 ns",
          "-1804.04 ns",
          "-1787.02 ns",
          "-1955.90 ns",
          "-1904.84 ns",
          "-1768.67 ns",
          "-1909.57 ns",
          "-1892.54 ns",
          "-1841.48 ns",
          "-1957.50 ns",
          "-1940.48 ns",
          "-1923.46 ns",
          "-1872.39 ns",
          "-1855.37 ns",
          "-1838.35 ns",
          "-1821.33 ns",
          "-1804.31 ns",
          "-1787.29 ns",
          "-1770.27 ns",
          "-1838.01 ns",
          "-1803.97 ns",
          "-1786.95 ns",
          "-1769.93 ns",
          "-1752.91 ns",
          "-1788.42 ns",
          "-1735.34 ns",
          "-1769.98 ns",
          "-1752.96 ns",
          "-1735.94 ns",
          "-1718.92 ns",
          "-1701.90 ns",
          "-1684.88 ns",
          "-1667.85 ns",
          "-1650.83 ns",
          "-1633.81 ns",
          "-1686.55 ns",
          "-1652.50 ns",
          "-1715.74 ns",
          "-1681.70 ns"
         ],
         "marker": {
          "color": [
           12616.744141,
           12095.242188,
           12325.918945,
           12240.663086,
           12183.240234,
           12327.709961,
           13155.551758,
           13291.783203,
           13081.732422,
           12829.256836,
           12850.262695,
           13042.046875,
           13293.295898,
           15055.267578,
           14739.386719,
           14040.717773,
           14843.068359,
           13406.698242,
           13209.273438,
           14486.927734,
           14087.604492,
           13613.772461,
           13120.414062,
           13159.116211,
           13051.72168,
           13017.267578,
           13002.133789,
           13105.556641,
           13203.984375,
           13740.862305,
           13538.115234,
           13735.895508,
           13673.253906,
           14132.34375,
           13641.108398,
           13905.295898,
           14534.362305,
           14343.624023,
           14226,
           14136.501953,
           14169.121094,
           14261.515625,
           14434.217773,
           14497.763672,
           14808.605469,
           14788.893555,
           16961.535156,
           14844.320312,
           15055.077148
          ],
          "colorscale": [
           [
            0,
            "rgb(255,0,0)"
           ],
           [
            0.125,
            "rgb(255,111,0)"
           ],
           [
            0.25,
            "rgb(255,234,0)"
           ],
           [
            0.375,
            "rgb(151,255,0)"
           ],
           [
            0.5,
            "rgb(44,255,150)"
           ],
           [
            0.625,
            "rgb(0,152,255)"
           ],
           [
            0.75,
            "rgb(0,25,255)"
           ],
           [
            0.875,
            "rgb(0,0,200)"
           ],
           [
            1,
            "rgb(150,0,90)"
           ]
          ],
          "size": 4
         },
         "mode": "markers",
         "showlegend": false,
         "type": "scatter3d",
         "uid": "f2a7e37e-fa8a-4225-a697-62fc024ac8bf",
         "x": [
          -526.63,
          -526.63,
          -481.6,
          -481.6,
          -481.6,
          -481.6,
          -437.04,
          -437.04,
          -437.04,
          -437.04,
          -437.04,
          -437.04,
          -437.04,
          -392.38,
          -392.38,
          -392.38,
          -358.44,
          -358.44,
          -358.44,
          -313.6,
          -313.6,
          -313.6,
          -313.6,
          -313.6,
          -313.6,
          -313.6,
          -313.6,
          -313.6,
          -313.6,
          -268.9,
          -268.9,
          -268.9,
          -268.9,
          -268.9,
          -234.95,
          -145.45,
          -101.06,
          -101.06,
          -101.06,
          -101.06,
          -101.06,
          -101.06,
          -101.06,
          -101.06,
          -101.06,
          -21.97,
          -21.97,
          22.11,
          22.11
         ],
         "y": [
          -15.6,
          -15.6,
          101.39,
          101.39,
          101.39,
          101.39,
          217.8,
          217.8,
          217.8,
          217.8,
          217.8,
          217.8,
          217.8,
          334.24,
          334.24,
          334.24,
          120.56,
          120.56,
          120.56,
          237.44,
          237.44,
          237.44,
          237.44,
          237.44,
          237.44,
          237.44,
          237.44,
          237.44,
          237.44,
          354.24,
          354.24,
          354.24,
          354.24,
          354.24,
          140.44,
          374.24,
          490.22,
          490.22,
          490.22,
          490.22,
          490.22,
          490.22,
          490.22,
          490.22,
          490.22,
          393.24,
          393.24,
          509.5,
          509.5
         ],
         "z": [
          -1921.99,
          -1887.94,
          -1905.58,
          -1888.56,
          -1871.53,
          -1854.51,
          -1906.16,
          -1889.14,
          -1872.12,
          -1855.1,
          -1838.08,
          -1804.04,
          -1787.02,
          -1955.9,
          -1904.84,
          -1768.67,
          -1909.57,
          -1892.54,
          -1841.48,
          -1957.5,
          -1940.48,
          -1923.46,
          -1872.39,
          -1855.37,
          -1838.35,
          -1821.33,
          -1804.31,
          -1787.29,
          -1770.27,
          -1838.01,
          -1803.97,
          -1786.95,
          -1769.93,
          -1752.91,
          -1788.42,
          -1735.34,
          -1769.98,
          -1752.96,
          -1735.94,
          -1718.92,
          -1701.9,
          -1684.88,
          -1667.85,
          -1650.83,
          -1633.81,
          -1686.55,
          -1652.5,
          -1715.74,
          -1681.7
         ]
        }
       ],
       "layout": {
        "annotations": [
         {
          "showarrow": false,
          "text": "Network Electron Score: 0.00",
          "x": 0.4,
          "y": 0.9
         },
         {
          "showarrow": false,
          "text": "True Label: Muon",
          "x": 0.6,
          "y": 0.9
         }
        ],
        "margin": {
         "b": 40,
         "l": 20,
         "r": 20,
         "t": 40
        },
        "scene": {
         "camera": {
          "center": {
           "x": 0,
           "y": 0,
           "z": 0
          },
          "eye": {
           "x": 1.5,
           "y": 1.5,
           "z": 0.1
          },
          "up": {
           "x": 0,
           "y": 0,
           "z": 1
          }
         },
         "xaxis": {
          "backgroundcolor": "whitesmoke",
          "showgrid": false,
          "showspikes": false,
          "showticklabels": false,
          "title": {
           "text": ""
          }
         },
         "yaxis": {
          "backgroundcolor": "whitesmoke",
          "showgrid": false,
          "showspikes": false,
          "showticklabels": false,
          "title": {
           "text": ""
          }
         },
         "zaxis": {
          "backgroundcolor": "whitesmoke",
          "showgrid": false,
          "showspikes": false,
          "showticklabels": false,
          "title": {
           "text": ""
          }
         }
        },
        "template": {
         "data": {
          "bar": [
           {
            "error_x": {
             "color": "#2a3f5f"
            },
            "error_y": {
             "color": "#2a3f5f"
            },
            "marker": {
             "line": {
              "color": "#E5ECF6",
              "width": 0.5
             },
             "pattern": {
              "fillmode": "overlay",
              "size": 10,
              "solidity": 0.2
             }
            },
            "type": "bar"
           }
          ],
          "barpolar": [
           {
            "marker": {
             "line": {
              "color": "#E5ECF6",
              "width": 0.5
             },
             "pattern": {
              "fillmode": "overlay",
              "size": 10,
              "solidity": 0.2
             }
            },
            "type": "barpolar"
           }
          ],
          "carpet": [
           {
            "aaxis": {
             "endlinecolor": "#2a3f5f",
             "gridcolor": "white",
             "linecolor": "white",
             "minorgridcolor": "white",
             "startlinecolor": "#2a3f5f"
            },
            "baxis": {
             "endlinecolor": "#2a3f5f",
             "gridcolor": "white",
             "linecolor": "white",
             "minorgridcolor": "white",
             "startlinecolor": "#2a3f5f"
            },
            "type": "carpet"
           }
          ],
          "choropleth": [
           {
            "colorbar": {
             "outlinewidth": 0,
             "ticks": ""
            },
            "type": "choropleth"
           }
          ],
          "contour": [
           {
            "colorbar": {
             "outlinewidth": 0,
             "ticks": ""
            },
            "colorscale": [
             [
              0,
              "#0d0887"
             ],
             [
              0.1111111111111111,
              "#46039f"
             ],
             [
              0.2222222222222222,
              "#7201a8"
             ],
             [
              0.3333333333333333,
              "#9c179e"
             ],
             [
              0.4444444444444444,
              "#bd3786"
             ],
             [
              0.5555555555555556,
              "#d8576b"
             ],
             [
              0.6666666666666666,
              "#ed7953"
             ],
             [
              0.7777777777777778,
              "#fb9f3a"
             ],
             [
              0.8888888888888888,
              "#fdca26"
             ],
             [
              1,
              "#f0f921"
             ]
            ],
            "type": "contour"
           }
          ],
          "contourcarpet": [
           {
            "colorbar": {
             "outlinewidth": 0,
             "ticks": ""
            },
            "type": "contourcarpet"
           }
          ],
          "heatmap": [
           {
            "colorbar": {
             "outlinewidth": 0,
             "ticks": ""
            },
            "colorscale": [
             [
              0,
              "#0d0887"
             ],
             [
              0.1111111111111111,
              "#46039f"
             ],
             [
              0.2222222222222222,
              "#7201a8"
             ],
             [
              0.3333333333333333,
              "#9c179e"
             ],
             [
              0.4444444444444444,
              "#bd3786"
             ],
             [
              0.5555555555555556,
              "#d8576b"
             ],
             [
              0.6666666666666666,
              "#ed7953"
             ],
             [
              0.7777777777777778,
              "#fb9f3a"
             ],
             [
              0.8888888888888888,
              "#fdca26"
             ],
             [
              1,
              "#f0f921"
             ]
            ],
            "type": "heatmap"
           }
          ],
          "heatmapgl": [
           {
            "colorbar": {
             "outlinewidth": 0,
             "ticks": ""
            },
            "colorscale": [
             [
              0,
              "#0d0887"
             ],
             [
              0.1111111111111111,
              "#46039f"
             ],
             [
              0.2222222222222222,
              "#7201a8"
             ],
             [
              0.3333333333333333,
              "#9c179e"
             ],
             [
              0.4444444444444444,
              "#bd3786"
             ],
             [
              0.5555555555555556,
              "#d8576b"
             ],
             [
              0.6666666666666666,
              "#ed7953"
             ],
             [
              0.7777777777777778,
              "#fb9f3a"
             ],
             [
              0.8888888888888888,
              "#fdca26"
             ],
             [
              1,
              "#f0f921"
             ]
            ],
            "type": "heatmapgl"
           }
          ],
          "histogram": [
           {
            "marker": {
             "pattern": {
              "fillmode": "overlay",
              "size": 10,
              "solidity": 0.2
             }
            },
            "type": "histogram"
           }
          ],
          "histogram2d": [
           {
            "colorbar": {
             "outlinewidth": 0,
             "ticks": ""
            },
            "colorscale": [
             [
              0,
              "#0d0887"
             ],
             [
              0.1111111111111111,
              "#46039f"
             ],
             [
              0.2222222222222222,
              "#7201a8"
             ],
             [
              0.3333333333333333,
              "#9c179e"
             ],
             [
              0.4444444444444444,
              "#bd3786"
             ],
             [
              0.5555555555555556,
              "#d8576b"
             ],
             [
              0.6666666666666666,
              "#ed7953"
             ],
             [
              0.7777777777777778,
              "#fb9f3a"
             ],
             [
              0.8888888888888888,
              "#fdca26"
             ],
             [
              1,
              "#f0f921"
             ]
            ],
            "type": "histogram2d"
           }
          ],
          "histogram2dcontour": [
           {
            "colorbar": {
             "outlinewidth": 0,
             "ticks": ""
            },
            "colorscale": [
             [
              0,
              "#0d0887"
             ],
             [
              0.1111111111111111,
              "#46039f"
             ],
             [
              0.2222222222222222,
              "#7201a8"
             ],
             [
              0.3333333333333333,
              "#9c179e"
             ],
             [
              0.4444444444444444,
              "#bd3786"
             ],
             [
              0.5555555555555556,
              "#d8576b"
             ],
             [
              0.6666666666666666,
              "#ed7953"
             ],
             [
              0.7777777777777778,
              "#fb9f3a"
             ],
             [
              0.8888888888888888,
              "#fdca26"
             ],
             [
              1,
              "#f0f921"
             ]
            ],
            "type": "histogram2dcontour"
           }
          ],
          "mesh3d": [
           {
            "colorbar": {
             "outlinewidth": 0,
             "ticks": ""
            },
            "type": "mesh3d"
           }
          ],
          "parcoords": [
           {
            "line": {
             "colorbar": {
              "outlinewidth": 0,
              "ticks": ""
             }
            },
            "type": "parcoords"
           }
          ],
          "pie": [
           {
            "automargin": true,
            "type": "pie"
           }
          ],
          "scatter": [
           {
            "marker": {
             "colorbar": {
              "outlinewidth": 0,
              "ticks": ""
             }
            },
            "type": "scatter"
           }
          ],
          "scatter3d": [
           {
            "line": {
             "colorbar": {
              "outlinewidth": 0,
              "ticks": ""
             }
            },
            "marker": {
             "colorbar": {
              "outlinewidth": 0,
              "ticks": ""
             }
            },
            "type": "scatter3d"
           }
          ],
          "scattercarpet": [
           {
            "marker": {
             "colorbar": {
              "outlinewidth": 0,
              "ticks": ""
             }
            },
            "type": "scattercarpet"
           }
          ],
          "scattergeo": [
           {
            "marker": {
             "colorbar": {
              "outlinewidth": 0,
              "ticks": ""
             }
            },
            "type": "scattergeo"
           }
          ],
          "scattergl": [
           {
            "marker": {
             "colorbar": {
              "outlinewidth": 0,
              "ticks": ""
             }
            },
            "type": "scattergl"
           }
          ],
          "scattermapbox": [
           {
            "marker": {
             "colorbar": {
              "outlinewidth": 0,
              "ticks": ""
             }
            },
            "type": "scattermapbox"
           }
          ],
          "scatterpolar": [
           {
            "marker": {
             "colorbar": {
              "outlinewidth": 0,
              "ticks": ""
             }
            },
            "type": "scatterpolar"
           }
          ],
          "scatterpolargl": [
           {
            "marker": {
             "colorbar": {
              "outlinewidth": 0,
              "ticks": ""
             }
            },
            "type": "scatterpolargl"
           }
          ],
          "scatterternary": [
           {
            "marker": {
             "colorbar": {
              "outlinewidth": 0,
              "ticks": ""
             }
            },
            "type": "scatterternary"
           }
          ],
          "surface": [
           {
            "colorbar": {
             "outlinewidth": 0,
             "ticks": ""
            },
            "colorscale": [
             [
              0,
              "#0d0887"
             ],
             [
              0.1111111111111111,
              "#46039f"
             ],
             [
              0.2222222222222222,
              "#7201a8"
             ],
             [
              0.3333333333333333,
              "#9c179e"
             ],
             [
              0.4444444444444444,
              "#bd3786"
             ],
             [
              0.5555555555555556,
              "#d8576b"
             ],
             [
              0.6666666666666666,
              "#ed7953"
             ],
             [
              0.7777777777777778,
              "#fb9f3a"
             ],
             [
              0.8888888888888888,
              "#fdca26"
             ],
             [
              1,
              "#f0f921"
             ]
            ],
            "type": "surface"
           }
          ],
          "table": [
           {
            "cells": {
             "fill": {
              "color": "#EBF0F8"
             },
             "line": {
              "color": "white"
             }
            },
            "header": {
             "fill": {
              "color": "#C8D4E3"
             },
             "line": {
              "color": "white"
             }
            },
            "type": "table"
           }
          ]
         },
         "layout": {
          "annotationdefaults": {
           "arrowcolor": "#2a3f5f",
           "arrowhead": 0,
           "arrowwidth": 1
          },
          "autotypenumbers": "strict",
          "coloraxis": {
           "colorbar": {
            "outlinewidth": 0,
            "ticks": ""
           }
          },
          "colorscale": {
           "diverging": [
            [
             0,
             "#8e0152"
            ],
            [
             0.1,
             "#c51b7d"
            ],
            [
             0.2,
             "#de77ae"
            ],
            [
             0.3,
             "#f1b6da"
            ],
            [
             0.4,
             "#fde0ef"
            ],
            [
             0.5,
             "#f7f7f7"
            ],
            [
             0.6,
             "#e6f5d0"
            ],
            [
             0.7,
             "#b8e186"
            ],
            [
             0.8,
             "#7fbc41"
            ],
            [
             0.9,
             "#4d9221"
            ],
            [
             1,
             "#276419"
            ]
           ],
           "sequential": [
            [
             0,
             "#0d0887"
            ],
            [
             0.1111111111111111,
             "#46039f"
            ],
            [
             0.2222222222222222,
             "#7201a8"
            ],
            [
             0.3333333333333333,
             "#9c179e"
            ],
            [
             0.4444444444444444,
             "#bd3786"
            ],
            [
             0.5555555555555556,
             "#d8576b"
            ],
            [
             0.6666666666666666,
             "#ed7953"
            ],
            [
             0.7777777777777778,
             "#fb9f3a"
            ],
            [
             0.8888888888888888,
             "#fdca26"
            ],
            [
             1,
             "#f0f921"
            ]
           ],
           "sequentialminus": [
            [
             0,
             "#0d0887"
            ],
            [
             0.1111111111111111,
             "#46039f"
            ],
            [
             0.2222222222222222,
             "#7201a8"
            ],
            [
             0.3333333333333333,
             "#9c179e"
            ],
            [
             0.4444444444444444,
             "#bd3786"
            ],
            [
             0.5555555555555556,
             "#d8576b"
            ],
            [
             0.6666666666666666,
             "#ed7953"
            ],
            [
             0.7777777777777778,
             "#fb9f3a"
            ],
            [
             0.8888888888888888,
             "#fdca26"
            ],
            [
             1,
             "#f0f921"
            ]
           ]
          },
          "colorway": [
           "#636efa",
           "#EF553B",
           "#00cc96",
           "#ab63fa",
           "#FFA15A",
           "#19d3f3",
           "#FF6692",
           "#B6E880",
           "#FF97FF",
           "#FECB52"
          ],
          "font": {
           "color": "#2a3f5f"
          },
          "geo": {
           "bgcolor": "white",
           "lakecolor": "white",
           "landcolor": "#E5ECF6",
           "showlakes": true,
           "showland": true,
           "subunitcolor": "white"
          },
          "hoverlabel": {
           "align": "left"
          },
          "hovermode": "closest",
          "mapbox": {
           "style": "light"
          },
          "paper_bgcolor": "white",
          "plot_bgcolor": "#E5ECF6",
          "polar": {
           "angularaxis": {
            "gridcolor": "white",
            "linecolor": "white",
            "ticks": ""
           },
           "bgcolor": "#E5ECF6",
           "radialaxis": {
            "gridcolor": "white",
            "linecolor": "white",
            "ticks": ""
           }
          },
          "scene": {
           "xaxis": {
            "backgroundcolor": "#E5ECF6",
            "gridcolor": "white",
            "gridwidth": 2,
            "linecolor": "white",
            "showbackground": true,
            "ticks": "",
            "zerolinecolor": "white"
           },
           "yaxis": {
            "backgroundcolor": "#E5ECF6",
            "gridcolor": "white",
            "gridwidth": 2,
            "linecolor": "white",
            "showbackground": true,
            "ticks": "",
            "zerolinecolor": "white"
           },
           "zaxis": {
            "backgroundcolor": "#E5ECF6",
            "gridcolor": "white",
            "gridwidth": 2,
            "linecolor": "white",
            "showbackground": true,
            "ticks": "",
            "zerolinecolor": "white"
           }
          },
          "shapedefaults": {
           "line": {
            "color": "#2a3f5f"
           }
          },
          "ternary": {
           "aaxis": {
            "gridcolor": "white",
            "linecolor": "white",
            "ticks": ""
           },
           "baxis": {
            "gridcolor": "white",
            "linecolor": "white",
            "ticks": ""
           },
           "bgcolor": "#E5ECF6",
           "caxis": {
            "gridcolor": "white",
            "linecolor": "white",
            "ticks": ""
           }
          },
          "title": {
           "x": 0.05
          },
          "xaxis": {
           "automargin": true,
           "gridcolor": "white",
           "linecolor": "white",
           "ticks": "",
           "title": {
            "standoff": 15
           },
           "zerolinecolor": "white",
           "zerolinewidth": 2
          },
          "yaxis": {
           "automargin": true,
           "gridcolor": "white",
           "linecolor": "white",
           "ticks": "",
           "title": {
            "standoff": 15
           },
           "zerolinecolor": "white",
           "zerolinewidth": 2
          }
         }
        }
       }
      }
     },
     "metadata": {},
     "output_type": "display_data"
    }
   ],
   "source": [
    "event_no = 14\n",
    "MLHelper.plot_event(event_no,\n",
    "                    reveal_network_predition=True,\n",
    "                    reveal_true_label=True)"
   ]
  },
  {
   "cell_type": "code",
   "execution_count": 100,
   "id": "78994ce1",
   "metadata": {
    "scrolled": true
   },
   "outputs": [],
   "source": [
    "pred_label = []\n",
    "true_label = []\n",
    "for input,target in MLHelper.train_dataloader:\n",
    "    output = MLHelper.net(input).detach().numpy()\n",
    "    true_label += list(target[:,0])\n",
    "    pred_label += list(output[:])"
   ]
  },
  {
   "cell_type": "code",
   "execution_count": 101,
   "id": "ab9311d8",
   "metadata": {
    "scrolled": true
   },
   "outputs": [],
   "source": [
    "pred_label_test = []\n",
    "true_label_test = []\n",
    "for input,target in MLHelper.test_dataloader:\n",
    "    output = MLHelper.net(input).detach().numpy()\n",
    "    true_label_test += list(target[:,0])\n",
    "    pred_label_test += list(output[:])"
   ]
  },
  {
   "cell_type": "code",
   "execution_count": 102,
   "id": "ae99ed08",
   "metadata": {},
   "outputs": [
    {
     "data": {
      "image/png": "[encoded data removed]",
      "text/plain": [
       "<Figure size 432x288 with 1 Axes>"
      ]
     },
     "metadata": {
      "needs_background": "light"
     },
     "output_type": "display_data"
    }
   ],
   "source": [
    "pred = np.array(pred_label,dtype=float)\n",
    "true = np.array(true_label,dtype=float)\n",
    "pred_test = np.array(pred_label_test,dtype=float)\n",
    "true_test = np.array(true_label_test,dtype=float)\n",
    "plt.hist(pred[true==0],alpha=0.5,bins=np.linspace(0,1,20),label=\"train tracks\")\n",
    "plt.hist(pred[true==1],alpha=0.5,bins=np.linspace(0,1,20),label=\"train cascades\")\n",
    "plt.hist(pred_test[true_test==0],alpha=0.5,bins=np.linspace(0,1,20),label=\"test tracks\")\n",
    "plt.hist(pred_test[true_test==1],alpha=0.5,bins=np.linspace(0,1,20),label=\"test cascades\")\n",
    "plt.xlabel(\"Cascade score\")\n",
    "plt.ylabel(\"Events\")\n",
    "plt.semilogy()\n",
    "plt.legend(fontsize=14)\n",
    "plt.show()\n",
    "# plt.hist2d(true_azimuth,pred_azimuth,bins=np.linspace(-np.pi,np.pi,50))\n",
    "# plt.show()"
   ]
  },
  {
   "cell_type": "code",
   "execution_count": null,
   "id": "f77670d2",
   "metadata": {},
   "outputs": [],
   "source": []
  }
 ],
 "metadata": {
  "kernelspec": {
   "display_name": "Python 3 (ipykernel)",
   "language": "python",
   "name": "python3"
  },
  "language_info": {
   "codemirror_mode": {
    "name": "ipython",
    "version": 3
   },
   "file_extension": ".py",
   "mimetype": "text/x-python",
   "name": "python",
   "nbconvert_exporter": "python",
   "pygments_lexer": "ipython3",
   "version": "3.9.12"
  }
 },
 "nbformat": 4,
 "nbformat_minor": 5
}
