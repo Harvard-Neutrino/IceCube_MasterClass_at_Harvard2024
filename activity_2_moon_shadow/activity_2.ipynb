{
 "cells": [
  {
   "cell_type": "markdown",
   "metadata": {},
   "source": [
    "## Introduction:"
   ]
  },
  {
   "cell_type": "markdown",
   "metadata": {},
   "source": [
    "As we discussed this morning, showers of high energy protons called \"cosmic rays\" rain down on our solar system from outer space all the time, from every direction. When these cosmic rays hit the dense air in our atmosphere, they interact, producing many other long lived particles. Our detectors have been observing these for 100 years!\n",
    "\n",
    "We also saw this morning that a thick material (like a sheet of plastic) can block many of these particles. Because the moon is close to us and very very dense, it can block cosmic rays from reaching our detectors! \n",
    "\n",
    "In other words, by looking for a *reduction* in the number of events in a particular direction, we can \"see\" the moon. This was the first kind of astrophysics IceCube could do!\n",
    "\n",
    "(If you're interested in reading more about this, you can take a look at this press release: https://icecube.wisc.edu/news/research/2013/05/cosmic-ray-moon-shadow-seen-by-icecube/ or read the original publication https://arxiv.org/pdf/1305.6811!)"
   ]
  },
  {
   "cell_type": "code",
   "execution_count": null,
   "metadata": {},
   "outputs": [],
   "source": [
    "# needed for figures to appear in colab \n",
    "from google.colab import output\n",
    "output.enable_custom_widget_manager()\n",
    "\n",
    "!rm -rf sample_data\n",
    "!mkdir sim_moonshadow\n",
    "\n",
    "# download tracks.parquet\n",
    "!gdown 1nqffw6xHLdX2oO8d-5xjExYZryo7rp3x\n",
    "!mv tracks.parquet sim_moonshadow/tracks.parquet\n",
    "\n",
    "# download cascades.parquet\n",
    "!gdown 1yo3jD0a9xB2FfIXJJuMRc71IMe6nztvq\n",
    "!mv cascades.parquet sim_moonshadow/cascades.parquet\n",
    "\n",
    "# download pre-prepared analysis code\n",
    "!rm -rf IceCube_MasterClass_at_Harvard2024\n",
    "!git clone \"https://github.com/kcarloni/IceCube_MasterClass_at_Harvard2024\";\n",
    "\n",
    "import sys\n",
    "sys.path.insert(0, \"./IceCube_MasterClass_at_Harvard2024/\")"
   ]
  },
  {
   "cell_type": "markdown",
   "metadata": {},
   "source": [
    "## 1: Where is the moon in the sky? "
   ]
  },
  {
   "cell_type": "markdown",
   "metadata": {},
   "source": [
    "## 2: Can we see the moon? "
   ]
  },
  {
   "cell_type": "markdown",
   "metadata": {},
   "source": [
    "## 3: What makes the moon blurry? "
   ]
  }
 ],
 "metadata": {
  "language_info": {
   "name": "python"
  }
 },
 "nbformat": 4,
 "nbformat_minor": 2
}
