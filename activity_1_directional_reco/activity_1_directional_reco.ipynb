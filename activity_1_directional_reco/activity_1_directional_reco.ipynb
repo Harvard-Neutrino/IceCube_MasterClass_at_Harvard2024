{
 "cells": [
  {
   "cell_type": "markdown",
   "metadata": {},
   "source": [
    "### Introduction:"
   ]
  },
  {
   "cell_type": "markdown",
   "metadata": {},
   "source": [
    "The IceCube Neutrino Observatory is composed of many light detectors, called \"DOMs\" (digital optical modules), buried two kilometers deep below the surface of the South Pole. These light detectors are arranged in a roughly three dimensional grid: there are many \"strings\" hanging vertically downwards in the ice, and on each string there are many DOMs: \n",
    "\n",
    "![](../resources/images/I3det_v2_edited.jpeg)\n",
    "\n",
    "When a high energy charged particle passes through the ice, it produces what is called Cherenkov light, which can then be detected by the many DOMs. The **locations** of the DOMs that see light, the **times** at which they saw light, and the **amount** of light they see all communicate information about this charged particle."
   ]
  },
  {
   "cell_type": "markdown",
   "metadata": {},
   "source": [
    "As experimentalists, what we want to do is work backwards: if what we have is this information about the light seen by the detector, what can we figure out about the original particle? "
   ]
  },
  {
   "cell_type": "markdown",
   "metadata": {},
   "source": [
    "### 1: Visualizing events:"
   ]
  },
  {
   "cell_type": "markdown",
   "metadata": {},
   "source": [
    "For this activity, we've prepared a simulation of many events within the IceCube detector. Execute the cell below by clicking the triangle or hitting `^ enter` to download the simulation from google drive."
   ]
  },
  {
   "cell_type": "code",
   "execution_count": null,
   "metadata": {},
   "outputs": [],
   "source": [
    "# download tracks.parquet\n",
    "!gdown 1nqffw6xHLdX2oO8d-5xjExYZryo7rp3x\n",
    "\n",
    "# download pre-prepared analysis code\n",
    "!git clone \"https://github.com/kcarloni/IceCube_MasterClass_at_Harvard2024\";\n",
    "\n",
    "import sys\n",
    "sys.path.insert(0, \"./IceCube_MasterClass_at_Harvard2024/src/\")"
   ]
  },
  {
   "cell_type": "code",
   "execution_count": null,
   "metadata": {},
   "outputs": [],
   "source": [
    "from event_reader import EventSelection, Event\n",
    "tracks = EventSelection(\"tracks.parquet\")"
   ]
  },
  {
   "cell_type": "markdown",
   "metadata": {},
   "source": [
    "Let's look at an 'event' in the detector. An event is just a bunch of 'hits', ie. instances in which light hit different sensors, which are grouped together because they all occured within the same time window."
   ]
  },
  {
   "cell_type": "code",
   "execution_count": null,
   "metadata": {},
   "outputs": [],
   "source": [
    "evt_num = 24\n",
    "evt = tracks[evt_num]\n",
    "evt"
   ]
  },
  {
   "cell_type": "markdown",
   "metadata": {},
   "source": [
    "We can visualize an event within the detector by plotting it.  "
   ]
  },
  {
   "cell_type": "code",
   "execution_count": null,
   "metadata": {},
   "outputs": [],
   "source": [
    "import plotly.graph_objs as go\n",
    "from plot_event import *\n",
    "\n",
    "layout = get_3d_layout()\n",
    "plot_det = get_I3det()\n",
    "\n",
    "fig = go.FigureWidget(data=plot_det, layout=layout)\n",
    "\n",
    "plot_evt = plot_first_hits(evt)\n",
    "fig.add_trace(plot_evt)\n",
    "\n",
    "fig"
   ]
  },
  {
   "cell_type": "markdown",
   "metadata": {},
   "source": [
    "### 2: From what direction did the neutrino come from? "
   ]
  },
  {
   "cell_type": "markdown",
   "metadata": {},
   "source": [
    "WIP: Felix's directional reconstruction game. "
   ]
  },
  {
   "cell_type": "code",
   "execution_count": null,
   "metadata": {},
   "outputs": [],
   "source": [
    "!pip install \"analysis @ git+https://github.com/jlazar17/IceCube_Masterclass_MoonShadow\";\n",
    "\n",
    "from analysis import DataReader\n",
    "from analysis import reco_game\n",
    "\n",
    "tracks = DataReader(\"tracks.parquet\")"
   ]
  },
  {
   "cell_type": "code",
   "execution_count": null,
   "metadata": {},
   "outputs": [],
   "source": [
    "reco_game(tracks)"
   ]
  },
  {
   "cell_type": "markdown",
   "metadata": {},
   "source": [
    "### 3: "
   ]
  },
  {
   "cell_type": "markdown",
   "metadata": {},
   "source": [
    "WIP: implement an optimizer-based directional reco?"
   ]
  },
  {
   "cell_type": "markdown",
   "metadata": {},
   "source": [
    "WIP (?) implement / load some kind of ML reco to show? "
   ]
  },
  {
   "cell_type": "markdown",
   "metadata": {},
   "source": [
    "WIP: make plots to show how different reconstructions compare; performance as a function of energy..."
   ]
  },
  {
   "cell_type": "markdown",
   "metadata": {},
   "source": []
  }
 ],
 "metadata": {
  "kernelspec": {
   "display_name": "Python 3",
   "language": "python",
   "name": "python3"
  },
  "language_info": {
   "codemirror_mode": {
    "name": "ipython",
    "version": 3
   },
   "file_extension": ".py",
   "mimetype": "text/x-python",
   "name": "python",
   "nbconvert_exporter": "python",
   "pygments_lexer": "ipython3",
   "version": "3.10.6"
  }
 },
 "nbformat": 4,
 "nbformat_minor": 2
}
