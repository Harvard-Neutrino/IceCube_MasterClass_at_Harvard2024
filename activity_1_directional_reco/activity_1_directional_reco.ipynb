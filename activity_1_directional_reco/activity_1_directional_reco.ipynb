{
 "cells": [
  {
   "cell_type": "markdown",
   "metadata": {},
   "source": [
    "## Introduction:"
   ]
  },
  {
   "cell_type": "markdown",
   "metadata": {},
   "source": [
    "The IceCube Neutrino Observatory is composed of many light detectors, called \"DOMs\" (digital optical modules), buried two kilometers deep below the surface of the South Pole. These light detectors are arranged in a roughly three dimensional grid: there are many \"strings\" hanging vertically downwards in the ice, and on each string there are many DOMs: \n",
    "\n",
    "![](../resources/images/I3det_v2_edited.jpeg)\n",
    "\n",
    "When a high energy charged particle passes through the ice, it produces what is called Cherenkov light, which can then be detected by the many DOMs. The **locations** of the DOMs that see light, the **times** at which they saw light, and the **amount** of light they see all communicate information about this charged particle."
   ]
  },
  {
   "cell_type": "markdown",
   "metadata": {},
   "source": [
    "As experimentalists, what we want to do is work backwards: if what we have is this information about the light seen by the detector, what can we figure out about the original particle? "
   ]
  },
  {
   "cell_type": "markdown",
   "metadata": {},
   "source": [
    "## 1: Visualizing events:"
   ]
  },
  {
   "cell_type": "markdown",
   "metadata": {},
   "source": [
    "For this activity, we've prepared a simulation of many events within the IceCube detector. Execute the cell below by clicking the triangle or hitting `shift return` to download the simulation from google drive. Google CoLab will ask you if you trust the notebook: hit `Run Anyway`. "
   ]
  },
  {
   "cell_type": "code",
   "execution_count": null,
   "metadata": {},
   "outputs": [],
   "source": [
    "# needed for figures to appear in colab \n",
    "from google.colab import output\n",
    "output.enable_custom_widget_manager()\n",
    "# from IPython.display import display, clear_output\n",
    "\n",
    "!rm -rf sample_data\n",
    "!mkdir sim_moonshadow\n",
    "\n",
    "# download tracks.parquet\n",
    "!gdown 1nqffw6xHLdX2oO8d-5xjExYZryo7rp3x\n",
    "!mv tracks.parquet sim_moonshadow/tracks.parquet\n",
    "\n",
    "# # download cascades.parquet\n",
    "# !gdown 1yo3jD0a9xB2FfIXJJuMRc71IMe6nztvq\n",
    "# !mv cascades.parquet sim_moonshadow/cascades.parquet\n",
    "\n",
    "# download pre-prepared analysis code\n",
    "!rm -rf IceCube_MasterClass_at_Harvard2024\n",
    "!git clone \"https://github.com/kcarloni/IceCube_MasterClass_at_Harvard2024\";\n",
    "\n",
    "import sys\n",
    "sys.path.insert(0, \"./IceCube_MasterClass_at_Harvard2024/\")"
   ]
  },
  {
   "cell_type": "code",
   "execution_count": 2,
   "metadata": {},
   "outputs": [],
   "source": [
    "from src.event_reader import load_sim_events\n",
    "\n",
    "tracks = load_sim_events(\"sim_moonshadow/tracks.parquet\")\n",
    "# tracks = load_sim_events(\"../../sim_prometheus/reduced_muons.parquet\")\n",
    "# tracks = EventSelection(\"tracks.parquet\")"
   ]
  },
  {
   "cell_type": "markdown",
   "metadata": {},
   "source": [
    "Let's look at an 'event' in the detector. An event is just a bunch of 'hits', ie. instances in which light hit different sensors, which are grouped together because they all occured within the same time window."
   ]
  },
  {
   "cell_type": "code",
   "execution_count": 3,
   "metadata": {},
   "outputs": [
    {
     "data": {
      "text/plain": [
       "<src.event_reader.Event at 0x11c6cbc10>"
      ]
     },
     "execution_count": 3,
     "metadata": {},
     "output_type": "execute_result"
    }
   ],
   "source": [
    "evt_num = 24\n",
    "evt = tracks[evt_num]\n",
    "evt"
   ]
  },
  {
   "cell_type": "markdown",
   "metadata": {},
   "source": [
    "We can visualize an event within the detector by plotting it.  "
   ]
  },
  {
   "cell_type": "code",
   "execution_count": 4,
   "metadata": {},
   "outputs": [
    {
     "data": {
      "application/vnd.plotly.v1+json": {
       "config": {
        "plotlyServerURL": "https://plot.ly"
       },
       "data": [
        {
         "hoverinfo": "skip",
         "line": {
          "color": "lightgrey",
          "width": 1
         },
         "mode": "lines",
         "showlegend": false,
         "type": "scatter3d",
         "uid": "05e38f35-aee3-4c79-8ba9-f62106086209",
         "x": [
          -256.14,
          -256.14
         ],
         "y": [
          -521.08,
          -521.08
         ],
         "z": [
          -1441.93,
          -2453.06
         ]
        },
        {
         "hoverinfo": "skip",
         "line": {
          "color": "lightgrey",
          "width": 1
         },
         "mode": "lines",
         "showlegend": false,
         "type": "scatter3d",
         "uid": "45829dc6-9f01-4b66-a6f9-0e295f5c33d7",
         "x": [
          -132.8,
          -132.8
         ],
         "y": [
          -501.45,
          -501.45
         ],
         "z": [
          -1441.93,
          -2453.06
         ]
        },
        {
         "hoverinfo": "skip",
         "line": {
          "color": "lightgrey",
          "width": 1
         },
         "mode": "lines",
         "showlegend": false,
         "type": "scatter3d",
         "uid": "2c3a1fbe-5b2c-44e8-8c44-f84ec87fda99",
         "x": [
          -9.13,
          -9.13
         ],
         "y": [
          -481.74,
          -481.74
         ],
         "z": [
          -1441.93,
          -2453.06
         ]
        },
        {
         "hoverinfo": "skip",
         "line": {
          "color": "lightgrey",
          "width": 1
         },
         "mode": "lines",
         "showlegend": false,
         "type": "scatter3d",
         "uid": "1f5c9fa2-032c-43df-97ff-f510645f828e",
         "x": [
          114.39,
          114.39
         ],
         "y": [
          -461.99,
          -461.99
         ],
         "z": [
          -1441.93,
          -2453.06
         ]
        },
        {
         "hoverinfo": "skip",
         "line": {
          "color": "lightgrey",
          "width": 1
         },
         "mode": "lines",
         "showlegend": false,
         "type": "scatter3d",
         "uid": "10acd903-fb07-497f-87ae-64a220e3787c",
         "x": [
          237.78,
          237.78
         ],
         "y": [
          -442.42,
          -442.42
         ],
         "z": [
          -1441.93,
          -2453.06
         ]
        },
        {
         "hoverinfo": "skip",
         "line": {
          "color": "lightgrey",
          "width": 1
         },
         "mode": "lines",
         "showlegend": false,
         "type": "scatter3d",
         "uid": "67d76abb-8ade-4e7d-b22f-b6b674261acc",
         "x": [
          361,
          361
         ],
         "y": [
          -422.83,
          -422.83
         ],
         "z": [
          -1441.93,
          -2453.06
         ]
        },
        {
         "hoverinfo": "skip",
         "line": {
          "color": "lightgrey",
          "width": 1
         },
         "mode": "lines",
         "showlegend": false,
         "type": "scatter3d",
         "uid": "e321c2c1-54ce-4214-b9d0-15ed68eb3e0c",
         "x": [
          -334.8,
          -334.8
         ],
         "y": [
          -424.5,
          -424.5
         ],
         "z": [
          -1441.93,
          -2453.06
         ]
        },
        {
         "hoverinfo": "skip",
         "line": {
          "color": "lightgrey",
          "width": 1
         },
         "mode": "lines",
         "showlegend": false,
         "type": "scatter3d",
         "uid": "816c933d-ac6d-44f8-be5f-ea8fc1ea5d9b",
         "x": [
          -211.35,
          -211.35
         ],
         "y": [
          -404.48,
          -404.48
         ],
         "z": [
          -1441.93,
          -2453.06
         ]
        },
        {
         "hoverinfo": "skip",
         "line": {
          "color": "lightgrey",
          "width": 1
         },
         "mode": "lines",
         "showlegend": false,
         "type": "scatter3d",
         "uid": "0273ed64-fcc8-4ce0-acbb-45a0ceb1f413",
         "x": [
          -88.05,
          -88.05
         ],
         "y": [
          -384.3,
          -384.3
         ],
         "z": [
          -1441.93,
          -2453.06
         ]
        },
        {
         "hoverinfo": "skip",
         "line": {
          "color": "lightgrey",
          "width": 1
         },
         "mode": "lines",
         "showlegend": false,
         "type": "scatter3d",
         "uid": "abb72266-f8d5-402c-8e2a-cde078fa184b",
         "x": [
          35.54,
          35.54
         ],
         "y": [
          -364.83,
          -364.83
         ],
         "z": [
          -1441.93,
          -2453.06
         ]
        },
        {
         "hoverinfo": "skip",
         "line": {
          "color": "lightgrey",
          "width": 1
         },
         "mode": "lines",
         "showlegend": false,
         "type": "scatter3d",
         "uid": "f35b5b01-5ddd-4475-97ae-81d1eebbc2a4",
         "x": [
          158.94,
          158.94
         ],
         "y": [
          -345.23,
          -345.23
         ],
         "z": [
          -1441.93,
          -2453.06
         ]
        },
        {
         "hoverinfo": "skip",
         "line": {
          "color": "lightgrey",
          "width": 1
         },
         "mode": "lines",
         "showlegend": false,
         "type": "scatter3d",
         "uid": "3758bde0-f8ab-4d1e-a051-739c53fdceb2",
         "x": [
          282.18,
          282.18
         ],
         "y": [
          -325.74,
          -325.74
         ],
         "z": [
          -1441.93,
          -2453.06
         ]
        },
        {
         "hoverinfo": "skip",
         "line": {
          "color": "lightgrey",
          "width": 1
         },
         "mode": "lines",
         "showlegend": false,
         "type": "scatter3d",
         "uid": "926a2a8f-0fc2-4bd6-aceb-6b77ad89938b",
         "x": [
          405.83,
          405.83
         ],
         "y": [
          -306.38,
          -306.38
         ],
         "z": [
          -1441.93,
          -2453.06
         ]
        },
        {
         "hoverinfo": "skip",
         "line": {
          "color": "lightgrey",
          "width": 1
         },
         "mode": "lines",
         "showlegend": false,
         "type": "scatter3d",
         "uid": "64d65cb8-4cef-4943-879e-e9d12b597e3c",
         "x": [
          -413.46,
          -413.46
         ],
         "y": [
          -327.27,
          -327.27
         ],
         "z": [
          -1441.93,
          -2453.06
         ]
        },
        {
         "hoverinfo": "skip",
         "line": {
          "color": "lightgrey",
          "width": 1
         },
         "mode": "lines",
         "showlegend": false,
         "type": "scatter3d",
         "uid": "f50b8e95-5b4f-4af9-9565-20f662113a88",
         "x": [
          -290.66,
          -290.66
         ],
         "y": [
          -307.38,
          -307.38
         ],
         "z": [
          -1441.93,
          -2453.06
         ]
        },
        {
         "hoverinfo": "skip",
         "line": {
          "color": "lightgrey",
          "width": 1
         },
         "mode": "lines",
         "showlegend": false,
         "type": "scatter3d",
         "uid": "c05e1ae6-f257-4bba-95e5-40a13143303f",
         "x": [
          -166.4,
          -166.4
         ],
         "y": [
          -287.79,
          -287.79
         ],
         "z": [
          -1441.93,
          -2453.06
         ]
        },
        {
         "hoverinfo": "skip",
         "line": {
          "color": "lightgrey",
          "width": 1
         },
         "mode": "lines",
         "showlegend": false,
         "type": "scatter3d",
         "uid": "e8f1149f-e63f-4895-9297-44e81b30c04a",
         "x": [
          -43.27,
          -43.27
         ],
         "y": [
          -267.52,
          -267.52
         ],
         "z": [
          -1441.93,
          -2453.06
         ]
        },
        {
         "hoverinfo": "skip",
         "line": {
          "color": "lightgrey",
          "width": 1
         },
         "mode": "lines",
         "showlegend": false,
         "type": "scatter3d",
         "uid": "33c0319f-6b9f-4dab-a6c5-e11e3c1ac8b9",
         "x": [
          79.41,
          79.41
         ],
         "y": [
          -248.24,
          -248.24
         ],
         "z": [
          -1441.93,
          -2453.06
         ]
        },
        {
         "hoverinfo": "skip",
         "line": {
          "color": "lightgrey",
          "width": 1
         },
         "mode": "lines",
         "showlegend": false,
         "type": "scatter3d",
         "uid": "8dd844ed-4ff5-45b3-a659-2a23e4ee65ec",
         "x": [
          210.47,
          210.47
         ],
         "y": [
          -209.77,
          -209.77
         ],
         "z": [
          -1441.93,
          -2453.06
         ]
        },
        {
         "hoverinfo": "skip",
         "line": {
          "color": "lightgrey",
          "width": 1
         },
         "mode": "lines",
         "showlegend": false,
         "type": "scatter3d",
         "uid": "2fbece48-642c-4548-be40-1325904b4d6d",
         "x": [
          326.85,
          326.85
         ],
         "y": [
          -209.07,
          -209.07
         ],
         "z": [
          -1441.93,
          -2453.06
         ]
        },
        {
         "hoverinfo": "skip",
         "line": {
          "color": "lightgrey",
          "width": 1
         },
         "mode": "lines",
         "showlegend": false,
         "type": "scatter3d",
         "uid": "5da7bf43-e2c4-40d2-bab2-4b8e6c7532fb",
         "x": [
          443.55,
          443.55
         ],
         "y": [
          -194.16,
          -194.16
         ],
         "z": [
          -1441.93,
          -2453.06
         ]
        },
        {
         "hoverinfo": "skip",
         "line": {
          "color": "lightgrey",
          "width": 1
         },
         "mode": "lines",
         "showlegend": false,
         "type": "scatter3d",
         "uid": "2068d4cf-5e9f-49c7-889d-c557de0e6cff",
         "x": [
          -492.43,
          -492.43
         ],
         "y": [
          -230.16,
          -230.16
         ],
         "z": [
          -1441.93,
          -2453.06
         ]
        },
        {
         "hoverinfo": "skip",
         "line": {
          "color": "lightgrey",
          "width": 1
         },
         "mode": "lines",
         "showlegend": false,
         "type": "scatter3d",
         "uid": "84054ee0-c0ee-4c89-bfe9-48f8dfd45be8",
         "x": [
          -368.93,
          -368.93
         ],
         "y": [
          -210.23,
          -210.23
         ],
         "z": [
          -1441.93,
          -2453.06
         ]
        },
        {
         "hoverinfo": "skip",
         "line": {
          "color": "lightgrey",
          "width": 1
         },
         "mode": "lines",
         "showlegend": false,
         "type": "scatter3d",
         "uid": "056e3802-339b-4804-a325-1fe91dcaeae8",
         "x": [
          -245.65,
          -245.65
         ],
         "y": [
          -190.49,
          -190.49
         ],
         "z": [
          -1441.93,
          -2453.06
         ]
        },
        {
         "hoverinfo": "skip",
         "line": {
          "color": "lightgrey",
          "width": 1
         },
         "mode": "lines",
         "showlegend": false,
         "type": "scatter3d",
         "uid": "bdcbd51f-d51a-451d-8b88-cc369131c036",
         "x": [
          -121.77,
          -121.77
         ],
         "y": [
          -171.03,
          -171.03
         ],
         "z": [
          -1441.93,
          -2453.06
         ]
        },
        {
         "hoverinfo": "skip",
         "line": {
          "color": "lightgrey",
          "width": 1
         },
         "mode": "lines",
         "showlegend": false,
         "type": "scatter3d",
         "uid": "6a5cb46d-9575-4027-9b84-fbbee79af5c1",
         "x": [
          1.71,
          1.71
         ],
         "y": [
          -150.63,
          -150.63
         ],
         "z": [
          -1441.93,
          -2453.06
         ]
        },
        {
         "hoverinfo": "skip",
         "line": {
          "color": "lightgrey",
          "width": 1
         },
         "mode": "lines",
         "showlegend": false,
         "type": "scatter3d",
         "uid": "b3976033-49ab-479a-92ed-5aac350b4d09",
         "x": [
          124.97,
          124.97
         ],
         "y": [
          -131.25,
          -131.25
         ],
         "z": [
          -1441.93,
          -2453.06
         ]
        },
        {
         "hoverinfo": "skip",
         "line": {
          "color": "lightgrey",
          "width": 1
         },
         "mode": "lines",
         "showlegend": false,
         "type": "scatter3d",
         "uid": "9ac173dc-125f-4700-a665-2f8d4f0aaa38",
         "x": [
          248.15,
          248.15
         ],
         "y": [
          -111.87,
          -111.87
         ],
         "z": [
          -1441.93,
          -2453.06
         ]
        },
        {
         "hoverinfo": "skip",
         "line": {
          "color": "lightgrey",
          "width": 1
         },
         "mode": "lines",
         "showlegend": false,
         "type": "scatter3d",
         "uid": "5beab847-17d8-4fdd-896e-11005a08002f",
         "x": [
          371.56,
          371.56
         ],
         "y": [
          -92.18,
          -92.18
         ],
         "z": [
          -1441.93,
          -2453.06
         ]
        },
        {
         "hoverinfo": "skip",
         "line": {
          "color": "lightgrey",
          "width": 1
         },
         "mode": "lines",
         "showlegend": false,
         "type": "scatter3d",
         "uid": "88e69cd1-3640-406e-883c-3632750d5743",
         "x": [
          500.43,
          500.43
         ],
         "y": [
          -58.45,
          -58.45
         ],
         "z": [
          -1441.93,
          -2453.06
         ]
        },
        {
         "hoverinfo": "skip",
         "line": {
          "color": "lightgrey",
          "width": 1
         },
         "mode": "lines",
         "showlegend": false,
         "type": "scatter3d",
         "uid": "c77016fd-34de-41b0-a242-00ba36084f26",
         "x": [
          -570.9,
          -570.9
         ],
         "y": [
          -125.14,
          -125.14
         ],
         "z": [
          -1441.93,
          -2453.06
         ]
        },
        {
         "hoverinfo": "skip",
         "line": {
          "color": "lightgrey",
          "width": 1
         },
         "mode": "lines",
         "showlegend": false,
         "type": "scatter3d",
         "uid": "9585f93e-94d4-473f-a0d8-b53826b6069c",
         "x": [
          -447.74,
          -447.74
         ],
         "y": [
          -113.13,
          -113.13
         ],
         "z": [
          -1441.93,
          -2453.06
         ]
        },
        {
         "hoverinfo": "skip",
         "line": {
          "color": "lightgrey",
          "width": 1
         },
         "mode": "lines",
         "showlegend": false,
         "type": "scatter3d",
         "uid": "42b1f0a4-945e-4415-a82f-bc2bc4300968",
         "x": [
          -324.39,
          -324.39
         ],
         "y": [
          -93.43,
          -93.43
         ],
         "z": [
          -1441.93,
          -2453.06
         ]
        },
        {
         "hoverinfo": "skip",
         "line": {
          "color": "lightgrey",
          "width": 1
         },
         "mode": "lines",
         "showlegend": false,
         "type": "scatter3d",
         "uid": "9d6f8107-c708-4346-bbdd-6ce840fea1f8",
         "x": [
          -200.55,
          -200.55
         ],
         "y": [
          -74.03,
          -74.03
         ],
         "z": [
          -1441.93,
          -2453.06
         ]
        },
        {
         "hoverinfo": "skip",
         "line": {
          "color": "lightgrey",
          "width": 1
         },
         "mode": "lines",
         "showlegend": false,
         "type": "scatter3d",
         "uid": "e3653b5c-3d0a-4b5b-8931-84dc5eb0e3be",
         "x": [
          -77.8,
          -77.8
         ],
         "y": [
          -54.33,
          -54.33
         ],
         "z": [
          -1441.93,
          -2453.06
         ]
        },
        {
         "hoverinfo": "skip",
         "line": {
          "color": "lightgrey",
          "width": 1
         },
         "mode": "lines",
         "showlegend": false,
         "type": "scatter3d",
         "uid": "3bf31395-c337-4acf-9174-3ed714e8de84",
         "x": [
          46.29,
          46.29
         ],
         "y": [
          -34.88,
          -34.88
         ],
         "z": [
          -1441.93,
          -2453.06
         ]
        },
        {
         "hoverinfo": "skip",
         "line": {
          "color": "lightgrey",
          "width": 1
         },
         "mode": "lines",
         "showlegend": false,
         "type": "scatter3d",
         "uid": "dc58cf7e-a6d4-4196-9831-535b28947818",
         "x": [
          194.34,
          194.34
         ],
         "y": [
          -30.92,
          -30.92
         ],
         "z": [
          -1441.93,
          -2453.06
         ]
        },
        {
         "hoverinfo": "skip",
         "line": {
          "color": "lightgrey",
          "width": 1
         },
         "mode": "lines",
         "showlegend": false,
         "type": "scatter3d",
         "uid": "822862c2-fc21-4692-9015-0630ab4d7330",
         "x": [
          292.9,
          292.9
         ],
         "y": [
          5.2,
          5.2
         ],
         "z": [
          -1441.93,
          -2453.06
         ]
        },
        {
         "hoverinfo": "skip",
         "line": {
          "color": "lightgrey",
          "width": 1
         },
         "mode": "lines",
         "showlegend": false,
         "type": "scatter3d",
         "uid": "3edde8ba-13b1-490e-a9dd-729784568aaa",
         "x": [
          411.81,
          411.81
         ],
         "y": [
          13,
          13
         ],
         "z": [
          -1441.93,
          -2453.06
         ]
        },
        {
         "hoverinfo": "skip",
         "line": {
          "color": "lightgrey",
          "width": 1
         },
         "mode": "lines",
         "showlegend": false,
         "type": "scatter3d",
         "uid": "2a85cac7-4b0b-412c-acc2-cb2eb8aec5ee",
         "x": [
          544.07,
          544.07
         ],
         "y": [
          55.89,
          55.89
         ],
         "z": [
          -1441.93,
          -2453.06
         ]
        },
        {
         "hoverinfo": "skip",
         "line": {
          "color": "lightgrey",
          "width": 1
         },
         "mode": "lines",
         "showlegend": false,
         "type": "scatter3d",
         "uid": "1db21536-2f11-4828-8d99-8d849aab082b",
         "x": [
          -526.63,
          -526.63
         ],
         "y": [
          -15.6,
          -15.6
         ],
         "z": [
          -1441.93,
          -2453.06
         ]
        },
        {
         "hoverinfo": "skip",
         "line": {
          "color": "lightgrey",
          "width": 1
         },
         "mode": "lines",
         "showlegend": false,
         "type": "scatter3d",
         "uid": "31b0c2cb-69fa-4ecd-b148-8cb44388c7f9",
         "x": [
          -403.14,
          -403.14
         ],
         "y": [
          3.49,
          3.49
         ],
         "z": [
          -1441.93,
          -2453.06
         ]
        },
        {
         "hoverinfo": "skip",
         "line": {
          "color": "lightgrey",
          "width": 1
         },
         "mode": "lines",
         "showlegend": false,
         "type": "scatter3d",
         "uid": "555e1814-2acc-43ce-8e3b-b94aee0d8bd5",
         "x": [
          -279.53,
          -279.53
         ],
         "y": [
          23.17,
          23.17
         ],
         "z": [
          -1441.93,
          -2453.06
         ]
        },
        {
         "hoverinfo": "skip",
         "line": {
          "color": "lightgrey",
          "width": 1
         },
         "mode": "lines",
         "showlegend": false,
         "type": "scatter3d",
         "uid": "aa83c993-8ca4-4d79-9c78-2dc9ba2c8e97",
         "x": [
          -156.23,
          -156.23
         ],
         "y": [
          43.37,
          43.37
         ],
         "z": [
          -1441.93,
          -2453.06
         ]
        },
        {
         "hoverinfo": "skip",
         "line": {
          "color": "lightgrey",
          "width": 1
         },
         "mode": "lines",
         "showlegend": false,
         "type": "scatter3d",
         "uid": "8a1a07f1-86ca-46e8-b2a7-bf62428419f3",
         "x": [
          -32.96,
          -32.96
         ],
         "y": [
          62.44,
          62.44
         ],
         "z": [
          -1441.93,
          -2453.06
         ]
        },
        {
         "hoverinfo": "skip",
         "line": {
          "color": "lightgrey",
          "width": 1
         },
         "mode": "lines",
         "showlegend": false,
         "type": "scatter3d",
         "uid": "d58f8ec4-655a-4496-8bd8-ad317d919f6e",
         "x": [
          90.49,
          90.49
         ],
         "y": [
          82.35,
          82.35
         ],
         "z": [
          -1441.93,
          -2453.06
         ]
        },
        {
         "hoverinfo": "skip",
         "line": {
          "color": "lightgrey",
          "width": 1
         },
         "mode": "lines",
         "showlegend": false,
         "type": "scatter3d",
         "uid": "8c72f266-2eb7-4b82-be96-c298d3ecae38",
         "x": [
          195.03,
          195.03
         ],
         "y": [
          125.59,
          125.59
         ],
         "z": [
          -1441.93,
          -2453.06
         ]
        },
        {
         "hoverinfo": "skip",
         "line": {
          "color": "lightgrey",
          "width": 1
         },
         "mode": "lines",
         "showlegend": false,
         "type": "scatter3d",
         "uid": "9296646c-5f46-405d-8d45-73cfef2b1a55",
         "x": [
          330.03,
          330.03
         ],
         "y": [
          127.2,
          127.2
         ],
         "z": [
          -1441.93,
          -2453.06
         ]
        },
        {
         "hoverinfo": "skip",
         "line": {
          "color": "lightgrey",
          "width": 1
         },
         "mode": "lines",
         "showlegend": false,
         "type": "scatter3d",
         "uid": "080fabed-4dd8-484e-a0dd-2d9b8333d857",
         "x": [
          472.05,
          472.05
         ],
         "y": [
          127.9,
          127.9
         ],
         "z": [
          -1441.93,
          -2453.06
         ]
        },
        {
         "hoverinfo": "skip",
         "line": {
          "color": "lightgrey",
          "width": 1
         },
         "mode": "lines",
         "showlegend": false,
         "type": "scatter3d",
         "uid": "ca6478fe-5ccf-48bb-a893-8a4f877b2889",
         "x": [
          576.37,
          576.37
         ],
         "y": [
          170.92,
          170.92
         ],
         "z": [
          -1441.93,
          -2453.06
         ]
        },
        {
         "hoverinfo": "skip",
         "line": {
          "color": "lightgrey",
          "width": 1
         },
         "mode": "lines",
         "showlegend": false,
         "type": "scatter3d",
         "uid": "f255747f-859a-4a17-a671-2e30504acf75",
         "x": [
          -481.6,
          -481.6
         ],
         "y": [
          101.39,
          101.39
         ],
         "z": [
          -1441.93,
          -2453.06
         ]
        },
        {
         "hoverinfo": "skip",
         "line": {
          "color": "lightgrey",
          "width": 1
         },
         "mode": "lines",
         "showlegend": false,
         "type": "scatter3d",
         "uid": "1a603468-66da-455e-9d67-fdaec41cc4b3",
         "x": [
          -358.44,
          -358.44
         ],
         "y": [
          120.56,
          120.56
         ],
         "z": [
          -1441.93,
          -2453.06
         ]
        },
        {
         "hoverinfo": "skip",
         "line": {
          "color": "lightgrey",
          "width": 1
         },
         "mode": "lines",
         "showlegend": false,
         "type": "scatter3d",
         "uid": "66069e4c-115b-47ea-8e48-b7dbecf9f933",
         "x": [
          -234.95,
          -234.95
         ],
         "y": [
          140.44,
          140.44
         ],
         "z": [
          -1441.93,
          -2453.06
         ]
        },
        {
         "hoverinfo": "skip",
         "line": {
          "color": "lightgrey",
          "width": 1
         },
         "mode": "lines",
         "showlegend": false,
         "type": "scatter3d",
         "uid": "7a9972c0-5d50-4e84-8c60-af6cfa300025",
         "x": [
          -111.51,
          -111.51
         ],
         "y": [
          159.98,
          159.98
         ],
         "z": [
          -1441.93,
          -2453.06
         ]
        },
        {
         "hoverinfo": "skip",
         "line": {
          "color": "lightgrey",
          "width": 1
         },
         "mode": "lines",
         "showlegend": false,
         "type": "scatter3d",
         "uid": "1ffe6ed7-9de1-453f-b0f9-4144e6c0d26b",
         "x": [
          11.87,
          11.87
         ],
         "y": [
          179.19,
          179.19
         ],
         "z": [
          -1441.93,
          -2453.06
         ]
        },
        {
         "hoverinfo": "skip",
         "line": {
          "color": "lightgrey",
          "width": 1
         },
         "mode": "lines",
         "showlegend": false,
         "type": "scatter3d",
         "uid": "719d2622-9bce-4e82-96ba-e6446407f04f",
         "x": [
          132.03,
          132.03
         ],
         "y": [
          202.98,
          202.98
         ],
         "z": [
          -1441.93,
          -2453.06
         ]
        },
        {
         "hoverinfo": "skip",
         "line": {
          "color": "lightgrey",
          "width": 1
         },
         "mode": "lines",
         "showlegend": false,
         "type": "scatter3d",
         "uid": "03507488-3a16-4213-a4df-724460c745cd",
         "x": [
          257.31,
          257.31
         ],
         "y": [
          211.66,
          211.66
         ],
         "z": [
          -1441.93,
          -2453.06
         ]
        },
        {
         "hoverinfo": "skip",
         "line": {
          "color": "lightgrey",
          "width": 1
         },
         "mode": "lines",
         "showlegend": false,
         "type": "scatter3d",
         "uid": "afa26cd6-0b3e-41ec-8036-b569f74be7e8",
         "x": [
          382.35,
          382.35
         ],
         "y": [
          238.9,
          238.9
         ],
         "z": [
          -1441.93,
          -2453.06
         ]
        },
        {
         "hoverinfo": "skip",
         "line": {
          "color": "lightgrey",
          "width": 1
         },
         "mode": "lines",
         "showlegend": false,
         "type": "scatter3d",
         "uid": "3cbe9c8c-2b24-4561-b409-7613f87089a7",
         "x": [
          505.27,
          505.27
         ],
         "y": [
          257.88,
          257.88
         ],
         "z": [
          -1441.93,
          -2453.06
         ]
        },
        {
         "hoverinfo": "skip",
         "line": {
          "color": "lightgrey",
          "width": 1
         },
         "mode": "lines",
         "showlegend": false,
         "type": "scatter3d",
         "uid": "85244124-98cc-4fba-8eff-107cc4abe975",
         "x": [
          -437.04,
          -437.04
         ],
         "y": [
          217.8,
          217.8
         ],
         "z": [
          -1441.93,
          -2453.06
         ]
        },
        {
         "hoverinfo": "skip",
         "line": {
          "color": "lightgrey",
          "width": 1
         },
         "mode": "lines",
         "showlegend": false,
         "type": "scatter3d",
         "uid": "f3e3bc06-b5a9-41bb-b614-940445dae198",
         "x": [
          -313.6,
          -313.6
         ],
         "y": [
          237.44,
          237.44
         ],
         "z": [
          -1441.93,
          -2453.06
         ]
        },
        {
         "hoverinfo": "skip",
         "line": {
          "color": "lightgrey",
          "width": 1
         },
         "mode": "lines",
         "showlegend": false,
         "type": "scatter3d",
         "uid": "f3c2d096-2e15-41d0-9d0a-e833b6718b2a",
         "x": [
          -189.98,
          -189.98
         ],
         "y": [
          257.42,
          257.42
         ],
         "z": [
          -1441.93,
          -2453.06
         ]
        },
        {
         "hoverinfo": "skip",
         "line": {
          "color": "lightgrey",
          "width": 1
         },
         "mode": "lines",
         "showlegend": false,
         "type": "scatter3d",
         "uid": "2ce3459a-9835-498c-ab2a-537907fade82",
         "x": [
          -66.7,
          -66.7
         ],
         "y": [
          276.92,
          276.92
         ],
         "z": [
          -1441.93,
          -2453.06
         ]
        },
        {
         "hoverinfo": "skip",
         "line": {
          "color": "lightgrey",
          "width": 1
         },
         "mode": "lines",
         "showlegend": false,
         "type": "scatter3d",
         "uid": "c0f5bce4-c191-4a90-87e5-8a7171962da8",
         "x": [
          54.26,
          54.26
         ],
         "y": [
          292.97,
          292.97
         ],
         "z": [
          -1441.93,
          -2453.06
         ]
        },
        {
         "hoverinfo": "skip",
         "line": {
          "color": "lightgrey",
          "width": 1
         },
         "mode": "lines",
         "showlegend": false,
         "type": "scatter3d",
         "uid": "77595041-5f48-4dfe-96d8-33db922514a8",
         "x": [
          174.47,
          174.47
         ],
         "y": [
          315.54,
          315.54
         ],
         "z": [
          -1441.93,
          -2453.06
         ]
        },
        {
         "hoverinfo": "skip",
         "line": {
          "color": "lightgrey",
          "width": 1
         },
         "mode": "lines",
         "showlegend": false,
         "type": "scatter3d",
         "uid": "07d0d354-7873-46b2-ba29-846ce4bbb12a",
         "x": [
          303.41,
          303.41
         ],
         "y": [
          335.64,
          335.64
         ],
         "z": [
          -1441.93,
          -2453.06
         ]
        },
        {
         "hoverinfo": "skip",
         "line": {
          "color": "lightgrey",
          "width": 1
         },
         "mode": "lines",
         "showlegend": false,
         "type": "scatter3d",
         "uid": "48bc8a43-daca-4bf0-a971-37c9d70d96c8",
         "x": [
          429.76,
          429.76
         ],
         "y": [
          351.02,
          351.02
         ],
         "z": [
          -1441.93,
          -2453.06
         ]
        },
        {
         "hoverinfo": "skip",
         "line": {
          "color": "lightgrey",
          "width": 1
         },
         "mode": "lines",
         "showlegend": false,
         "type": "scatter3d",
         "uid": "5d940691-400b-4e69-924f-dedd913221f5",
         "x": [
          -392.38,
          -392.38
         ],
         "y": [
          334.24,
          334.24
         ],
         "z": [
          -1441.93,
          -2453.06
         ]
        },
        {
         "hoverinfo": "skip",
         "line": {
          "color": "lightgrey",
          "width": 1
         },
         "mode": "lines",
         "showlegend": false,
         "type": "scatter3d",
         "uid": "375ae5cd-16f0-4dd3-a80c-36b6dc2cac39",
         "x": [
          -268.9,
          -268.9
         ],
         "y": [
          354.24,
          354.24
         ],
         "z": [
          -1441.93,
          -2453.06
         ]
        },
        {
         "hoverinfo": "skip",
         "line": {
          "color": "lightgrey",
          "width": 1
         },
         "mode": "lines",
         "showlegend": false,
         "type": "scatter3d",
         "uid": "cc0203ad-255b-4d8c-825c-2cdaba7d180c",
         "x": [
          -145.45,
          -145.45
         ],
         "y": [
          374.24,
          374.24
         ],
         "z": [
          -1441.93,
          -2453.06
         ]
        },
        {
         "hoverinfo": "skip",
         "line": {
          "color": "lightgrey",
          "width": 1
         },
         "mode": "lines",
         "showlegend": false,
         "type": "scatter3d",
         "uid": "2ce49743-9ae4-4f74-bec2-5f8bad53c329",
         "x": [
          -21.97,
          -21.97
         ],
         "y": [
          393.24,
          393.24
         ],
         "z": [
          -1441.93,
          -2453.06
         ]
        },
        {
         "hoverinfo": "skip",
         "line": {
          "color": "lightgrey",
          "width": 1
         },
         "mode": "lines",
         "showlegend": false,
         "type": "scatter3d",
         "uid": "ebcf347f-b8e0-4a30-b86a-6eee76864de6",
         "x": [
          101.04,
          101.04
         ],
         "y": [
          412.79,
          412.79
         ],
         "z": [
          -1441.93,
          -2453.06
         ]
        },
        {
         "hoverinfo": "skip",
         "line": {
          "color": "lightgrey",
          "width": 1
         },
         "mode": "lines",
         "showlegend": false,
         "type": "scatter3d",
         "uid": "a77c6d80-03e6-4fe2-9840-edd24db899f7",
         "x": [
          224.58,
          224.58
         ],
         "y": [
          432.35,
          432.35
         ],
         "z": [
          -1441.93,
          -2453.06
         ]
        },
        {
         "hoverinfo": "skip",
         "line": {
          "color": "lightgrey",
          "width": 1
         },
         "mode": "lines",
         "showlegend": false,
         "type": "scatter3d",
         "uid": "83e40d32-9ae1-40cd-a880-9d4813746c26",
         "x": [
          338.44,
          338.44
         ],
         "y": [
          463.72,
          463.72
         ],
         "z": [
          -1441.93,
          -2453.06
         ]
        },
        {
         "hoverinfo": "skip",
         "line": {
          "color": "lightgrey",
          "width": 1
         },
         "mode": "lines",
         "showlegend": false,
         "type": "scatter3d",
         "uid": "236cd35f-ea32-4d40-8f50-2f9bb18183cd",
         "x": [
          -347.88,
          -347.88
         ],
         "y": [
          451.52,
          451.52
         ],
         "z": [
          -1441.93,
          -2453.06
         ]
        },
        {
         "hoverinfo": "skip",
         "line": {
          "color": "lightgrey",
          "width": 1
         },
         "mode": "lines",
         "showlegend": false,
         "type": "scatter3d",
         "uid": "085ec103-f4d5-4521-b4bf-cf6d1c310a09",
         "x": [
          -224.09,
          -224.09
         ],
         "y": [
          470.86,
          470.86
         ],
         "z": [
          -1441.93,
          -2453.06
         ]
        },
        {
         "hoverinfo": "skip",
         "line": {
          "color": "lightgrey",
          "width": 1
         },
         "mode": "lines",
         "showlegend": false,
         "type": "scatter3d",
         "uid": "75b1451d-4755-40a1-b756-12563d4dfbb5",
         "x": [
          -101.06,
          -101.06
         ],
         "y": [
          490.22,
          490.22
         ],
         "z": [
          -1441.93,
          -2453.06
         ]
        },
        {
         "hoverinfo": "skip",
         "line": {
          "color": "lightgrey",
          "width": 1
         },
         "mode": "lines",
         "showlegend": false,
         "type": "scatter3d",
         "uid": "ec920d47-dc1a-412a-bc61-da62c0a53390",
         "x": [
          22.11,
          22.11
         ],
         "y": [
          509.5,
          509.5
         ],
         "z": [
          -1441.93,
          -2453.06
         ]
        },
        {
         "hoverinfo": "skip",
         "line": {
          "color": "lightgrey",
          "width": 1
         },
         "mode": "lines",
         "showlegend": false,
         "type": "scatter3d",
         "uid": "9cd6dc16-c2c1-4e84-b227-195cbeeee211",
         "x": [
          31.25,
          31.25
         ],
         "y": [
          -72.93,
          -72.93
         ],
         "z": [
          -1441.93,
          -2453.06
         ]
        },
        {
         "hoverinfo": "skip",
         "line": {
          "color": "lightgrey",
          "width": 1
         },
         "mode": "lines",
         "showlegend": false,
         "type": "scatter3d",
         "uid": "a9cb62c5-df1d-4c45-8653-2ed53c5f0650",
         "x": [
          72.37,
          72.37
         ],
         "y": [
          -66.6,
          -66.6
         ],
         "z": [
          -1441.93,
          -2453.06
         ]
        },
        {
         "hoverinfo": "skip",
         "line": {
          "color": "lightgrey",
          "width": 1
         },
         "mode": "lines",
         "showlegend": false,
         "type": "scatter3d",
         "uid": "72f5b8ed-1fec-4234-858f-d1fe9a8d35c7",
         "x": [
          41.6,
          41.6
         ],
         "y": [
          35.49,
          35.49
         ],
         "z": [
          -1441.93,
          -2453.06
         ]
        },
        {
         "hoverinfo": "skip",
         "line": {
          "color": "lightgrey",
          "width": 1
         },
         "mode": "lines",
         "showlegend": false,
         "type": "scatter3d",
         "uid": "f2aabb55-67db-4e6e-896c-fa7b5619c9e8",
         "x": [
          106.94,
          106.94
         ],
         "y": [
          27.09,
          27.09
         ],
         "z": [
          -1441.93,
          -2453.06
         ]
        },
        {
         "hoverinfo": "skip",
         "line": {
          "color": "lightgrey",
          "width": 1
         },
         "mode": "lines",
         "showlegend": false,
         "type": "scatter3d",
         "uid": "1d9c721e-b976-4df3-830d-d3e094d1f51a",
         "x": [
          113.19,
          113.19
         ],
         "y": [
          -60.47,
          -60.47
         ],
         "z": [
          -1441.93,
          -2453.06
         ]
        },
        {
         "hoverinfo": "skip",
         "line": {
          "color": "lightgrey",
          "width": 1
         },
         "mode": "lines",
         "showlegend": false,
         "type": "scatter3d",
         "uid": "9b2dd427-08ff-4e01-a7b5-c0d05777affd",
         "x": [
          57.2,
          57.2
         ],
         "y": [
          -105.52,
          -105.52
         ],
         "z": [
          -1441.93,
          -2453.06
         ]
        },
        {
         "hoverinfo": "skip",
         "line": {
          "color": "lightgrey",
          "width": 1
         },
         "mode": "lines",
         "showlegend": false,
         "type": "scatter3d",
         "uid": "c46316f9-b6ca-4ec2-bd76-bcef09c57018",
         "x": [
          -9.68,
          -9.68
         ],
         "y": [
          -79.5,
          -79.5
         ],
         "z": [
          -1441.93,
          -2453.06
         ]
        },
        {
         "hoverinfo": "skip",
         "line": {
          "color": "lightgrey",
          "width": 1
         },
         "mode": "lines",
         "showlegend": false,
         "type": "scatter3d",
         "uid": "29edae87-8126-4265-a5c5-afb57832405e",
         "x": [
          -10.97,
          -10.97
         ],
         "y": [
          6.72,
          6.72
         ],
         "z": [
          -1441.93,
          -2453.06
         ]
        },
        {
         "hoverinfo": "skip",
         "line": {
          "color": "grey",
          "width": 1
         },
         "mode": "lines",
         "showlegend": false,
         "type": "scatter3d",
         "uid": "ec8a676a-1d92-4a9b-96f0-3af3dedc4c39",
         "x": [
          -347.88,
          -570.9,
          -256.14,
          361,
          576.37,
          338.44,
          101.04,
          22.11,
          -347.88
         ],
         "y": [
          451.52,
          -125.14,
          -521.08,
          -422.83,
          170.92,
          463.72,
          412.79,
          509.5,
          451.52
         ],
         "z": [
          -2453.06,
          -2453.06,
          -2453.06,
          -2453.06,
          -2453.06,
          -2453.06,
          -2453.06,
          -2453.06,
          -2453.06,
          -2453.06,
          -2453.06,
          -2453.06,
          -2453.06,
          -2453.06,
          -2453.06,
          -2453.06,
          -2453.06,
          -2453.06,
          -2453.06,
          -2453.06,
          -2453.06,
          -2453.06,
          -2453.06,
          -2453.06,
          -2453.06,
          -2453.06,
          -2453.06,
          -2453.06,
          -2453.06,
          -2453.06,
          -2453.06,
          -2453.06,
          -2453.06,
          -2453.06,
          -2453.06,
          -2453.06,
          -2453.06,
          -2453.06,
          -2453.06,
          -2453.06,
          -2453.06,
          -2453.06,
          -2453.06,
          -2453.06,
          -2453.06,
          -2453.06,
          -2453.06,
          -2453.06,
          -2453.06,
          -2453.06,
          -2453.06,
          -2453.06,
          -2453.06,
          -2453.06,
          -2453.06,
          -2453.06,
          -2453.06,
          -2453.06,
          -2453.06,
          -2453.06,
          -2453.06,
          -2453.06,
          -2453.06,
          -2453.06,
          -2453.06,
          -2453.06,
          -2453.06,
          -2453.06,
          -2453.06,
          -2453.06,
          -2453.06,
          -2453.06,
          -2453.06,
          -2453.06,
          -2453.06,
          -2453.06,
          -2453.06,
          -2453.06,
          -2453.06,
          -2453.06,
          -2453.06,
          -2453.06,
          -2453.06,
          -2453.06,
          -2453.06,
          -2453.06
         ]
        },
        {
         "hoverinfo": "skip",
         "line": {
          "color": "grey",
          "width": 1
         },
         "mode": "lines",
         "showlegend": false,
         "type": "scatter3d",
         "uid": "1da04458-6518-4bdc-b2bc-3cb7fe480c08",
         "x": [
          -347.88,
          -570.9,
          -256.14,
          361,
          576.37,
          338.44,
          101.04,
          22.11,
          -347.88
         ],
         "y": [
          451.52,
          -125.14,
          -521.08,
          -422.83,
          170.92,
          463.72,
          412.79,
          509.5,
          451.52
         ],
         "z": [
          -1441.93,
          -1441.93,
          -1441.93,
          -1441.93,
          -1441.93,
          -1441.93,
          -1441.93,
          -1441.93,
          -1441.93,
          -1441.93,
          -1441.93,
          -1441.93,
          -1441.93,
          -1441.93,
          -1441.93,
          -1441.93,
          -1441.93,
          -1441.93,
          -1441.93,
          -1441.93,
          -1441.93,
          -1441.93,
          -1441.93,
          -1441.93,
          -1441.93,
          -1441.93,
          -1441.93,
          -1441.93,
          -1441.93,
          -1441.93,
          -1441.93,
          -1441.93,
          -1441.93,
          -1441.93,
          -1441.93,
          -1441.93,
          -1441.93,
          -1441.93,
          -1441.93,
          -1441.93,
          -1441.93,
          -1441.93,
          -1441.93,
          -1441.93,
          -1441.93,
          -1441.93,
          -1441.93,
          -1441.93,
          -1441.93,
          -1441.93,
          -1441.93,
          -1441.93,
          -1441.93,
          -1441.93,
          -1441.93,
          -1441.93,
          -1441.93,
          -1441.93,
          -1441.93,
          -1441.93,
          -1441.93,
          -1441.93,
          -1441.93,
          -1441.93,
          -1441.93,
          -1441.93,
          -1441.93,
          -1441.93,
          -1441.93,
          -1441.93,
          -1441.93,
          -1441.93,
          -1441.93,
          -1441.93,
          -1441.93,
          -1441.93,
          -1441.93,
          -1441.93,
          -1441.93,
          -1441.93,
          -1441.93,
          -1441.93,
          -1441.93,
          -1441.93,
          -1441.93,
          -1441.93
         ]
        },
        {
         "customdata": [
          4539.899902,
          3563.517578,
          4036.598877,
          3446.496826,
          3012.672852,
          2932.354492,
          3253.431396,
          3554.935791,
          2757.04834,
          2555.645752,
          2466.915771,
          2396.556885,
          2980.839844,
          6278.332031,
          2322.358887,
          2430.620361,
          2428.827637,
          2522.25415,
          2348.917969,
          2560.024658,
          1960.547729,
          2309.817383,
          1797.987061,
          1769.792603,
          1917.097046,
          1880.280884,
          1580.367798,
          1516.188843,
          1666.831299,
          1277.713501,
          1240.003296,
          1286.357788,
          1033.954712,
          812.980164,
          1259.831543,
          587.821106,
          808.811829,
          424.043365,
          635.756653,
          546.29187,
          651.227417,
          1088.476929
         ],
         "hoverinfo": [
          "x",
          "y",
          "z",
          "text"
         ],
         "hovertemplate": "x: %{x} m, y: %{y} m, z: %{z} m, t: %{customdata} ns",
         "hovertext": [
          "-2160.28 ns",
          "-1992.60 ns",
          "-1973.11 ns",
          "-2003.35 ns",
          "-1969.31 ns",
          "-1952.29 ns",
          "-1867.18 ns",
          "-1850.16 ns",
          "-1973.01 ns",
          "-1938.97 ns",
          "-1921.95 ns",
          "-1904.93 ns",
          "-1853.86 ns",
          "-1928.84 ns",
          "-1799.83 ns",
          "-1923.68 ns",
          "-1906.66 ns",
          "-1872.61 ns",
          "-1812.11 ns",
          "-1830.56 ns",
          "-1820.55 ns",
          "-1810.54 ns",
          "-1841.84 ns",
          "-1831.83 ns",
          "-1791.78 ns",
          "-1852.47 ns",
          "-1818.43 ns",
          "-1784.39 ns",
          "-1780.06 ns",
          "-1763.04 ns",
          "-1729.00 ns",
          "-1694.96 ns",
          "-1718.67 ns",
          "-1701.65 ns",
          "-1684.63 ns",
          "-1718.55 ns",
          "-1701.53 ns",
          "-1684.51 ns",
          "-1667.49 ns",
          "-1650.46 ns",
          "-1633.44 ns",
          "-1700.60 ns"
         ],
         "marker": {
          "color": [
           4539.899902,
           3563.517578,
           4036.598877,
           3446.496826,
           3012.672852,
           2932.354492,
           3253.431396,
           3554.935791,
           2757.04834,
           2555.645752,
           2466.915771,
           2396.556885,
           2980.839844,
           6278.332031,
           2322.358887,
           2430.620361,
           2428.827637,
           2522.25415,
           2348.917969,
           2560.024658,
           1960.547729,
           2309.817383,
           1797.987061,
           1769.792603,
           1917.097046,
           1880.280884,
           1580.367798,
           1516.188843,
           1666.831299,
           1277.713501,
           1240.003296,
           1286.357788,
           1033.954712,
           812.980164,
           1259.831543,
           587.821106,
           808.811829,
           424.043365,
           635.756653,
           546.29187,
           651.227417,
           1088.476929
          ],
          "colorscale": [
           [
            0,
            "rgb(255,0,0)"
           ],
           [
            0.125,
            "rgb(255,111,0)"
           ],
           [
            0.25,
            "rgb(255,234,0)"
           ],
           [
            0.375,
            "rgb(151,255,0)"
           ],
           [
            0.5,
            "rgb(44,255,150)"
           ],
           [
            0.625,
            "rgb(0,152,255)"
           ],
           [
            0.75,
            "rgb(0,25,255)"
           ],
           [
            0.875,
            "rgb(0,0,200)"
           ],
           [
            1,
            "rgb(150,0,90)"
           ]
          ],
          "size": 4
         },
         "mode": "markers",
         "showlegend": false,
         "type": "scatter3d",
         "uid": "799d9878-df66-44cf-8c09-5bfd36c36497",
         "x": [
          -526.63,
          -324.39,
          -279.53,
          -200.55,
          -200.55,
          -200.55,
          -200.55,
          -200.55,
          -77.8,
          -77.8,
          -77.8,
          -77.8,
          -77.8,
          -32.96,
          31.25,
          46.29,
          46.29,
          46.29,
          57.2,
          72.37,
          72.37,
          72.37,
          113.19,
          113.19,
          113.19,
          194.34,
          194.34,
          194.34,
          292.9,
          292.9,
          292.9,
          292.9,
          411.81,
          411.81,
          411.81,
          500.43,
          500.43,
          500.43,
          500.43,
          500.43,
          500.43,
          544.07
         ],
         "y": [
          -15.6,
          -93.43,
          23.17,
          -74.03,
          -74.03,
          -74.03,
          -74.03,
          -74.03,
          -54.33,
          -54.33,
          -54.33,
          -54.33,
          -54.33,
          62.44,
          -72.93,
          -34.88,
          -34.88,
          -34.88,
          -105.52,
          -66.6,
          -66.6,
          -66.6,
          -60.47,
          -60.47,
          -60.47,
          -30.92,
          -30.92,
          -30.92,
          5.2,
          5.2,
          5.2,
          5.2,
          13,
          13,
          13,
          -58.45,
          -58.45,
          -58.45,
          -58.45,
          -58.45,
          -58.45,
          55.89
         ],
         "z": [
          -2160.28,
          -1992.6,
          -1973.11,
          -2003.35,
          -1969.31,
          -1952.29,
          -1867.18,
          -1850.16,
          -1973.01,
          -1938.97,
          -1921.95,
          -1904.93,
          -1853.86,
          -1928.84,
          -1799.83,
          -1923.68,
          -1906.66,
          -1872.61,
          -1812.11,
          -1830.56,
          -1820.55,
          -1810.54,
          -1841.84,
          -1831.83,
          -1791.78,
          -1852.47,
          -1818.43,
          -1784.39,
          -1780.06,
          -1763.04,
          -1729,
          -1694.96,
          -1718.67,
          -1701.65,
          -1684.63,
          -1718.55,
          -1701.53,
          -1684.51,
          -1667.49,
          -1650.46,
          -1633.44,
          -1700.6
         ]
        }
       ],
       "layout": {
        "margin": {
         "b": 40,
         "l": 20,
         "r": 20,
         "t": 40
        },
        "scene": {
         "camera": {
          "center": {
           "x": 0,
           "y": 0,
           "z": 0
          },
          "eye": {
           "x": 1.5,
           "y": 1.5,
           "z": 0.1
          },
          "up": {
           "x": 0,
           "y": 0,
           "z": 1
          }
         },
         "xaxis": {
          "backgroundcolor": "whitesmoke",
          "showgrid": false,
          "showspikes": false,
          "showticklabels": false,
          "title": {
           "text": ""
          }
         },
         "yaxis": {
          "backgroundcolor": "whitesmoke",
          "showgrid": false,
          "showspikes": false,
          "showticklabels": false,
          "title": {
           "text": ""
          }
         },
         "zaxis": {
          "backgroundcolor": "whitesmoke",
          "showgrid": false,
          "showspikes": false,
          "showticklabels": false,
          "title": {
           "text": ""
          }
         }
        },
        "template": {
         "data": {
          "bar": [
           {
            "error_x": {
             "color": "#2a3f5f"
            },
            "error_y": {
             "color": "#2a3f5f"
            },
            "marker": {
             "line": {
              "color": "#E5ECF6",
              "width": 0.5
             },
             "pattern": {
              "fillmode": "overlay",
              "size": 10,
              "solidity": 0.2
             }
            },
            "type": "bar"
           }
          ],
          "barpolar": [
           {
            "marker": {
             "line": {
              "color": "#E5ECF6",
              "width": 0.5
             },
             "pattern": {
              "fillmode": "overlay",
              "size": 10,
              "solidity": 0.2
             }
            },
            "type": "barpolar"
           }
          ],
          "carpet": [
           {
            "aaxis": {
             "endlinecolor": "#2a3f5f",
             "gridcolor": "white",
             "linecolor": "white",
             "minorgridcolor": "white",
             "startlinecolor": "#2a3f5f"
            },
            "baxis": {
             "endlinecolor": "#2a3f5f",
             "gridcolor": "white",
             "linecolor": "white",
             "minorgridcolor": "white",
             "startlinecolor": "#2a3f5f"
            },
            "type": "carpet"
           }
          ],
          "choropleth": [
           {
            "colorbar": {
             "outlinewidth": 0,
             "ticks": ""
            },
            "type": "choropleth"
           }
          ],
          "contour": [
           {
            "colorbar": {
             "outlinewidth": 0,
             "ticks": ""
            },
            "colorscale": [
             [
              0,
              "#0d0887"
             ],
             [
              0.1111111111111111,
              "#46039f"
             ],
             [
              0.2222222222222222,
              "#7201a8"
             ],
             [
              0.3333333333333333,
              "#9c179e"
             ],
             [
              0.4444444444444444,
              "#bd3786"
             ],
             [
              0.5555555555555556,
              "#d8576b"
             ],
             [
              0.6666666666666666,
              "#ed7953"
             ],
             [
              0.7777777777777778,
              "#fb9f3a"
             ],
             [
              0.8888888888888888,
              "#fdca26"
             ],
             [
              1,
              "#f0f921"
             ]
            ],
            "type": "contour"
           }
          ],
          "contourcarpet": [
           {
            "colorbar": {
             "outlinewidth": 0,
             "ticks": ""
            },
            "type": "contourcarpet"
           }
          ],
          "heatmap": [
           {
            "colorbar": {
             "outlinewidth": 0,
             "ticks": ""
            },
            "colorscale": [
             [
              0,
              "#0d0887"
             ],
             [
              0.1111111111111111,
              "#46039f"
             ],
             [
              0.2222222222222222,
              "#7201a8"
             ],
             [
              0.3333333333333333,
              "#9c179e"
             ],
             [
              0.4444444444444444,
              "#bd3786"
             ],
             [
              0.5555555555555556,
              "#d8576b"
             ],
             [
              0.6666666666666666,
              "#ed7953"
             ],
             [
              0.7777777777777778,
              "#fb9f3a"
             ],
             [
              0.8888888888888888,
              "#fdca26"
             ],
             [
              1,
              "#f0f921"
             ]
            ],
            "type": "heatmap"
           }
          ],
          "heatmapgl": [
           {
            "colorbar": {
             "outlinewidth": 0,
             "ticks": ""
            },
            "colorscale": [
             [
              0,
              "#0d0887"
             ],
             [
              0.1111111111111111,
              "#46039f"
             ],
             [
              0.2222222222222222,
              "#7201a8"
             ],
             [
              0.3333333333333333,
              "#9c179e"
             ],
             [
              0.4444444444444444,
              "#bd3786"
             ],
             [
              0.5555555555555556,
              "#d8576b"
             ],
             [
              0.6666666666666666,
              "#ed7953"
             ],
             [
              0.7777777777777778,
              "#fb9f3a"
             ],
             [
              0.8888888888888888,
              "#fdca26"
             ],
             [
              1,
              "#f0f921"
             ]
            ],
            "type": "heatmapgl"
           }
          ],
          "histogram": [
           {
            "marker": {
             "pattern": {
              "fillmode": "overlay",
              "size": 10,
              "solidity": 0.2
             }
            },
            "type": "histogram"
           }
          ],
          "histogram2d": [
           {
            "colorbar": {
             "outlinewidth": 0,
             "ticks": ""
            },
            "colorscale": [
             [
              0,
              "#0d0887"
             ],
             [
              0.1111111111111111,
              "#46039f"
             ],
             [
              0.2222222222222222,
              "#7201a8"
             ],
             [
              0.3333333333333333,
              "#9c179e"
             ],
             [
              0.4444444444444444,
              "#bd3786"
             ],
             [
              0.5555555555555556,
              "#d8576b"
             ],
             [
              0.6666666666666666,
              "#ed7953"
             ],
             [
              0.7777777777777778,
              "#fb9f3a"
             ],
             [
              0.8888888888888888,
              "#fdca26"
             ],
             [
              1,
              "#f0f921"
             ]
            ],
            "type": "histogram2d"
           }
          ],
          "histogram2dcontour": [
           {
            "colorbar": {
             "outlinewidth": 0,
             "ticks": ""
            },
            "colorscale": [
             [
              0,
              "#0d0887"
             ],
             [
              0.1111111111111111,
              "#46039f"
             ],
             [
              0.2222222222222222,
              "#7201a8"
             ],
             [
              0.3333333333333333,
              "#9c179e"
             ],
             [
              0.4444444444444444,
              "#bd3786"
             ],
             [
              0.5555555555555556,
              "#d8576b"
             ],
             [
              0.6666666666666666,
              "#ed7953"
             ],
             [
              0.7777777777777778,
              "#fb9f3a"
             ],
             [
              0.8888888888888888,
              "#fdca26"
             ],
             [
              1,
              "#f0f921"
             ]
            ],
            "type": "histogram2dcontour"
           }
          ],
          "mesh3d": [
           {
            "colorbar": {
             "outlinewidth": 0,
             "ticks": ""
            },
            "type": "mesh3d"
           }
          ],
          "parcoords": [
           {
            "line": {
             "colorbar": {
              "outlinewidth": 0,
              "ticks": ""
             }
            },
            "type": "parcoords"
           }
          ],
          "pie": [
           {
            "automargin": true,
            "type": "pie"
           }
          ],
          "scatter": [
           {
            "fillpattern": {
             "fillmode": "overlay",
             "size": 10,
             "solidity": 0.2
            },
            "type": "scatter"
           }
          ],
          "scatter3d": [
           {
            "line": {
             "colorbar": {
              "outlinewidth": 0,
              "ticks": ""
             }
            },
            "marker": {
             "colorbar": {
              "outlinewidth": 0,
              "ticks": ""
             }
            },
            "type": "scatter3d"
           }
          ],
          "scattercarpet": [
           {
            "marker": {
             "colorbar": {
              "outlinewidth": 0,
              "ticks": ""
             }
            },
            "type": "scattercarpet"
           }
          ],
          "scattergeo": [
           {
            "marker": {
             "colorbar": {
              "outlinewidth": 0,
              "ticks": ""
             }
            },
            "type": "scattergeo"
           }
          ],
          "scattergl": [
           {
            "marker": {
             "colorbar": {
              "outlinewidth": 0,
              "ticks": ""
             }
            },
            "type": "scattergl"
           }
          ],
          "scattermapbox": [
           {
            "marker": {
             "colorbar": {
              "outlinewidth": 0,
              "ticks": ""
             }
            },
            "type": "scattermapbox"
           }
          ],
          "scatterpolar": [
           {
            "marker": {
             "colorbar": {
              "outlinewidth": 0,
              "ticks": ""
             }
            },
            "type": "scatterpolar"
           }
          ],
          "scatterpolargl": [
           {
            "marker": {
             "colorbar": {
              "outlinewidth": 0,
              "ticks": ""
             }
            },
            "type": "scatterpolargl"
           }
          ],
          "scatterternary": [
           {
            "marker": {
             "colorbar": {
              "outlinewidth": 0,
              "ticks": ""
             }
            },
            "type": "scatterternary"
           }
          ],
          "surface": [
           {
            "colorbar": {
             "outlinewidth": 0,
             "ticks": ""
            },
            "colorscale": [
             [
              0,
              "#0d0887"
             ],
             [
              0.1111111111111111,
              "#46039f"
             ],
             [
              0.2222222222222222,
              "#7201a8"
             ],
             [
              0.3333333333333333,
              "#9c179e"
             ],
             [
              0.4444444444444444,
              "#bd3786"
             ],
             [
              0.5555555555555556,
              "#d8576b"
             ],
             [
              0.6666666666666666,
              "#ed7953"
             ],
             [
              0.7777777777777778,
              "#fb9f3a"
             ],
             [
              0.8888888888888888,
              "#fdca26"
             ],
             [
              1,
              "#f0f921"
             ]
            ],
            "type": "surface"
           }
          ],
          "table": [
           {
            "cells": {
             "fill": {
              "color": "#EBF0F8"
             },
             "line": {
              "color": "white"
             }
            },
            "header": {
             "fill": {
              "color": "#C8D4E3"
             },
             "line": {
              "color": "white"
             }
            },
            "type": "table"
           }
          ]
         },
         "layout": {
          "annotationdefaults": {
           "arrowcolor": "#2a3f5f",
           "arrowhead": 0,
           "arrowwidth": 1
          },
          "autotypenumbers": "strict",
          "coloraxis": {
           "colorbar": {
            "outlinewidth": 0,
            "ticks": ""
           }
          },
          "colorscale": {
           "diverging": [
            [
             0,
             "#8e0152"
            ],
            [
             0.1,
             "#c51b7d"
            ],
            [
             0.2,
             "#de77ae"
            ],
            [
             0.3,
             "#f1b6da"
            ],
            [
             0.4,
             "#fde0ef"
            ],
            [
             0.5,
             "#f7f7f7"
            ],
            [
             0.6,
             "#e6f5d0"
            ],
            [
             0.7,
             "#b8e186"
            ],
            [
             0.8,
             "#7fbc41"
            ],
            [
             0.9,
             "#4d9221"
            ],
            [
             1,
             "#276419"
            ]
           ],
           "sequential": [
            [
             0,
             "#0d0887"
            ],
            [
             0.1111111111111111,
             "#46039f"
            ],
            [
             0.2222222222222222,
             "#7201a8"
            ],
            [
             0.3333333333333333,
             "#9c179e"
            ],
            [
             0.4444444444444444,
             "#bd3786"
            ],
            [
             0.5555555555555556,
             "#d8576b"
            ],
            [
             0.6666666666666666,
             "#ed7953"
            ],
            [
             0.7777777777777778,
             "#fb9f3a"
            ],
            [
             0.8888888888888888,
             "#fdca26"
            ],
            [
             1,
             "#f0f921"
            ]
           ],
           "sequentialminus": [
            [
             0,
             "#0d0887"
            ],
            [
             0.1111111111111111,
             "#46039f"
            ],
            [
             0.2222222222222222,
             "#7201a8"
            ],
            [
             0.3333333333333333,
             "#9c179e"
            ],
            [
             0.4444444444444444,
             "#bd3786"
            ],
            [
             0.5555555555555556,
             "#d8576b"
            ],
            [
             0.6666666666666666,
             "#ed7953"
            ],
            [
             0.7777777777777778,
             "#fb9f3a"
            ],
            [
             0.8888888888888888,
             "#fdca26"
            ],
            [
             1,
             "#f0f921"
            ]
           ]
          },
          "colorway": [
           "#636efa",
           "#EF553B",
           "#00cc96",
           "#ab63fa",
           "#FFA15A",
           "#19d3f3",
           "#FF6692",
           "#B6E880",
           "#FF97FF",
           "#FECB52"
          ],
          "font": {
           "color": "#2a3f5f"
          },
          "geo": {
           "bgcolor": "white",
           "lakecolor": "white",
           "landcolor": "#E5ECF6",
           "showlakes": true,
           "showland": true,
           "subunitcolor": "white"
          },
          "hoverlabel": {
           "align": "left"
          },
          "hovermode": "closest",
          "mapbox": {
           "style": "light"
          },
          "paper_bgcolor": "white",
          "plot_bgcolor": "#E5ECF6",
          "polar": {
           "angularaxis": {
            "gridcolor": "white",
            "linecolor": "white",
            "ticks": ""
           },
           "bgcolor": "#E5ECF6",
           "radialaxis": {
            "gridcolor": "white",
            "linecolor": "white",
            "ticks": ""
           }
          },
          "scene": {
           "xaxis": {
            "backgroundcolor": "#E5ECF6",
            "gridcolor": "white",
            "gridwidth": 2,
            "linecolor": "white",
            "showbackground": true,
            "ticks": "",
            "zerolinecolor": "white"
           },
           "yaxis": {
            "backgroundcolor": "#E5ECF6",
            "gridcolor": "white",
            "gridwidth": 2,
            "linecolor": "white",
            "showbackground": true,
            "ticks": "",
            "zerolinecolor": "white"
           },
           "zaxis": {
            "backgroundcolor": "#E5ECF6",
            "gridcolor": "white",
            "gridwidth": 2,
            "linecolor": "white",
            "showbackground": true,
            "ticks": "",
            "zerolinecolor": "white"
           }
          },
          "shapedefaults": {
           "line": {
            "color": "#2a3f5f"
           }
          },
          "ternary": {
           "aaxis": {
            "gridcolor": "white",
            "linecolor": "white",
            "ticks": ""
           },
           "baxis": {
            "gridcolor": "white",
            "linecolor": "white",
            "ticks": ""
           },
           "bgcolor": "#E5ECF6",
           "caxis": {
            "gridcolor": "white",
            "linecolor": "white",
            "ticks": ""
           }
          },
          "title": {
           "x": 0.05
          },
          "xaxis": {
           "automargin": true,
           "gridcolor": "white",
           "linecolor": "white",
           "ticks": "",
           "title": {
            "standoff": 15
           },
           "zerolinecolor": "white",
           "zerolinewidth": 2
          },
          "yaxis": {
           "automargin": true,
           "gridcolor": "white",
           "linecolor": "white",
           "ticks": "",
           "title": {
            "standoff": 15
           },
           "zerolinecolor": "white",
           "zerolinewidth": 2
          }
         }
        }
       }
      }
     },
     "metadata": {},
     "output_type": "display_data"
    }
   ],
   "source": [
    "import plotly.graph_objs as go\n",
    "from src.plot_event import *\n",
    "\n",
    "layout = get_3d_layout()\n",
    "plot_det = plot_I3det(\"../../\")\n",
    "\n",
    "fig = go.FigureWidget(data=plot_det, layout=layout)\n",
    "\n",
    "plot_evt = plot_first_hits(evt)\n",
    "fig.add_trace(plot_evt)\n",
    "\n",
    "fig.show()"
   ]
  },
  {
   "cell_type": "markdown",
   "metadata": {},
   "source": [
    "## 2: From what direction did the neutrino come from? "
   ]
  },
  {
   "cell_type": "markdown",
   "metadata": {},
   "source": [
    "In the event displays we've just looked at, redder hits occur earlier and greener hits occur after. Given this information, can you figure out in what direction the neutrino was going?\n",
    "\n",
    "We've written a game below to see how well you can do. Execute the cell below (`shift return`) to start the game. \n",
    "\n",
    "You should see a similar event display, along with a big arrow, which represents your guess for the direction of the neutrino. Adjust this arrow using the zenith and azimuth angle sliders provided. Once you are happy with your guess, hit the submit button below the event display. The event display will be refreshed to show the actual true path of the neutrino, and how many degrees you were off the actual path will be printed below. Try to be as close as possible to the actual path, and minimize the degrees you were off by!\n",
    "\n",
    "After submitting a guess, you can return to the game by clicking the Return button. You can then try to guess again on the same event, or try your hand at a different one by opening the event_id dropdown menu and selecting a different one."
   ]
  },
  {
   "cell_type": "markdown",
   "metadata": {},
   "source": [
    "WIP: Felix's directional reconstruction game. "
   ]
  },
  {
   "cell_type": "code",
   "execution_count": null,
   "metadata": {},
   "outputs": [],
   "source": [
    "# !pip install \"analysis @ git+https://github.com/jlazar17/IceCube_Masterclass_MoonShadow\";\n",
    "\n",
    "# from analysis import DataReader\n",
    "# from analysis import reco_game\n",
    "\n",
    "# tracks = DataReader(\"tracks.parquet\")"
   ]
  },
  {
   "cell_type": "code",
   "execution_count": null,
   "metadata": {},
   "outputs": [],
   "source": [
    "from src.reco_game import reco_game\n",
    "reco_game( tracks )"
   ]
  },
  {
   "cell_type": "markdown",
   "metadata": {},
   "source": [
    "As we discussed earlier today, IceCube can see two broad kinds of events, *tracks*, which look like long lines and are produced by the light from *muons*, and *cascades*, which look like spherical blobs and are produced by the light from *electrons* (and some other particles). \n",
    "\n",
    "We just tried to reconstruct the direction of some track events. Do you think it would be easier or harder to reconstruct the direction of some cascade events? \n",
    "\n",
    "Give it a try!"
   ]
  },
  {
   "cell_type": "code",
   "execution_count": null,
   "metadata": {},
   "outputs": [],
   "source": [
    "cascades = DataReader(\"cascades.parquet\")\n",
    "reco_game(cascades)"
   ]
  },
  {
   "cell_type": "markdown",
   "metadata": {},
   "source": [
    "## 3: Can we use computers to do a better job at figuring out the direction?"
   ]
  },
  {
   "cell_type": "markdown",
   "metadata": {},
   "source": [
    "When we try to figure out the direction in the game below, what we're actually doing is trying to get the direction arrow to go as close to through the middle of all the hits as possible.\n",
    "\n",
    "We can quantify this sense of \"how good\" with some math! Imagine drawing straight lines from each hit to the arrow, like in the image below:\n",
    "\n",
    "the more of these lines are shorter, the better our guess of the direction. We can calculate the length of each line using some *vector* math:\n",
    "\n",
    "We can also write a *function* in python to do this calculation for us! Just like in math, this *function* takes in some inputs (the direction vector and the hit) and produces one output (the perpendicular distance). "
   ]
  },
  {
   "cell_type": "code",
   "execution_count": 5,
   "metadata": {},
   "outputs": [],
   "source": [
    "# def get_direction_vector_from_angles( azi, zen ):\n",
    "#     return np.array([\n",
    "#         np.cos(azi) * np.sin(zen),\n",
    "#         np.sin(azi) * np.sin(zen),\n",
    "#         np.cos(zen)\n",
    "#     ])\n",
    "\n",
    "# def get_direction_angles_from_vector( dir ):\n",
    "#     azi = np.arctan2( dir[1], dir[0] )\n",
    "#     zen = np.arccos( dir[2] )\n",
    "#     return np.array([azi, zen])\n",
    "\n",
    "from src.direction_utils import *"
   ]
  },
  {
   "cell_type": "code",
   "execution_count": 6,
   "metadata": {},
   "outputs": [],
   "source": [
    "\"\"\"\n",
    "\"\"\"\n",
    "def calc_perpendicular_distance( hit_pt, dir_vec, pivot_pt ):\n",
    "    dist_vec = hit_pt - pivot_pt\n",
    "    return np.sqrt( np.dot( dist_vec, dist_vec ) -  np.dot( dist_vec, dir_vec )**2 )\n",
    "\n",
    "\"\"\"\n",
    "\"\"\"\n",
    "def calc_mean_perpendicular_distance( dir_angles, hit_pts, pivot_pt ):\n",
    "    \n",
    "    dir_vec = get_direction_vector_from_angles( dir_angles[0], dir_angles[1] )\n",
    "    return np.mean([ calc_perpendicular_distance(hit, dir_vec, pivot_pt) for hit in hit_pts ])"
   ]
  },
  {
   "cell_type": "code",
   "execution_count": 10,
   "metadata": {},
   "outputs": [],
   "source": [
    "def calc_center_of_gravity( hits ):\n",
    "    return hits.mean(axis=0)\n",
    "\n",
    "    # hits = evt.hits[[\"t\", \"sensor_pos_x\", \"sensor_pos_y\", \"sensor_pos_z\"]].to_numpy()\n",
    "    # return hits.mean(axis=0)[1:4]"
   ]
  },
  {
   "cell_type": "markdown",
   "metadata": {},
   "source": [
    "Let's check that bad guesses really result in a larger *mean*, or average, perpendicular distance. Adjust the values of the zenith `zen` and azimuth `azi` angles below and see how the mean distance changes. We'll also plot the direction vector again for a visual check on the 'goodness' of the guess.\n",
    "\n",
    "Does the mean distance calculation help you refine your guess more easily? "
   ]
  },
  {
   "cell_type": "code",
   "execution_count": 11,
   "metadata": {},
   "outputs": [],
   "source": [
    "# you can change which event you want to look at here: \n",
    "evt_num = 5\n",
    "evt = tracks[evt_num]"
   ]
  },
  {
   "cell_type": "code",
   "execution_count": 13,
   "metadata": {},
   "outputs": [
    {
     "name": "stdout",
     "output_type": "stream",
     "text": [
      "the mean distance is 88.24 meters \n",
      "\n"
     ]
    },
    {
     "data": {
      "application/vnd.plotly.v1+json": {
       "config": {
        "plotlyServerURL": "https://plot.ly"
       },
       "data": [
        {
         "hoverinfo": "skip",
         "line": {
          "color": "lightgrey",
          "width": 1
         },
         "mode": "lines",
         "showlegend": false,
         "type": "scatter3d",
         "uid": "12f82ea3-9d5c-4dd7-9c7b-b27df32624d2",
         "x": [
          -256.14,
          -256.14
         ],
         "y": [
          -521.08,
          -521.08
         ],
         "z": [
          -1441.93,
          -2453.06
         ]
        },
        {
         "hoverinfo": "skip",
         "line": {
          "color": "lightgrey",
          "width": 1
         },
         "mode": "lines",
         "showlegend": false,
         "type": "scatter3d",
         "uid": "8bdaf0a1-2ad2-45de-889a-0d8da4e6dbc1",
         "x": [
          -132.8,
          -132.8
         ],
         "y": [
          -501.45,
          -501.45
         ],
         "z": [
          -1441.93,
          -2453.06
         ]
        },
        {
         "hoverinfo": "skip",
         "line": {
          "color": "lightgrey",
          "width": 1
         },
         "mode": "lines",
         "showlegend": false,
         "type": "scatter3d",
         "uid": "fc94fa36-f955-4521-8372-cfbc262ddd43",
         "x": [
          -9.13,
          -9.13
         ],
         "y": [
          -481.74,
          -481.74
         ],
         "z": [
          -1441.93,
          -2453.06
         ]
        },
        {
         "hoverinfo": "skip",
         "line": {
          "color": "lightgrey",
          "width": 1
         },
         "mode": "lines",
         "showlegend": false,
         "type": "scatter3d",
         "uid": "7b56684b-5935-472e-9e00-d8607c615696",
         "x": [
          114.39,
          114.39
         ],
         "y": [
          -461.99,
          -461.99
         ],
         "z": [
          -1441.93,
          -2453.06
         ]
        },
        {
         "hoverinfo": "skip",
         "line": {
          "color": "lightgrey",
          "width": 1
         },
         "mode": "lines",
         "showlegend": false,
         "type": "scatter3d",
         "uid": "6740f3e8-5482-44fa-8736-f005b2abe8fc",
         "x": [
          237.78,
          237.78
         ],
         "y": [
          -442.42,
          -442.42
         ],
         "z": [
          -1441.93,
          -2453.06
         ]
        },
        {
         "hoverinfo": "skip",
         "line": {
          "color": "lightgrey",
          "width": 1
         },
         "mode": "lines",
         "showlegend": false,
         "type": "scatter3d",
         "uid": "7e322dd2-e00d-406f-95d2-9cf26c1d8740",
         "x": [
          361,
          361
         ],
         "y": [
          -422.83,
          -422.83
         ],
         "z": [
          -1441.93,
          -2453.06
         ]
        },
        {
         "hoverinfo": "skip",
         "line": {
          "color": "lightgrey",
          "width": 1
         },
         "mode": "lines",
         "showlegend": false,
         "type": "scatter3d",
         "uid": "50a1b16c-88e1-4fa2-aeee-9bdb390b4277",
         "x": [
          -334.8,
          -334.8
         ],
         "y": [
          -424.5,
          -424.5
         ],
         "z": [
          -1441.93,
          -2453.06
         ]
        },
        {
         "hoverinfo": "skip",
         "line": {
          "color": "lightgrey",
          "width": 1
         },
         "mode": "lines",
         "showlegend": false,
         "type": "scatter3d",
         "uid": "74006167-a56f-42c2-9f66-d6098f42525c",
         "x": [
          -211.35,
          -211.35
         ],
         "y": [
          -404.48,
          -404.48
         ],
         "z": [
          -1441.93,
          -2453.06
         ]
        },
        {
         "hoverinfo": "skip",
         "line": {
          "color": "lightgrey",
          "width": 1
         },
         "mode": "lines",
         "showlegend": false,
         "type": "scatter3d",
         "uid": "321c0580-f392-4ba5-ba88-8fd5c1344beb",
         "x": [
          -88.05,
          -88.05
         ],
         "y": [
          -384.3,
          -384.3
         ],
         "z": [
          -1441.93,
          -2453.06
         ]
        },
        {
         "hoverinfo": "skip",
         "line": {
          "color": "lightgrey",
          "width": 1
         },
         "mode": "lines",
         "showlegend": false,
         "type": "scatter3d",
         "uid": "66c5022d-0ba1-4846-a01c-befdb92c5199",
         "x": [
          35.54,
          35.54
         ],
         "y": [
          -364.83,
          -364.83
         ],
         "z": [
          -1441.93,
          -2453.06
         ]
        },
        {
         "hoverinfo": "skip",
         "line": {
          "color": "lightgrey",
          "width": 1
         },
         "mode": "lines",
         "showlegend": false,
         "type": "scatter3d",
         "uid": "aab6396a-c31e-430b-99c7-ed3e4c553aa4",
         "x": [
          158.94,
          158.94
         ],
         "y": [
          -345.23,
          -345.23
         ],
         "z": [
          -1441.93,
          -2453.06
         ]
        },
        {
         "hoverinfo": "skip",
         "line": {
          "color": "lightgrey",
          "width": 1
         },
         "mode": "lines",
         "showlegend": false,
         "type": "scatter3d",
         "uid": "8cba1c17-f7d1-4d2b-b4ab-da9c90ef7790",
         "x": [
          282.18,
          282.18
         ],
         "y": [
          -325.74,
          -325.74
         ],
         "z": [
          -1441.93,
          -2453.06
         ]
        },
        {
         "hoverinfo": "skip",
         "line": {
          "color": "lightgrey",
          "width": 1
         },
         "mode": "lines",
         "showlegend": false,
         "type": "scatter3d",
         "uid": "27f401ef-f725-4ca3-9042-e858b123f746",
         "x": [
          405.83,
          405.83
         ],
         "y": [
          -306.38,
          -306.38
         ],
         "z": [
          -1441.93,
          -2453.06
         ]
        },
        {
         "hoverinfo": "skip",
         "line": {
          "color": "lightgrey",
          "width": 1
         },
         "mode": "lines",
         "showlegend": false,
         "type": "scatter3d",
         "uid": "9b1305a7-185e-45e0-b1c0-26c1d8eede49",
         "x": [
          -413.46,
          -413.46
         ],
         "y": [
          -327.27,
          -327.27
         ],
         "z": [
          -1441.93,
          -2453.06
         ]
        },
        {
         "hoverinfo": "skip",
         "line": {
          "color": "lightgrey",
          "width": 1
         },
         "mode": "lines",
         "showlegend": false,
         "type": "scatter3d",
         "uid": "c869e6d3-333a-424f-bac5-4ad54cd8c9a7",
         "x": [
          -290.66,
          -290.66
         ],
         "y": [
          -307.38,
          -307.38
         ],
         "z": [
          -1441.93,
          -2453.06
         ]
        },
        {
         "hoverinfo": "skip",
         "line": {
          "color": "lightgrey",
          "width": 1
         },
         "mode": "lines",
         "showlegend": false,
         "type": "scatter3d",
         "uid": "2b277aa9-5784-4a88-aaf0-078a1280a8d8",
         "x": [
          -166.4,
          -166.4
         ],
         "y": [
          -287.79,
          -287.79
         ],
         "z": [
          -1441.93,
          -2453.06
         ]
        },
        {
         "hoverinfo": "skip",
         "line": {
          "color": "lightgrey",
          "width": 1
         },
         "mode": "lines",
         "showlegend": false,
         "type": "scatter3d",
         "uid": "2dd4ec1b-fe8c-4388-8d86-44fba0b8e9e5",
         "x": [
          -43.27,
          -43.27
         ],
         "y": [
          -267.52,
          -267.52
         ],
         "z": [
          -1441.93,
          -2453.06
         ]
        },
        {
         "hoverinfo": "skip",
         "line": {
          "color": "lightgrey",
          "width": 1
         },
         "mode": "lines",
         "showlegend": false,
         "type": "scatter3d",
         "uid": "345c4785-7e64-4a38-8a24-85d620d2286d",
         "x": [
          79.41,
          79.41
         ],
         "y": [
          -248.24,
          -248.24
         ],
         "z": [
          -1441.93,
          -2453.06
         ]
        },
        {
         "hoverinfo": "skip",
         "line": {
          "color": "lightgrey",
          "width": 1
         },
         "mode": "lines",
         "showlegend": false,
         "type": "scatter3d",
         "uid": "258f323a-abe9-4e7e-bfae-00f5b955878a",
         "x": [
          210.47,
          210.47
         ],
         "y": [
          -209.77,
          -209.77
         ],
         "z": [
          -1441.93,
          -2453.06
         ]
        },
        {
         "hoverinfo": "skip",
         "line": {
          "color": "lightgrey",
          "width": 1
         },
         "mode": "lines",
         "showlegend": false,
         "type": "scatter3d",
         "uid": "acfca5d6-3492-4ee4-956d-f0ff5c62cc91",
         "x": [
          326.85,
          326.85
         ],
         "y": [
          -209.07,
          -209.07
         ],
         "z": [
          -1441.93,
          -2453.06
         ]
        },
        {
         "hoverinfo": "skip",
         "line": {
          "color": "lightgrey",
          "width": 1
         },
         "mode": "lines",
         "showlegend": false,
         "type": "scatter3d",
         "uid": "90fd944e-417a-4311-ae1f-87bdd1a0d232",
         "x": [
          443.55,
          443.55
         ],
         "y": [
          -194.16,
          -194.16
         ],
         "z": [
          -1441.93,
          -2453.06
         ]
        },
        {
         "hoverinfo": "skip",
         "line": {
          "color": "lightgrey",
          "width": 1
         },
         "mode": "lines",
         "showlegend": false,
         "type": "scatter3d",
         "uid": "1d7b341a-e213-4306-abad-901fcedde513",
         "x": [
          -492.43,
          -492.43
         ],
         "y": [
          -230.16,
          -230.16
         ],
         "z": [
          -1441.93,
          -2453.06
         ]
        },
        {
         "hoverinfo": "skip",
         "line": {
          "color": "lightgrey",
          "width": 1
         },
         "mode": "lines",
         "showlegend": false,
         "type": "scatter3d",
         "uid": "c740e1b3-716a-484c-a0fb-891626daf57d",
         "x": [
          -368.93,
          -368.93
         ],
         "y": [
          -210.23,
          -210.23
         ],
         "z": [
          -1441.93,
          -2453.06
         ]
        },
        {
         "hoverinfo": "skip",
         "line": {
          "color": "lightgrey",
          "width": 1
         },
         "mode": "lines",
         "showlegend": false,
         "type": "scatter3d",
         "uid": "0e2d5e6e-a6cb-4933-a0fb-bd8ffa385df6",
         "x": [
          -245.65,
          -245.65
         ],
         "y": [
          -190.49,
          -190.49
         ],
         "z": [
          -1441.93,
          -2453.06
         ]
        },
        {
         "hoverinfo": "skip",
         "line": {
          "color": "lightgrey",
          "width": 1
         },
         "mode": "lines",
         "showlegend": false,
         "type": "scatter3d",
         "uid": "2acb58f2-3300-45d6-b1d7-24a6f4af72a9",
         "x": [
          -121.77,
          -121.77
         ],
         "y": [
          -171.03,
          -171.03
         ],
         "z": [
          -1441.93,
          -2453.06
         ]
        },
        {
         "hoverinfo": "skip",
         "line": {
          "color": "lightgrey",
          "width": 1
         },
         "mode": "lines",
         "showlegend": false,
         "type": "scatter3d",
         "uid": "de86b19c-d015-4608-a7fd-d0e114cab167",
         "x": [
          1.71,
          1.71
         ],
         "y": [
          -150.63,
          -150.63
         ],
         "z": [
          -1441.93,
          -2453.06
         ]
        },
        {
         "hoverinfo": "skip",
         "line": {
          "color": "lightgrey",
          "width": 1
         },
         "mode": "lines",
         "showlegend": false,
         "type": "scatter3d",
         "uid": "de0232b2-24d6-4ce4-8c45-0b526d89ae41",
         "x": [
          124.97,
          124.97
         ],
         "y": [
          -131.25,
          -131.25
         ],
         "z": [
          -1441.93,
          -2453.06
         ]
        },
        {
         "hoverinfo": "skip",
         "line": {
          "color": "lightgrey",
          "width": 1
         },
         "mode": "lines",
         "showlegend": false,
         "type": "scatter3d",
         "uid": "08370f48-88e6-490b-b027-c43aa1917374",
         "x": [
          248.15,
          248.15
         ],
         "y": [
          -111.87,
          -111.87
         ],
         "z": [
          -1441.93,
          -2453.06
         ]
        },
        {
         "hoverinfo": "skip",
         "line": {
          "color": "lightgrey",
          "width": 1
         },
         "mode": "lines",
         "showlegend": false,
         "type": "scatter3d",
         "uid": "6a823f8a-9897-4a78-a787-8c6a0066bca0",
         "x": [
          371.56,
          371.56
         ],
         "y": [
          -92.18,
          -92.18
         ],
         "z": [
          -1441.93,
          -2453.06
         ]
        },
        {
         "hoverinfo": "skip",
         "line": {
          "color": "lightgrey",
          "width": 1
         },
         "mode": "lines",
         "showlegend": false,
         "type": "scatter3d",
         "uid": "51bdfc97-a5d9-4ff7-9fb8-5931d9fc2091",
         "x": [
          500.43,
          500.43
         ],
         "y": [
          -58.45,
          -58.45
         ],
         "z": [
          -1441.93,
          -2453.06
         ]
        },
        {
         "hoverinfo": "skip",
         "line": {
          "color": "lightgrey",
          "width": 1
         },
         "mode": "lines",
         "showlegend": false,
         "type": "scatter3d",
         "uid": "8e200427-0c4d-4519-b685-addbb89bbaf4",
         "x": [
          -570.9,
          -570.9
         ],
         "y": [
          -125.14,
          -125.14
         ],
         "z": [
          -1441.93,
          -2453.06
         ]
        },
        {
         "hoverinfo": "skip",
         "line": {
          "color": "lightgrey",
          "width": 1
         },
         "mode": "lines",
         "showlegend": false,
         "type": "scatter3d",
         "uid": "0b272eeb-dd9d-42b5-83c9-40f015c5798f",
         "x": [
          -447.74,
          -447.74
         ],
         "y": [
          -113.13,
          -113.13
         ],
         "z": [
          -1441.93,
          -2453.06
         ]
        },
        {
         "hoverinfo": "skip",
         "line": {
          "color": "lightgrey",
          "width": 1
         },
         "mode": "lines",
         "showlegend": false,
         "type": "scatter3d",
         "uid": "b7503b08-c137-4fbc-a6c8-f7c6aa6e38da",
         "x": [
          -324.39,
          -324.39
         ],
         "y": [
          -93.43,
          -93.43
         ],
         "z": [
          -1441.93,
          -2453.06
         ]
        },
        {
         "hoverinfo": "skip",
         "line": {
          "color": "lightgrey",
          "width": 1
         },
         "mode": "lines",
         "showlegend": false,
         "type": "scatter3d",
         "uid": "008b8c52-f977-4755-89ea-f4754f0fc12a",
         "x": [
          -200.55,
          -200.55
         ],
         "y": [
          -74.03,
          -74.03
         ],
         "z": [
          -1441.93,
          -2453.06
         ]
        },
        {
         "hoverinfo": "skip",
         "line": {
          "color": "lightgrey",
          "width": 1
         },
         "mode": "lines",
         "showlegend": false,
         "type": "scatter3d",
         "uid": "082dc5fd-7709-4d3c-b15a-133ceaf0c7f2",
         "x": [
          -77.8,
          -77.8
         ],
         "y": [
          -54.33,
          -54.33
         ],
         "z": [
          -1441.93,
          -2453.06
         ]
        },
        {
         "hoverinfo": "skip",
         "line": {
          "color": "lightgrey",
          "width": 1
         },
         "mode": "lines",
         "showlegend": false,
         "type": "scatter3d",
         "uid": "f0d36480-10a7-478f-bdf6-bf60b5039520",
         "x": [
          46.29,
          46.29
         ],
         "y": [
          -34.88,
          -34.88
         ],
         "z": [
          -1441.93,
          -2453.06
         ]
        },
        {
         "hoverinfo": "skip",
         "line": {
          "color": "lightgrey",
          "width": 1
         },
         "mode": "lines",
         "showlegend": false,
         "type": "scatter3d",
         "uid": "9072ac7d-fa6a-43e1-8f6d-5179a1e82682",
         "x": [
          194.34,
          194.34
         ],
         "y": [
          -30.92,
          -30.92
         ],
         "z": [
          -1441.93,
          -2453.06
         ]
        },
        {
         "hoverinfo": "skip",
         "line": {
          "color": "lightgrey",
          "width": 1
         },
         "mode": "lines",
         "showlegend": false,
         "type": "scatter3d",
         "uid": "5947ff20-10ec-4285-bc7f-b7ca59f8c29a",
         "x": [
          292.9,
          292.9
         ],
         "y": [
          5.2,
          5.2
         ],
         "z": [
          -1441.93,
          -2453.06
         ]
        },
        {
         "hoverinfo": "skip",
         "line": {
          "color": "lightgrey",
          "width": 1
         },
         "mode": "lines",
         "showlegend": false,
         "type": "scatter3d",
         "uid": "31fee49a-397c-4dea-8a5a-36ff8aa8d357",
         "x": [
          411.81,
          411.81
         ],
         "y": [
          13,
          13
         ],
         "z": [
          -1441.93,
          -2453.06
         ]
        },
        {
         "hoverinfo": "skip",
         "line": {
          "color": "lightgrey",
          "width": 1
         },
         "mode": "lines",
         "showlegend": false,
         "type": "scatter3d",
         "uid": "81bad22e-84eb-43d9-93c4-8fd88b6be792",
         "x": [
          544.07,
          544.07
         ],
         "y": [
          55.89,
          55.89
         ],
         "z": [
          -1441.93,
          -2453.06
         ]
        },
        {
         "hoverinfo": "skip",
         "line": {
          "color": "lightgrey",
          "width": 1
         },
         "mode": "lines",
         "showlegend": false,
         "type": "scatter3d",
         "uid": "e71a3f7f-e488-41e0-8043-eddd6727d7db",
         "x": [
          -526.63,
          -526.63
         ],
         "y": [
          -15.6,
          -15.6
         ],
         "z": [
          -1441.93,
          -2453.06
         ]
        },
        {
         "hoverinfo": "skip",
         "line": {
          "color": "lightgrey",
          "width": 1
         },
         "mode": "lines",
         "showlegend": false,
         "type": "scatter3d",
         "uid": "09c50eff-af2d-40dc-8f94-fd2366302081",
         "x": [
          -403.14,
          -403.14
         ],
         "y": [
          3.49,
          3.49
         ],
         "z": [
          -1441.93,
          -2453.06
         ]
        },
        {
         "hoverinfo": "skip",
         "line": {
          "color": "lightgrey",
          "width": 1
         },
         "mode": "lines",
         "showlegend": false,
         "type": "scatter3d",
         "uid": "c64fb286-1afb-4043-b9b4-c2b79e6d878c",
         "x": [
          -279.53,
          -279.53
         ],
         "y": [
          23.17,
          23.17
         ],
         "z": [
          -1441.93,
          -2453.06
         ]
        },
        {
         "hoverinfo": "skip",
         "line": {
          "color": "lightgrey",
          "width": 1
         },
         "mode": "lines",
         "showlegend": false,
         "type": "scatter3d",
         "uid": "d0e5beb9-5162-452b-8b8e-53b0fd2c845e",
         "x": [
          -156.23,
          -156.23
         ],
         "y": [
          43.37,
          43.37
         ],
         "z": [
          -1441.93,
          -2453.06
         ]
        },
        {
         "hoverinfo": "skip",
         "line": {
          "color": "lightgrey",
          "width": 1
         },
         "mode": "lines",
         "showlegend": false,
         "type": "scatter3d",
         "uid": "6945cd67-2ecb-47cc-bc8c-54fa9fc926d4",
         "x": [
          -32.96,
          -32.96
         ],
         "y": [
          62.44,
          62.44
         ],
         "z": [
          -1441.93,
          -2453.06
         ]
        },
        {
         "hoverinfo": "skip",
         "line": {
          "color": "lightgrey",
          "width": 1
         },
         "mode": "lines",
         "showlegend": false,
         "type": "scatter3d",
         "uid": "46d03002-4dc1-45d4-ab10-fd14c0a2a7bf",
         "x": [
          90.49,
          90.49
         ],
         "y": [
          82.35,
          82.35
         ],
         "z": [
          -1441.93,
          -2453.06
         ]
        },
        {
         "hoverinfo": "skip",
         "line": {
          "color": "lightgrey",
          "width": 1
         },
         "mode": "lines",
         "showlegend": false,
         "type": "scatter3d",
         "uid": "a140d7e4-2a96-4ee7-b666-b191a0ed2b93",
         "x": [
          195.03,
          195.03
         ],
         "y": [
          125.59,
          125.59
         ],
         "z": [
          -1441.93,
          -2453.06
         ]
        },
        {
         "hoverinfo": "skip",
         "line": {
          "color": "lightgrey",
          "width": 1
         },
         "mode": "lines",
         "showlegend": false,
         "type": "scatter3d",
         "uid": "d07985aa-67f4-4324-a6bf-c8030d6b26df",
         "x": [
          330.03,
          330.03
         ],
         "y": [
          127.2,
          127.2
         ],
         "z": [
          -1441.93,
          -2453.06
         ]
        },
        {
         "hoverinfo": "skip",
         "line": {
          "color": "lightgrey",
          "width": 1
         },
         "mode": "lines",
         "showlegend": false,
         "type": "scatter3d",
         "uid": "0bb0d878-544c-47dc-8b43-2dc1dcd72e38",
         "x": [
          472.05,
          472.05
         ],
         "y": [
          127.9,
          127.9
         ],
         "z": [
          -1441.93,
          -2453.06
         ]
        },
        {
         "hoverinfo": "skip",
         "line": {
          "color": "lightgrey",
          "width": 1
         },
         "mode": "lines",
         "showlegend": false,
         "type": "scatter3d",
         "uid": "6cee2ab7-deda-4769-bc54-6e77a037ecb0",
         "x": [
          576.37,
          576.37
         ],
         "y": [
          170.92,
          170.92
         ],
         "z": [
          -1441.93,
          -2453.06
         ]
        },
        {
         "hoverinfo": "skip",
         "line": {
          "color": "lightgrey",
          "width": 1
         },
         "mode": "lines",
         "showlegend": false,
         "type": "scatter3d",
         "uid": "f3a76284-d068-4d9e-909f-77f00db963cb",
         "x": [
          -481.6,
          -481.6
         ],
         "y": [
          101.39,
          101.39
         ],
         "z": [
          -1441.93,
          -2453.06
         ]
        },
        {
         "hoverinfo": "skip",
         "line": {
          "color": "lightgrey",
          "width": 1
         },
         "mode": "lines",
         "showlegend": false,
         "type": "scatter3d",
         "uid": "ed0eb788-6850-41ee-815c-a215c78f73e0",
         "x": [
          -358.44,
          -358.44
         ],
         "y": [
          120.56,
          120.56
         ],
         "z": [
          -1441.93,
          -2453.06
         ]
        },
        {
         "hoverinfo": "skip",
         "line": {
          "color": "lightgrey",
          "width": 1
         },
         "mode": "lines",
         "showlegend": false,
         "type": "scatter3d",
         "uid": "cc518bcc-1f0e-4a3b-a799-a89caff054b9",
         "x": [
          -234.95,
          -234.95
         ],
         "y": [
          140.44,
          140.44
         ],
         "z": [
          -1441.93,
          -2453.06
         ]
        },
        {
         "hoverinfo": "skip",
         "line": {
          "color": "lightgrey",
          "width": 1
         },
         "mode": "lines",
         "showlegend": false,
         "type": "scatter3d",
         "uid": "c2048225-d7ef-4827-ac42-ce49dadbbefd",
         "x": [
          -111.51,
          -111.51
         ],
         "y": [
          159.98,
          159.98
         ],
         "z": [
          -1441.93,
          -2453.06
         ]
        },
        {
         "hoverinfo": "skip",
         "line": {
          "color": "lightgrey",
          "width": 1
         },
         "mode": "lines",
         "showlegend": false,
         "type": "scatter3d",
         "uid": "67fbbb5d-1b66-43fc-ba70-ba7dcaf76ed3",
         "x": [
          11.87,
          11.87
         ],
         "y": [
          179.19,
          179.19
         ],
         "z": [
          -1441.93,
          -2453.06
         ]
        },
        {
         "hoverinfo": "skip",
         "line": {
          "color": "lightgrey",
          "width": 1
         },
         "mode": "lines",
         "showlegend": false,
         "type": "scatter3d",
         "uid": "24a41cc7-c0c5-4128-90e8-719d48d923d5",
         "x": [
          132.03,
          132.03
         ],
         "y": [
          202.98,
          202.98
         ],
         "z": [
          -1441.93,
          -2453.06
         ]
        },
        {
         "hoverinfo": "skip",
         "line": {
          "color": "lightgrey",
          "width": 1
         },
         "mode": "lines",
         "showlegend": false,
         "type": "scatter3d",
         "uid": "50dbd15d-081e-49b3-bf99-74b56b12b716",
         "x": [
          257.31,
          257.31
         ],
         "y": [
          211.66,
          211.66
         ],
         "z": [
          -1441.93,
          -2453.06
         ]
        },
        {
         "hoverinfo": "skip",
         "line": {
          "color": "lightgrey",
          "width": 1
         },
         "mode": "lines",
         "showlegend": false,
         "type": "scatter3d",
         "uid": "04ae2766-b6e6-4823-9010-832fb0e13545",
         "x": [
          382.35,
          382.35
         ],
         "y": [
          238.9,
          238.9
         ],
         "z": [
          -1441.93,
          -2453.06
         ]
        },
        {
         "hoverinfo": "skip",
         "line": {
          "color": "lightgrey",
          "width": 1
         },
         "mode": "lines",
         "showlegend": false,
         "type": "scatter3d",
         "uid": "ffcbe013-0612-4b71-92e4-fa4e4d5f42f3",
         "x": [
          505.27,
          505.27
         ],
         "y": [
          257.88,
          257.88
         ],
         "z": [
          -1441.93,
          -2453.06
         ]
        },
        {
         "hoverinfo": "skip",
         "line": {
          "color": "lightgrey",
          "width": 1
         },
         "mode": "lines",
         "showlegend": false,
         "type": "scatter3d",
         "uid": "91d82502-bbac-440e-8076-b2b4afa3102d",
         "x": [
          -437.04,
          -437.04
         ],
         "y": [
          217.8,
          217.8
         ],
         "z": [
          -1441.93,
          -2453.06
         ]
        },
        {
         "hoverinfo": "skip",
         "line": {
          "color": "lightgrey",
          "width": 1
         },
         "mode": "lines",
         "showlegend": false,
         "type": "scatter3d",
         "uid": "19569fcd-a242-43cc-8061-cf84392f1acc",
         "x": [
          -313.6,
          -313.6
         ],
         "y": [
          237.44,
          237.44
         ],
         "z": [
          -1441.93,
          -2453.06
         ]
        },
        {
         "hoverinfo": "skip",
         "line": {
          "color": "lightgrey",
          "width": 1
         },
         "mode": "lines",
         "showlegend": false,
         "type": "scatter3d",
         "uid": "ad1fc32a-03cf-4caa-a6cf-53f19087e557",
         "x": [
          -189.98,
          -189.98
         ],
         "y": [
          257.42,
          257.42
         ],
         "z": [
          -1441.93,
          -2453.06
         ]
        },
        {
         "hoverinfo": "skip",
         "line": {
          "color": "lightgrey",
          "width": 1
         },
         "mode": "lines",
         "showlegend": false,
         "type": "scatter3d",
         "uid": "16c4b023-6400-49ff-975c-bc7e4c7c04c5",
         "x": [
          -66.7,
          -66.7
         ],
         "y": [
          276.92,
          276.92
         ],
         "z": [
          -1441.93,
          -2453.06
         ]
        },
        {
         "hoverinfo": "skip",
         "line": {
          "color": "lightgrey",
          "width": 1
         },
         "mode": "lines",
         "showlegend": false,
         "type": "scatter3d",
         "uid": "fd14c0f6-7ddd-405f-9596-e083e3d24dd8",
         "x": [
          54.26,
          54.26
         ],
         "y": [
          292.97,
          292.97
         ],
         "z": [
          -1441.93,
          -2453.06
         ]
        },
        {
         "hoverinfo": "skip",
         "line": {
          "color": "lightgrey",
          "width": 1
         },
         "mode": "lines",
         "showlegend": false,
         "type": "scatter3d",
         "uid": "d17a5e13-de3e-4682-9f4e-340ba76aa0c5",
         "x": [
          174.47,
          174.47
         ],
         "y": [
          315.54,
          315.54
         ],
         "z": [
          -1441.93,
          -2453.06
         ]
        },
        {
         "hoverinfo": "skip",
         "line": {
          "color": "lightgrey",
          "width": 1
         },
         "mode": "lines",
         "showlegend": false,
         "type": "scatter3d",
         "uid": "ffd08c66-eaf3-4c4e-8428-b9f145f0d20a",
         "x": [
          303.41,
          303.41
         ],
         "y": [
          335.64,
          335.64
         ],
         "z": [
          -1441.93,
          -2453.06
         ]
        },
        {
         "hoverinfo": "skip",
         "line": {
          "color": "lightgrey",
          "width": 1
         },
         "mode": "lines",
         "showlegend": false,
         "type": "scatter3d",
         "uid": "9860314c-9445-478f-852f-ef7bc6f269bf",
         "x": [
          429.76,
          429.76
         ],
         "y": [
          351.02,
          351.02
         ],
         "z": [
          -1441.93,
          -2453.06
         ]
        },
        {
         "hoverinfo": "skip",
         "line": {
          "color": "lightgrey",
          "width": 1
         },
         "mode": "lines",
         "showlegend": false,
         "type": "scatter3d",
         "uid": "c610c5d3-89c7-4a28-b3f2-5db7820024ce",
         "x": [
          -392.38,
          -392.38
         ],
         "y": [
          334.24,
          334.24
         ],
         "z": [
          -1441.93,
          -2453.06
         ]
        },
        {
         "hoverinfo": "skip",
         "line": {
          "color": "lightgrey",
          "width": 1
         },
         "mode": "lines",
         "showlegend": false,
         "type": "scatter3d",
         "uid": "135d0afc-efe3-4d66-9680-8ffd5ae5bd89",
         "x": [
          -268.9,
          -268.9
         ],
         "y": [
          354.24,
          354.24
         ],
         "z": [
          -1441.93,
          -2453.06
         ]
        },
        {
         "hoverinfo": "skip",
         "line": {
          "color": "lightgrey",
          "width": 1
         },
         "mode": "lines",
         "showlegend": false,
         "type": "scatter3d",
         "uid": "53bec80f-3080-4a60-a5c2-570c04610257",
         "x": [
          -145.45,
          -145.45
         ],
         "y": [
          374.24,
          374.24
         ],
         "z": [
          -1441.93,
          -2453.06
         ]
        },
        {
         "hoverinfo": "skip",
         "line": {
          "color": "lightgrey",
          "width": 1
         },
         "mode": "lines",
         "showlegend": false,
         "type": "scatter3d",
         "uid": "85d29b09-5fe6-4dd9-8bad-3d0ec9a31b1a",
         "x": [
          -21.97,
          -21.97
         ],
         "y": [
          393.24,
          393.24
         ],
         "z": [
          -1441.93,
          -2453.06
         ]
        },
        {
         "hoverinfo": "skip",
         "line": {
          "color": "lightgrey",
          "width": 1
         },
         "mode": "lines",
         "showlegend": false,
         "type": "scatter3d",
         "uid": "0af8f7b6-292e-446f-a487-64a096113c13",
         "x": [
          101.04,
          101.04
         ],
         "y": [
          412.79,
          412.79
         ],
         "z": [
          -1441.93,
          -2453.06
         ]
        },
        {
         "hoverinfo": "skip",
         "line": {
          "color": "lightgrey",
          "width": 1
         },
         "mode": "lines",
         "showlegend": false,
         "type": "scatter3d",
         "uid": "81912f2d-696a-4c93-bc2d-d2b751d3953c",
         "x": [
          224.58,
          224.58
         ],
         "y": [
          432.35,
          432.35
         ],
         "z": [
          -1441.93,
          -2453.06
         ]
        },
        {
         "hoverinfo": "skip",
         "line": {
          "color": "lightgrey",
          "width": 1
         },
         "mode": "lines",
         "showlegend": false,
         "type": "scatter3d",
         "uid": "ac71f8c4-9745-4d8a-98ab-c8235e8c5dd9",
         "x": [
          338.44,
          338.44
         ],
         "y": [
          463.72,
          463.72
         ],
         "z": [
          -1441.93,
          -2453.06
         ]
        },
        {
         "hoverinfo": "skip",
         "line": {
          "color": "lightgrey",
          "width": 1
         },
         "mode": "lines",
         "showlegend": false,
         "type": "scatter3d",
         "uid": "3babe334-2c5f-4944-b123-fc9dcc430fa5",
         "x": [
          -347.88,
          -347.88
         ],
         "y": [
          451.52,
          451.52
         ],
         "z": [
          -1441.93,
          -2453.06
         ]
        },
        {
         "hoverinfo": "skip",
         "line": {
          "color": "lightgrey",
          "width": 1
         },
         "mode": "lines",
         "showlegend": false,
         "type": "scatter3d",
         "uid": "5beaf035-b137-4b1d-9769-51935727df55",
         "x": [
          -224.09,
          -224.09
         ],
         "y": [
          470.86,
          470.86
         ],
         "z": [
          -1441.93,
          -2453.06
         ]
        },
        {
         "hoverinfo": "skip",
         "line": {
          "color": "lightgrey",
          "width": 1
         },
         "mode": "lines",
         "showlegend": false,
         "type": "scatter3d",
         "uid": "826c6e87-2a90-4469-8b2a-c96f9ef846c2",
         "x": [
          -101.06,
          -101.06
         ],
         "y": [
          490.22,
          490.22
         ],
         "z": [
          -1441.93,
          -2453.06
         ]
        },
        {
         "hoverinfo": "skip",
         "line": {
          "color": "lightgrey",
          "width": 1
         },
         "mode": "lines",
         "showlegend": false,
         "type": "scatter3d",
         "uid": "54f20afb-ae92-464d-8ee4-76fb6464c347",
         "x": [
          22.11,
          22.11
         ],
         "y": [
          509.5,
          509.5
         ],
         "z": [
          -1441.93,
          -2453.06
         ]
        },
        {
         "hoverinfo": "skip",
         "line": {
          "color": "lightgrey",
          "width": 1
         },
         "mode": "lines",
         "showlegend": false,
         "type": "scatter3d",
         "uid": "dba5c2b3-931f-46d8-902c-c8cf05536910",
         "x": [
          31.25,
          31.25
         ],
         "y": [
          -72.93,
          -72.93
         ],
         "z": [
          -1441.93,
          -2453.06
         ]
        },
        {
         "hoverinfo": "skip",
         "line": {
          "color": "lightgrey",
          "width": 1
         },
         "mode": "lines",
         "showlegend": false,
         "type": "scatter3d",
         "uid": "17243189-2dc4-47d4-996b-f2a01044445a",
         "x": [
          72.37,
          72.37
         ],
         "y": [
          -66.6,
          -66.6
         ],
         "z": [
          -1441.93,
          -2453.06
         ]
        },
        {
         "hoverinfo": "skip",
         "line": {
          "color": "lightgrey",
          "width": 1
         },
         "mode": "lines",
         "showlegend": false,
         "type": "scatter3d",
         "uid": "6a5fb7c0-ffb9-41ac-9547-403fc44a81b7",
         "x": [
          41.6,
          41.6
         ],
         "y": [
          35.49,
          35.49
         ],
         "z": [
          -1441.93,
          -2453.06
         ]
        },
        {
         "hoverinfo": "skip",
         "line": {
          "color": "lightgrey",
          "width": 1
         },
         "mode": "lines",
         "showlegend": false,
         "type": "scatter3d",
         "uid": "52295a4b-cb0f-47ea-82f6-1a4531c17869",
         "x": [
          106.94,
          106.94
         ],
         "y": [
          27.09,
          27.09
         ],
         "z": [
          -1441.93,
          -2453.06
         ]
        },
        {
         "hoverinfo": "skip",
         "line": {
          "color": "lightgrey",
          "width": 1
         },
         "mode": "lines",
         "showlegend": false,
         "type": "scatter3d",
         "uid": "2b50b247-72aa-4988-8ffd-49c60dd6fd32",
         "x": [
          113.19,
          113.19
         ],
         "y": [
          -60.47,
          -60.47
         ],
         "z": [
          -1441.93,
          -2453.06
         ]
        },
        {
         "hoverinfo": "skip",
         "line": {
          "color": "lightgrey",
          "width": 1
         },
         "mode": "lines",
         "showlegend": false,
         "type": "scatter3d",
         "uid": "ee5a8d0c-5247-4226-936e-e634f834dc2b",
         "x": [
          57.2,
          57.2
         ],
         "y": [
          -105.52,
          -105.52
         ],
         "z": [
          -1441.93,
          -2453.06
         ]
        },
        {
         "hoverinfo": "skip",
         "line": {
          "color": "lightgrey",
          "width": 1
         },
         "mode": "lines",
         "showlegend": false,
         "type": "scatter3d",
         "uid": "deb38c18-89c7-4cd6-866b-43829bf79339",
         "x": [
          -9.68,
          -9.68
         ],
         "y": [
          -79.5,
          -79.5
         ],
         "z": [
          -1441.93,
          -2453.06
         ]
        },
        {
         "hoverinfo": "skip",
         "line": {
          "color": "lightgrey",
          "width": 1
         },
         "mode": "lines",
         "showlegend": false,
         "type": "scatter3d",
         "uid": "e746a926-7761-417a-9a87-6e65b0413301",
         "x": [
          -10.97,
          -10.97
         ],
         "y": [
          6.72,
          6.72
         ],
         "z": [
          -1441.93,
          -2453.06
         ]
        },
        {
         "hoverinfo": "skip",
         "line": {
          "color": "grey",
          "width": 1
         },
         "mode": "lines",
         "showlegend": false,
         "type": "scatter3d",
         "uid": "66c2e8bc-b6c2-4e01-a87f-9260807a8c0e",
         "x": [
          -347.88,
          -570.9,
          -256.14,
          361,
          576.37,
          338.44,
          101.04,
          22.11,
          -347.88
         ],
         "y": [
          451.52,
          -125.14,
          -521.08,
          -422.83,
          170.92,
          463.72,
          412.79,
          509.5,
          451.52
         ],
         "z": [
          -2453.06,
          -2453.06,
          -2453.06,
          -2453.06,
          -2453.06,
          -2453.06,
          -2453.06,
          -2453.06,
          -2453.06,
          -2453.06,
          -2453.06,
          -2453.06,
          -2453.06,
          -2453.06,
          -2453.06,
          -2453.06,
          -2453.06,
          -2453.06,
          -2453.06,
          -2453.06,
          -2453.06,
          -2453.06,
          -2453.06,
          -2453.06,
          -2453.06,
          -2453.06,
          -2453.06,
          -2453.06,
          -2453.06,
          -2453.06,
          -2453.06,
          -2453.06,
          -2453.06,
          -2453.06,
          -2453.06,
          -2453.06,
          -2453.06,
          -2453.06,
          -2453.06,
          -2453.06,
          -2453.06,
          -2453.06,
          -2453.06,
          -2453.06,
          -2453.06,
          -2453.06,
          -2453.06,
          -2453.06,
          -2453.06,
          -2453.06,
          -2453.06,
          -2453.06,
          -2453.06,
          -2453.06,
          -2453.06,
          -2453.06,
          -2453.06,
          -2453.06,
          -2453.06,
          -2453.06,
          -2453.06,
          -2453.06,
          -2453.06,
          -2453.06,
          -2453.06,
          -2453.06,
          -2453.06,
          -2453.06,
          -2453.06,
          -2453.06,
          -2453.06,
          -2453.06,
          -2453.06,
          -2453.06,
          -2453.06,
          -2453.06,
          -2453.06,
          -2453.06,
          -2453.06,
          -2453.06,
          -2453.06,
          -2453.06,
          -2453.06,
          -2453.06,
          -2453.06,
          -2453.06
         ]
        },
        {
         "hoverinfo": "skip",
         "line": {
          "color": "grey",
          "width": 1
         },
         "mode": "lines",
         "showlegend": false,
         "type": "scatter3d",
         "uid": "98113942-db42-41ca-94f8-802b2a90316f",
         "x": [
          -347.88,
          -570.9,
          -256.14,
          361,
          576.37,
          338.44,
          101.04,
          22.11,
          -347.88
         ],
         "y": [
          451.52,
          -125.14,
          -521.08,
          -422.83,
          170.92,
          463.72,
          412.79,
          509.5,
          451.52
         ],
         "z": [
          -1441.93,
          -1441.93,
          -1441.93,
          -1441.93,
          -1441.93,
          -1441.93,
          -1441.93,
          -1441.93,
          -1441.93,
          -1441.93,
          -1441.93,
          -1441.93,
          -1441.93,
          -1441.93,
          -1441.93,
          -1441.93,
          -1441.93,
          -1441.93,
          -1441.93,
          -1441.93,
          -1441.93,
          -1441.93,
          -1441.93,
          -1441.93,
          -1441.93,
          -1441.93,
          -1441.93,
          -1441.93,
          -1441.93,
          -1441.93,
          -1441.93,
          -1441.93,
          -1441.93,
          -1441.93,
          -1441.93,
          -1441.93,
          -1441.93,
          -1441.93,
          -1441.93,
          -1441.93,
          -1441.93,
          -1441.93,
          -1441.93,
          -1441.93,
          -1441.93,
          -1441.93,
          -1441.93,
          -1441.93,
          -1441.93,
          -1441.93,
          -1441.93,
          -1441.93,
          -1441.93,
          -1441.93,
          -1441.93,
          -1441.93,
          -1441.93,
          -1441.93,
          -1441.93,
          -1441.93,
          -1441.93,
          -1441.93,
          -1441.93,
          -1441.93,
          -1441.93,
          -1441.93,
          -1441.93,
          -1441.93,
          -1441.93,
          -1441.93,
          -1441.93,
          -1441.93,
          -1441.93,
          -1441.93,
          -1441.93,
          -1441.93,
          -1441.93,
          -1441.93,
          -1441.93,
          -1441.93,
          -1441.93,
          -1441.93,
          -1441.93,
          -1441.93,
          -1441.93,
          -1441.93
         ]
        },
        {
         "customdata": [
          1843.341309,
          3695.595947,
          810.218872,
          748.699524,
          817.144653,
          806.802979,
          2082.131348,
          1117.433472,
          538.350891,
          299.706787,
          246.850281,
          451.023193,
          887.063538,
          532.887085,
          478.852356,
          380.680634,
          433.504669,
          394.991486,
          373.171997,
          602.193237,
          779.892517,
          629.479492,
          582.53363,
          611.555786,
          477.275696,
          1022.591858,
          616.722473
         ],
         "hoverinfo": [
          "x",
          "y",
          "z",
          "text"
         ],
         "hovertemplate": "x: %{x} m, y: %{y} m, z: %{z} m, t: %{customdata} ns",
         "hovertext": [
          "-1768.67 ns",
          "-1717.61 ns",
          "-1701.83 ns",
          "-1685.01 ns",
          "-1633.94 ns",
          "-1719.87 ns",
          "-1702.85 ns",
          "-1685.83 ns",
          "-1668.81 ns",
          "-1651.78 ns",
          "-1634.76 ns",
          "-1617.74 ns",
          "-1566.68 ns",
          "-1673.53 ns",
          "-1656.50 ns",
          "-1639.48 ns",
          "-1622.46 ns",
          "-1605.44 ns",
          "-1588.42 ns",
          "-1571.40 ns",
          "-1701.04 ns",
          "-1684.02 ns",
          "-1667.00 ns",
          "-1649.97 ns",
          "-1632.95 ns",
          "-1615.93 ns",
          "-1598.91 ns"
         ],
         "marker": {
          "color": [
           1843.341309,
           3695.595947,
           810.218872,
           748.699524,
           817.144653,
           806.802979,
           2082.131348,
           1117.433472,
           538.350891,
           299.706787,
           246.850281,
           451.023193,
           887.063538,
           532.887085,
           478.852356,
           380.680634,
           433.504669,
           394.991486,
           373.171997,
           602.193237,
           779.892517,
           629.479492,
           582.53363,
           611.555786,
           477.275696,
           1022.591858,
           616.722473
          ],
          "colorscale": [
           [
            0,
            "rgb(255,0,0)"
           ],
           [
            0.125,
            "rgb(255,111,0)"
           ],
           [
            0.25,
            "rgb(255,234,0)"
           ],
           [
            0.375,
            "rgb(151,255,0)"
           ],
           [
            0.5,
            "rgb(44,255,150)"
           ],
           [
            0.625,
            "rgb(0,152,255)"
           ],
           [
            0.75,
            "rgb(0,25,255)"
           ],
           [
            0.875,
            "rgb(0,0,200)"
           ],
           [
            1,
            "rgb(150,0,90)"
           ]
          ],
          "size": 4
         },
         "mode": "markers",
         "showlegend": false,
         "type": "scatter3d",
         "uid": "9706ac2b-6daf-4d23-bf52-fedf25473aae",
         "x": [
          -392.38,
          -392.38,
          -189.98,
          -189.98,
          -189.98,
          -111.51,
          -111.51,
          -111.51,
          -111.51,
          -111.51,
          -111.51,
          -111.51,
          -111.51,
          -32.96,
          -32.96,
          -32.96,
          -32.96,
          -32.96,
          -32.96,
          -32.96,
          11.87,
          11.87,
          11.87,
          11.87,
          11.87,
          11.87,
          11.87
         ],
         "y": [
          334.24,
          334.24,
          257.42,
          257.42,
          257.42,
          159.98,
          159.98,
          159.98,
          159.98,
          159.98,
          159.98,
          159.98,
          159.98,
          62.44,
          62.44,
          62.44,
          62.44,
          62.44,
          62.44,
          62.44,
          179.19,
          179.19,
          179.19,
          179.19,
          179.19,
          179.19,
          179.19
         ],
         "z": [
          -1768.67,
          -1717.61,
          -1701.83,
          -1685.01,
          -1633.94,
          -1719.87,
          -1702.85,
          -1685.83,
          -1668.81,
          -1651.78,
          -1634.76,
          -1617.74,
          -1566.68,
          -1673.53,
          -1656.5,
          -1639.48,
          -1622.46,
          -1605.44,
          -1588.42,
          -1571.4,
          -1701.04,
          -1684.02,
          -1667,
          -1649.97,
          -1632.95,
          -1615.93,
          -1598.91
         ]
        },
        {
         "line": {
          "color": "dodgerblue",
          "width": 6
         },
         "mode": "lines",
         "showlegend": false,
         "type": "scatter3d",
         "uid": "0fd1d360-57cd-455c-a24d-a570b357617c",
         "x": [
          -91.19649997593669,
          -61.04281036889089
         ],
         "y": [
          228.2210703141758,
          57.21099865134147
         ],
         "z": [
          -2139.8250834026558,
          -1155.0173303904476
         ]
        },
        {
         "anchor": "center",
         "colorscale": [
          [
           0,
           "dodgerblue"
          ],
          [
           1,
           "dodgerblue"
          ]
         ],
         "showscale": false,
         "sizemode": "absolute",
         "sizeref": 100,
         "type": "cone",
         "u": [
          0.6030737921409159
         ],
         "uid": "6ad479a2-4aa5-4bbd-9681-a5dec2a45ddc",
         "v": [
          -3.4202014332566866
         ],
         "w": [
          19.69615506024416
         ],
         "x": [
          -61.04281036889089
         ],
         "y": [
          57.21099865134147
         ],
         "z": [
          -1155.0173303904476
         ]
        }
       ],
       "layout": {
        "margin": {
         "b": 40,
         "l": 20,
         "r": 20,
         "t": 40
        },
        "scene": {
         "camera": {
          "center": {
           "x": 0,
           "y": 0,
           "z": 0
          },
          "eye": {
           "x": 1.5,
           "y": 1.5,
           "z": 0.1
          },
          "up": {
           "x": 0,
           "y": 0,
           "z": 1
          }
         },
         "xaxis": {
          "backgroundcolor": "whitesmoke",
          "showgrid": false,
          "showspikes": false,
          "showticklabels": false,
          "title": {
           "text": ""
          }
         },
         "yaxis": {
          "backgroundcolor": "whitesmoke",
          "showgrid": false,
          "showspikes": false,
          "showticklabels": false,
          "title": {
           "text": ""
          }
         },
         "zaxis": {
          "backgroundcolor": "whitesmoke",
          "showgrid": false,
          "showspikes": false,
          "showticklabels": false,
          "title": {
           "text": ""
          }
         }
        },
        "template": {
         "data": {
          "bar": [
           {
            "error_x": {
             "color": "#2a3f5f"
            },
            "error_y": {
             "color": "#2a3f5f"
            },
            "marker": {
             "line": {
              "color": "#E5ECF6",
              "width": 0.5
             },
             "pattern": {
              "fillmode": "overlay",
              "size": 10,
              "solidity": 0.2
             }
            },
            "type": "bar"
           }
          ],
          "barpolar": [
           {
            "marker": {
             "line": {
              "color": "#E5ECF6",
              "width": 0.5
             },
             "pattern": {
              "fillmode": "overlay",
              "size": 10,
              "solidity": 0.2
             }
            },
            "type": "barpolar"
           }
          ],
          "carpet": [
           {
            "aaxis": {
             "endlinecolor": "#2a3f5f",
             "gridcolor": "white",
             "linecolor": "white",
             "minorgridcolor": "white",
             "startlinecolor": "#2a3f5f"
            },
            "baxis": {
             "endlinecolor": "#2a3f5f",
             "gridcolor": "white",
             "linecolor": "white",
             "minorgridcolor": "white",
             "startlinecolor": "#2a3f5f"
            },
            "type": "carpet"
           }
          ],
          "choropleth": [
           {
            "colorbar": {
             "outlinewidth": 0,
             "ticks": ""
            },
            "type": "choropleth"
           }
          ],
          "contour": [
           {
            "colorbar": {
             "outlinewidth": 0,
             "ticks": ""
            },
            "colorscale": [
             [
              0,
              "#0d0887"
             ],
             [
              0.1111111111111111,
              "#46039f"
             ],
             [
              0.2222222222222222,
              "#7201a8"
             ],
             [
              0.3333333333333333,
              "#9c179e"
             ],
             [
              0.4444444444444444,
              "#bd3786"
             ],
             [
              0.5555555555555556,
              "#d8576b"
             ],
             [
              0.6666666666666666,
              "#ed7953"
             ],
             [
              0.7777777777777778,
              "#fb9f3a"
             ],
             [
              0.8888888888888888,
              "#fdca26"
             ],
             [
              1,
              "#f0f921"
             ]
            ],
            "type": "contour"
           }
          ],
          "contourcarpet": [
           {
            "colorbar": {
             "outlinewidth": 0,
             "ticks": ""
            },
            "type": "contourcarpet"
           }
          ],
          "heatmap": [
           {
            "colorbar": {
             "outlinewidth": 0,
             "ticks": ""
            },
            "colorscale": [
             [
              0,
              "#0d0887"
             ],
             [
              0.1111111111111111,
              "#46039f"
             ],
             [
              0.2222222222222222,
              "#7201a8"
             ],
             [
              0.3333333333333333,
              "#9c179e"
             ],
             [
              0.4444444444444444,
              "#bd3786"
             ],
             [
              0.5555555555555556,
              "#d8576b"
             ],
             [
              0.6666666666666666,
              "#ed7953"
             ],
             [
              0.7777777777777778,
              "#fb9f3a"
             ],
             [
              0.8888888888888888,
              "#fdca26"
             ],
             [
              1,
              "#f0f921"
             ]
            ],
            "type": "heatmap"
           }
          ],
          "heatmapgl": [
           {
            "colorbar": {
             "outlinewidth": 0,
             "ticks": ""
            },
            "colorscale": [
             [
              0,
              "#0d0887"
             ],
             [
              0.1111111111111111,
              "#46039f"
             ],
             [
              0.2222222222222222,
              "#7201a8"
             ],
             [
              0.3333333333333333,
              "#9c179e"
             ],
             [
              0.4444444444444444,
              "#bd3786"
             ],
             [
              0.5555555555555556,
              "#d8576b"
             ],
             [
              0.6666666666666666,
              "#ed7953"
             ],
             [
              0.7777777777777778,
              "#fb9f3a"
             ],
             [
              0.8888888888888888,
              "#fdca26"
             ],
             [
              1,
              "#f0f921"
             ]
            ],
            "type": "heatmapgl"
           }
          ],
          "histogram": [
           {
            "marker": {
             "pattern": {
              "fillmode": "overlay",
              "size": 10,
              "solidity": 0.2
             }
            },
            "type": "histogram"
           }
          ],
          "histogram2d": [
           {
            "colorbar": {
             "outlinewidth": 0,
             "ticks": ""
            },
            "colorscale": [
             [
              0,
              "#0d0887"
             ],
             [
              0.1111111111111111,
              "#46039f"
             ],
             [
              0.2222222222222222,
              "#7201a8"
             ],
             [
              0.3333333333333333,
              "#9c179e"
             ],
             [
              0.4444444444444444,
              "#bd3786"
             ],
             [
              0.5555555555555556,
              "#d8576b"
             ],
             [
              0.6666666666666666,
              "#ed7953"
             ],
             [
              0.7777777777777778,
              "#fb9f3a"
             ],
             [
              0.8888888888888888,
              "#fdca26"
             ],
             [
              1,
              "#f0f921"
             ]
            ],
            "type": "histogram2d"
           }
          ],
          "histogram2dcontour": [
           {
            "colorbar": {
             "outlinewidth": 0,
             "ticks": ""
            },
            "colorscale": [
             [
              0,
              "#0d0887"
             ],
             [
              0.1111111111111111,
              "#46039f"
             ],
             [
              0.2222222222222222,
              "#7201a8"
             ],
             [
              0.3333333333333333,
              "#9c179e"
             ],
             [
              0.4444444444444444,
              "#bd3786"
             ],
             [
              0.5555555555555556,
              "#d8576b"
             ],
             [
              0.6666666666666666,
              "#ed7953"
             ],
             [
              0.7777777777777778,
              "#fb9f3a"
             ],
             [
              0.8888888888888888,
              "#fdca26"
             ],
             [
              1,
              "#f0f921"
             ]
            ],
            "type": "histogram2dcontour"
           }
          ],
          "mesh3d": [
           {
            "colorbar": {
             "outlinewidth": 0,
             "ticks": ""
            },
            "type": "mesh3d"
           }
          ],
          "parcoords": [
           {
            "line": {
             "colorbar": {
              "outlinewidth": 0,
              "ticks": ""
             }
            },
            "type": "parcoords"
           }
          ],
          "pie": [
           {
            "automargin": true,
            "type": "pie"
           }
          ],
          "scatter": [
           {
            "fillpattern": {
             "fillmode": "overlay",
             "size": 10,
             "solidity": 0.2
            },
            "type": "scatter"
           }
          ],
          "scatter3d": [
           {
            "line": {
             "colorbar": {
              "outlinewidth": 0,
              "ticks": ""
             }
            },
            "marker": {
             "colorbar": {
              "outlinewidth": 0,
              "ticks": ""
             }
            },
            "type": "scatter3d"
           }
          ],
          "scattercarpet": [
           {
            "marker": {
             "colorbar": {
              "outlinewidth": 0,
              "ticks": ""
             }
            },
            "type": "scattercarpet"
           }
          ],
          "scattergeo": [
           {
            "marker": {
             "colorbar": {
              "outlinewidth": 0,
              "ticks": ""
             }
            },
            "type": "scattergeo"
           }
          ],
          "scattergl": [
           {
            "marker": {
             "colorbar": {
              "outlinewidth": 0,
              "ticks": ""
             }
            },
            "type": "scattergl"
           }
          ],
          "scattermapbox": [
           {
            "marker": {
             "colorbar": {
              "outlinewidth": 0,
              "ticks": ""
             }
            },
            "type": "scattermapbox"
           }
          ],
          "scatterpolar": [
           {
            "marker": {
             "colorbar": {
              "outlinewidth": 0,
              "ticks": ""
             }
            },
            "type": "scatterpolar"
           }
          ],
          "scatterpolargl": [
           {
            "marker": {
             "colorbar": {
              "outlinewidth": 0,
              "ticks": ""
             }
            },
            "type": "scatterpolargl"
           }
          ],
          "scatterternary": [
           {
            "marker": {
             "colorbar": {
              "outlinewidth": 0,
              "ticks": ""
             }
            },
            "type": "scatterternary"
           }
          ],
          "surface": [
           {
            "colorbar": {
             "outlinewidth": 0,
             "ticks": ""
            },
            "colorscale": [
             [
              0,
              "#0d0887"
             ],
             [
              0.1111111111111111,
              "#46039f"
             ],
             [
              0.2222222222222222,
              "#7201a8"
             ],
             [
              0.3333333333333333,
              "#9c179e"
             ],
             [
              0.4444444444444444,
              "#bd3786"
             ],
             [
              0.5555555555555556,
              "#d8576b"
             ],
             [
              0.6666666666666666,
              "#ed7953"
             ],
             [
              0.7777777777777778,
              "#fb9f3a"
             ],
             [
              0.8888888888888888,
              "#fdca26"
             ],
             [
              1,
              "#f0f921"
             ]
            ],
            "type": "surface"
           }
          ],
          "table": [
           {
            "cells": {
             "fill": {
              "color": "#EBF0F8"
             },
             "line": {
              "color": "white"
             }
            },
            "header": {
             "fill": {
              "color": "#C8D4E3"
             },
             "line": {
              "color": "white"
             }
            },
            "type": "table"
           }
          ]
         },
         "layout": {
          "annotationdefaults": {
           "arrowcolor": "#2a3f5f",
           "arrowhead": 0,
           "arrowwidth": 1
          },
          "autotypenumbers": "strict",
          "coloraxis": {
           "colorbar": {
            "outlinewidth": 0,
            "ticks": ""
           }
          },
          "colorscale": {
           "diverging": [
            [
             0,
             "#8e0152"
            ],
            [
             0.1,
             "#c51b7d"
            ],
            [
             0.2,
             "#de77ae"
            ],
            [
             0.3,
             "#f1b6da"
            ],
            [
             0.4,
             "#fde0ef"
            ],
            [
             0.5,
             "#f7f7f7"
            ],
            [
             0.6,
             "#e6f5d0"
            ],
            [
             0.7,
             "#b8e186"
            ],
            [
             0.8,
             "#7fbc41"
            ],
            [
             0.9,
             "#4d9221"
            ],
            [
             1,
             "#276419"
            ]
           ],
           "sequential": [
            [
             0,
             "#0d0887"
            ],
            [
             0.1111111111111111,
             "#46039f"
            ],
            [
             0.2222222222222222,
             "#7201a8"
            ],
            [
             0.3333333333333333,
             "#9c179e"
            ],
            [
             0.4444444444444444,
             "#bd3786"
            ],
            [
             0.5555555555555556,
             "#d8576b"
            ],
            [
             0.6666666666666666,
             "#ed7953"
            ],
            [
             0.7777777777777778,
             "#fb9f3a"
            ],
            [
             0.8888888888888888,
             "#fdca26"
            ],
            [
             1,
             "#f0f921"
            ]
           ],
           "sequentialminus": [
            [
             0,
             "#0d0887"
            ],
            [
             0.1111111111111111,
             "#46039f"
            ],
            [
             0.2222222222222222,
             "#7201a8"
            ],
            [
             0.3333333333333333,
             "#9c179e"
            ],
            [
             0.4444444444444444,
             "#bd3786"
            ],
            [
             0.5555555555555556,
             "#d8576b"
            ],
            [
             0.6666666666666666,
             "#ed7953"
            ],
            [
             0.7777777777777778,
             "#fb9f3a"
            ],
            [
             0.8888888888888888,
             "#fdca26"
            ],
            [
             1,
             "#f0f921"
            ]
           ]
          },
          "colorway": [
           "#636efa",
           "#EF553B",
           "#00cc96",
           "#ab63fa",
           "#FFA15A",
           "#19d3f3",
           "#FF6692",
           "#B6E880",
           "#FF97FF",
           "#FECB52"
          ],
          "font": {
           "color": "#2a3f5f"
          },
          "geo": {
           "bgcolor": "white",
           "lakecolor": "white",
           "landcolor": "#E5ECF6",
           "showlakes": true,
           "showland": true,
           "subunitcolor": "white"
          },
          "hoverlabel": {
           "align": "left"
          },
          "hovermode": "closest",
          "mapbox": {
           "style": "light"
          },
          "paper_bgcolor": "white",
          "plot_bgcolor": "#E5ECF6",
          "polar": {
           "angularaxis": {
            "gridcolor": "white",
            "linecolor": "white",
            "ticks": ""
           },
           "bgcolor": "#E5ECF6",
           "radialaxis": {
            "gridcolor": "white",
            "linecolor": "white",
            "ticks": ""
           }
          },
          "scene": {
           "xaxis": {
            "backgroundcolor": "#E5ECF6",
            "gridcolor": "white",
            "gridwidth": 2,
            "linecolor": "white",
            "showbackground": true,
            "ticks": "",
            "zerolinecolor": "white"
           },
           "yaxis": {
            "backgroundcolor": "#E5ECF6",
            "gridcolor": "white",
            "gridwidth": 2,
            "linecolor": "white",
            "showbackground": true,
            "ticks": "",
            "zerolinecolor": "white"
           },
           "zaxis": {
            "backgroundcolor": "#E5ECF6",
            "gridcolor": "white",
            "gridwidth": 2,
            "linecolor": "white",
            "showbackground": true,
            "ticks": "",
            "zerolinecolor": "white"
           }
          },
          "shapedefaults": {
           "line": {
            "color": "#2a3f5f"
           }
          },
          "ternary": {
           "aaxis": {
            "gridcolor": "white",
            "linecolor": "white",
            "ticks": ""
           },
           "baxis": {
            "gridcolor": "white",
            "linecolor": "white",
            "ticks": ""
           },
           "bgcolor": "#E5ECF6",
           "caxis": {
            "gridcolor": "white",
            "linecolor": "white",
            "ticks": ""
           }
          },
          "title": {
           "x": 0.05
          },
          "xaxis": {
           "automargin": true,
           "gridcolor": "white",
           "linecolor": "white",
           "ticks": "",
           "title": {
            "standoff": 15
           },
           "zerolinecolor": "white",
           "zerolinewidth": 2
          },
          "yaxis": {
           "automargin": true,
           "gridcolor": "white",
           "linecolor": "white",
           "ticks": "",
           "title": {
            "standoff": 15
           },
           "zerolinecolor": "white",
           "zerolinewidth": 2
          }
         }
        }
       }
      }
     },
     "metadata": {},
     "output_type": "display_data"
    }
   ],
   "source": [
    "# adjust these!\n",
    "azi = np.deg2rad( 100 )\n",
    "zen = np.deg2rad( -10 )\n",
    "\n",
    "# we compute the direction and the pivot point:\n",
    "pivot_pt = calc_center_of_gravity( evt.hits_xyz )\n",
    "\n",
    "# and we can then compute the perpendicular distance between the line and each hit, and take the mean. \n",
    "mean_dist = calc_mean_perpendicular_distance( \n",
    "    np.array( [azi, zen] ),\n",
    "    evt.hits_xyz, \n",
    "    pivot_pt\n",
    ")\n",
    "\n",
    "# let's print it!\n",
    "print( f\"the mean distance is {mean_dist:.2f} meters \\n\" )\n",
    "\n",
    "# and make a plot:\n",
    "dir_vec = get_direction_vector_from_angles( azi, zen )\n",
    "\n",
    "fig = go.FigureWidget( data=plot_det, layout=layout )\n",
    "plot_evt = plot_first_hits( evt )\n",
    "fig.add_trace( plot_evt )\n",
    "fig.add_traces( plot_direction( dir_vec, pivot_pt, color=\"dodgerblue\" ) )\n",
    "fig.show()"
   ]
  },
  {
   "cell_type": "markdown",
   "metadata": {},
   "source": [
    "Just like you *minimized* the mean perpendicular distance by adjusting the zenith and azimuth values, a computer can minimize it using a minimization algorithm. Such algorithms define a procedure by which the computer repeatedly guesses some parameter (zenith and azimuth) values, evaluates the goodness of the guess (computes the mean distance), and then makes a new guess, over and over until some stopping condition (a condition that indicates that we think we've found the minimum).\n",
    "\n",
    "The python `scipy` library, for scientific programming, offers many different minimization algorithms in its `scipy.optimize` module. Let's try using one! "
   ]
  },
  {
   "cell_type": "code",
   "execution_count": null,
   "metadata": {},
   "outputs": [],
   "source": [
    "from scipy.optimize import minimize"
   ]
  },
  {
   "cell_type": "markdown",
   "metadata": {},
   "source": [
    "\n",
    "The `minimize` function takes in two inputs: \n",
    "- the first input is a function f whose input is a list of the parameters you want to minimize\n",
    "- the second input is your initial guess for those parameters."
   ]
  },
  {
   "cell_type": "code",
   "execution_count": 1,
   "metadata": {},
   "outputs": [],
   "source": [
    "def function_to_minimize( dir_angles ):\n",
    "    return calc_mean_perpendicular_distance( dir_angles, evt.hits_xyz, pivot_pt )\n",
    "\n",
    "\n",
    "def make_initial_guess_for_angles( evt ):\n",
    "\n",
    "    # initial_guess_azi = np.deg2rad( -10 )\n",
    "    # initial_guess_zen = np.deg2rad( 180 )\n",
    "    # return np.array( [initial_guess_azi, initial_guess_zen] )\n",
    "    \n",
    "    j0, j1 = np.argmin( evt.hits_t ), np.argmax( evt.hits_t )\n",
    "    initial_guess = get_direction_angles_from_vector(\n",
    "        normalize( evt.hits_xyz[j1, :] - evt.hits_xyz[j0, :] )\n",
    "    )\n",
    "    return initial_guess"
   ]
  },
  {
   "cell_type": "code",
   "execution_count": null,
   "metadata": {},
   "outputs": [],
   "source": [
    "# let's run the minimization!\n",
    "minimization_output = minimize(\n",
    "    function_to_minimize,\n",
    "    make_initial_guess_for_angles( evt ),\n",
    ")\n",
    "\n",
    "best_guess_azi, best_guess_zen = minimization_output.x\n",
    "smallest_distance = minimization_output.fun\n",
    "\n",
    "# let's print the output: \n",
    "print( \"The angles with the smallest perpendicular distance are:\" )\n",
    "print( f\"azi = {np.rad2deg(best_guess_azi):.2f} degrees\")\n",
    "print( f\"zen = {np.rad2deg(best_guess_zen):.2f} degrees\")\n",
    "print( \"For these angles, the mean perpendicular distance is: \\n\")\n",
    "print( f\"\\t {smallest_distance:.2f} meters\")\n",
    "\n",
    "# and let's plot the direction angle! \n",
    "dir_vec = get_direction_vector_from_angles( best_guess_azi, best_guess_zen )\n",
    "\n",
    "fig = go.FigureWidget(data=plot_det, layout=layout)\n",
    "plot_evt = plot_first_hits( evt )\n",
    "fig.add_trace( plot_evt )\n",
    "fig.add_traces( plot_direction( dir_vec, pivot_pt, color=\"hotpink\" ) )\n",
    "fig.show()"
   ]
  },
  {
   "cell_type": "markdown",
   "metadata": {},
   "source": [
    "<!-- Take a look at the plotted arrow. Is it going in the right direction?  -->\n",
    "\n",
    "Let's also check the performance of our computer against the true answer.\n",
    "\n",
    "(We can do this for these events because they are all simulated, so we know their true properties. If we were doing this with a real event from data collected by IceCube, we would not have any way of knowing this real right answer. This is why simulation is so important -- it gives us a way of checking how good we are at guessing the true quantities. )"
   ]
  },
  {
   "cell_type": "code",
   "execution_count": null,
   "metadata": {},
   "outputs": [],
   "source": [
    "true_dir_vec = get_direction_vector_from_angles( \n",
    "    evt.true_muon_azimuth, \n",
    "    evt.true_muon_zenith )\n",
    "\n",
    "fig.add_traces( plot_direction( true_dir_vec, pivot_pt, color=\"black\" ) )\n",
    "fig.show()"
   ]
  },
  {
   "cell_type": "markdown",
   "metadata": {},
   "source": [
    "## 4. How can we quantify the quality of our \"reconstructed\" directions?"
   ]
  },
  {
   "cell_type": "markdown",
   "metadata": {},
   "source": [
    "Let's say we have more than one method to determine the direction of an event. How can we decide which one is better? \n",
    "\n",
    "If you haven't yet, go back to step 3. and try changing which event you figure out the direction for. \n",
    "- Are there any kinds of events which are easier / harder for you to guess? \n",
    "- Are there any kinds of events which are easier / harder for the computer algorithm to reconstruct? "
   ]
  },
  {
   "cell_type": "markdown",
   "metadata": {},
   "source": [
    "As you may see, how well we do at figuring out the direction varies a lot between different events. If we want to pick the best method, we need to look at how well it does for many different events.\n",
    "\n",
    "Let's start by using the computer algorithm to reconstruct the directions of many events. To do this fast, we'll use the code from above to write a function whose input is an event and whose output is the best guess direction. "
   ]
  },
  {
   "cell_type": "code",
   "execution_count": null,
   "metadata": {},
   "outputs": [],
   "source": [
    "def find_best_dir( evt ):\n",
    "\n",
    "    pivot_pt = calc_center_of_gravity( evt )\n",
    "    \n",
    "    # you can define functions inside of other functions!\n",
    "    def function_to_minimize( dir_angles ):\n",
    "        return calc_mean_perpendicular_distance( dir_angles, evt.hits_xyz, pivot_pt )\n",
    "\n",
    "    initial_guess = make_initial_guess_for_angles( evt )\n",
    "\n",
    "    out = minimize( \n",
    "        function_to_minimize,\n",
    "        initial_guess, \n",
    "        method='Nelder-Mead'\n",
    "    )\n",
    "\n",
    "    best_azi, best_zen = out.x\n",
    "\n",
    "    # # these functions just make sure that the \n",
    "    # best_azi = bound_azi( best_azi )\n",
    "    # best_zen = bound_zen( best_zen )\n",
    "\n",
    "    return np.array([best_azi, best_zen])\n"
   ]
  },
  {
   "cell_type": "markdown",
   "metadata": {},
   "source": [
    "Let's use this function to reconstruct the directions of a bunch of events. "
   ]
  },
  {
   "cell_type": "code",
   "execution_count": null,
   "metadata": {},
   "outputs": [],
   "source": [
    "# change this number to adjust how many events you want to use! \n",
    "N = 100\n",
    "\n",
    "# we create empty arrays to hold the reconstructed angles.\n",
    "reco_azi = np.empty( N )\n",
    "reco_zen = np.empty( N )\n",
    "\n",
    "# let's also save the true angles. \n",
    "true_azi = np.empty( N )\n",
    "true_zen = np.empty( N )\n",
    "\n",
    "# now we iterate over all the events...\n",
    "for evt_num in range(N):\n",
    "    \n",
    "    evt = tracks[evt_num]\n",
    "    reco_azi[evt_num], reco_zen[evt_num] = find_best_dir( evt )\n",
    "\n",
    "    true_azi[evt_num] = evt.true_muon_azimuth\n",
    "    true_zen[evt_num] = evt.true_muon_zenith\n"
   ]
  },
  {
   "cell_type": "markdown",
   "metadata": {},
   "source": [
    "The first thing we can do is to check the average differences. First we'll write some functions to calculate the difference between two azimuths or two zeniths. "
   ]
  },
  {
   "cell_type": "code",
   "execution_count": null,
   "metadata": {},
   "outputs": [],
   "source": [
    "def calc_zenith_diff( zen_1, zen_2 ):\n",
    "  return np.abs( zen_1 - zen_2 )\n",
    "\n",
    "def calc_azimuth_diff( azi_1, azi_2 ):\n",
    "\n",
    "  # this is a little trickier, because 0° and 360° (or, in radians, 0 and 2pi) mean the same thing!\n",
    "  # we need to remember that the biggest possible difference between two angles is 180° (pi radians).\n",
    "  \n",
    "  abs_diff =  np.abs( azi_1 - azi_2 )\n",
    "  return np.minimum( abs_diff, 2*np.pi - abs_diff )"
   ]
  },
  {
   "cell_type": "code",
   "execution_count": null,
   "metadata": {},
   "outputs": [],
   "source": [
    "# now we can iterate over all our events and compute the differences!\n",
    "# diff_azi = np.empty( N )\n",
    "# diff_zen = np.empty( N )\n",
    "\n",
    "# for evt_num in range(N):\n",
    "#     diff_azi[evt_num] = calc_azimuth_diff( true_azi[evt_num], reco_azi[evt_num] )\n",
    "#     diff_zen[evt_num] = calc_zenith_diff( true_zen[evt_num], reco_zen[evt_num] )\n",
    "\n",
    "\n",
    "diff_azi = calc_azimuth_diff( true_azi, reco_azi )\n",
    "diff_zen = calc_azimuth_diff( true_zen, reco_zen )\n",
    "\n",
    "print(\"the average difference between \\n\")\n",
    "print(f\"\\t the true and reconstructed azimuth angles is {np.rad2deg(diff_azi).mean():.2f}°\" )\n",
    "print(f\"\\t the true and reconstructed zenith angles is {np.rad2deg(diff_zen).mean():.2f}°\" )"
   ]
  },
  {
   "cell_type": "markdown",
   "metadata": {},
   "source": [
    "Are these what you expected?"
   ]
  },
  {
   "cell_type": "markdown",
   "metadata": {},
   "source": [
    "We can investigate more closely by making what is called a histogram. A histogram essentially counts how many items in a collection have values that fall in different bins. \n",
    "\n",
    "For example, a histogram of the *differences between the true and reco zenith angles* for many events might say that there were 10 events for which the difference was less than 10°, 30 for which it was between 10° and 20°, 5 for which it was between 20° and 30°, ..."
   ]
  }
 ],
 "metadata": {
  "kernelspec": {
   "display_name": "Python 3",
   "language": "python",
   "name": "python3"
  },
  "language_info": {
   "codemirror_mode": {
    "name": "ipython",
    "version": 3
   },
   "file_extension": ".py",
   "mimetype": "text/x-python",
   "name": "python",
   "nbconvert_exporter": "python",
   "pygments_lexer": "ipython3",
   "version": "3.10.6"
  }
 },
 "nbformat": 4,
 "nbformat_minor": 2
}
