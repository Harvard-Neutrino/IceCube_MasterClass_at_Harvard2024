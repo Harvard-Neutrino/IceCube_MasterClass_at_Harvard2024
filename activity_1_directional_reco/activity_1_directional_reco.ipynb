{
 "cells": [
  {
   "cell_type": "markdown",
   "metadata": {},
   "source": [
    "The IceCube Neutrino Observatory is composed of many light detectors, called \"DOMs\" (digital optical modules), buried two kilometers deep below the surface of the South Pole. \n",
    "\n",
    "These light detectors are arranged in a roughly three dimensional grid: there are many \"strings\" hanging vertically downwards in the ice, and on each string there are many DOMs: "
   ]
  },
  {
   "cell_type": "markdown",
   "metadata": {},
   "source": [
    "When a high energy charged particle passes through the ice, it produces what is called Cherenkov light, which can then be detected by the many DOMs.\n",
    "\n",
    "The locations of the DOMs that see light, the times at which they saw light, and the amount of light they see all communicate information about this charged particle.\n",
    "\n",
    "As physicists, what we want to do is work backwards: if what we have is this information about the light seen by the detector, what can we figure out about the original particle? "
   ]
  },
  {
   "cell_type": "markdown",
   "metadata": {},
   "source": []
  }
 ],
 "metadata": {
  "language_info": {
   "name": "python"
  }
 },
 "nbformat": 4,
 "nbformat_minor": 2
}
