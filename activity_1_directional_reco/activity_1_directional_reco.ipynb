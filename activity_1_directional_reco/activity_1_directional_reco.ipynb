{
 "cells": [
  {
   "cell_type": "markdown",
   "metadata": {},
   "source": [
    "## Introduction:"
   ]
  },
  {
   "cell_type": "markdown",
   "metadata": {},
   "source": [
    "The IceCube Neutrino Observatory is composed of many light detectors, called \"DOMs\" (digital optical modules), buried two kilometers deep below the surface of the South Pole. These light detectors are arranged in a roughly three dimensional grid: there are many \"strings\" hanging vertically downwards in the ice, and on each string there are many DOMs: \n",
    "\n",
    "![](../resources/images/I3det_v2_edited.jpeg)\n",
    "\n",
    "When a high energy charged particle passes through the ice, it produces what is called Cherenkov light, which can then be detected by the many DOMs. The **locations** of the DOMs that see light, the **times** at which they saw light, and the **amount** of light they see all communicate information about this charged particle."
   ]
  },
  {
   "cell_type": "markdown",
   "metadata": {},
   "source": [
    "As experimentalists, what we want to do is work backwards: if what we have is this information about the light seen by the detector, what can we figure out about the original particle? "
   ]
  },
  {
   "cell_type": "markdown",
   "metadata": {},
   "source": [
    "## 1: Visualizing events:"
   ]
  },
  {
   "cell_type": "markdown",
   "metadata": {},
   "source": [
    "For this activity, we've prepared a simulation of many events within the IceCube detector. Execute the cell below by clicking the triangle or hitting `shift return` to download the simulation from google drive."
   ]
  },
  {
   "cell_type": "code",
   "execution_count": null,
   "metadata": {},
   "outputs": [],
   "source": [
    "# needed for figures to appear in colab \n",
    "from google.colab import output\n",
    "output.enable_custom_widget_manager()\n",
    "# from IPython.display import display, clear_output\n",
    "\n",
    "!rm -rf sample_data\n",
    "\n",
    "# download tracks.parquet\n",
    "!gdown 1nqffw6xHLdX2oO8d-5xjExYZryo7rp3x\n",
    "\n",
    "# download cascades.parquet\n",
    "!gdown 1yo3jD0a9xB2FfIXJJuMRc71IMe6nztvq\n",
    "\n",
    "# download pre-prepared analysis code\n",
    "!rm -rf IceCube_MasterClass_at_Harvard2024\n",
    "!git clone \"https://github.com/kcarloni/IceCube_MasterClass_at_Harvard2024\";\n",
    "\n",
    "import sys\n",
    "sys.path.insert(0, \"./IceCube_MasterClass_at_Harvard2024/\")"
   ]
  },
  {
   "cell_type": "code",
   "execution_count": null,
   "metadata": {},
   "outputs": [],
   "source": [
    "from src.event_reader import EventSelection, Event\n",
    "tracks = EventSelection(\"tracks.parquet\")"
   ]
  },
  {
   "cell_type": "markdown",
   "metadata": {},
   "source": [
    "Let's look at an 'event' in the detector. An event is just a bunch of 'hits', ie. instances in which light hit different sensors, which are grouped together because they all occured within the same time window."
   ]
  },
  {
   "cell_type": "code",
   "execution_count": null,
   "metadata": {},
   "outputs": [],
   "source": [
    "evt_num = 24\n",
    "evt = tracks[evt_num]\n",
    "evt"
   ]
  },
  {
   "cell_type": "markdown",
   "metadata": {},
   "source": [
    "We can visualize an event within the detector by plotting it.  "
   ]
  },
  {
   "cell_type": "code",
   "execution_count": null,
   "metadata": {},
   "outputs": [],
   "source": [
    "import plotly.graph_objs as go\n",
    "from src.plot_event import *\n",
    "\n",
    "layout = get_3d_layout()\n",
    "plot_det = plot_I3det()\n",
    "\n",
    "fig = go.FigureWidget(data=plot_det, layout=layout)\n",
    "\n",
    "plot_evt = plot_first_hits(evt)\n",
    "fig.add_trace(plot_evt)\n",
    "\n",
    "fig.show()"
   ]
  },
  {
   "cell_type": "markdown",
   "metadata": {},
   "source": [
    "## 2: From what direction did the neutrino come from? "
   ]
  },
  {
   "cell_type": "markdown",
   "metadata": {},
   "source": [
    "In the event displays we've just looked at, redder hits occur earlier and greener hits occur after. Given this information, can you figure out in what direction the neutrino was going?\n",
    "\n",
    "We've written a game below to see how well you can do. Execute the cell below (`shift return`) to start the game. \n",
    "\n",
    "You should see a similar event display, along with a big arrow, which represents your guess for the direction of the neutrino. Adjust this arrow using the zenith and azimuth angle sliders provided. Once you are happy with your guess, hit the submit button below the event display. The event display will be refreshed to show the actual true path of the neutrino, and how many degrees you were off the actual path will be printed below. Try to be as close as possible to the actual path, and minimize the degrees you were off by!\n",
    "\n",
    "After submitting a guess, you can return to the game by clicking the Return button. You can then try to guess again on the same event, or try your hand at a different one by opening the event_id dropdown menu and selecting a different one."
   ]
  },
  {
   "cell_type": "markdown",
   "metadata": {},
   "source": [
    "WIP: Felix's directional reconstruction game. "
   ]
  },
  {
   "cell_type": "code",
   "execution_count": null,
   "metadata": {},
   "outputs": [],
   "source": [
    "!pip install \"analysis @ git+https://github.com/jlazar17/IceCube_Masterclass_MoonShadow\";\n",
    "\n",
    "from analysis import DataReader\n",
    "from analysis import reco_game\n",
    "\n",
    "tracks = DataReader(\"tracks.parquet\")"
   ]
  },
  {
   "cell_type": "code",
   "execution_count": null,
   "metadata": {},
   "outputs": [],
   "source": [
    "reco_game(tracks)"
   ]
  },
  {
   "cell_type": "markdown",
   "metadata": {},
   "source": [
    "As we discussed earlier today, IceCube can see two broad kinds of events, *tracks*, which look like long lines and are produced by the light from *muons*, and *cascades*, which look like spherical blobs and are produced by the light from *electrons* (and some other particles). \n",
    "\n",
    "We just tried to reconstruct the direction of some track events. Do you think it would be easier or harder to reconstruct the direction of some cascade events? \n",
    "\n",
    "Give it a try!"
   ]
  },
  {
   "cell_type": "code",
   "execution_count": null,
   "metadata": {},
   "outputs": [],
   "source": [
    "cascades = DataReader(\"cascades.parquet\")\n",
    "reco_game(cascades)"
   ]
  },
  {
   "cell_type": "markdown",
   "metadata": {},
   "source": [
    "## 3: Can we use computers to do a better job at figuring out the direction?"
   ]
  },
  {
   "cell_type": "markdown",
   "metadata": {},
   "source": [
    "When we try to figure out the direction in the game below, what we're actually doing is trying to get the direction arrow to go as close to through the middle of all the hits as possible.\n",
    "\n",
    "We can quantify this sense of \"how good\" with some math! Imagine drawing straight lines from each hit to the arrow, like in the image below:\n",
    "\n",
    "the more of these lines are shorter, the better our guess of the direction. We can calculate the length of each line using some *vector* math:\n",
    "\n",
    "We can also write a *function* in python to do this calculation for us! Just like in math, this *function* takes in some inputs (the direction vector and the hit) and produces one output (the perpendicular distance). "
   ]
  },
  {
   "cell_type": "code",
   "execution_count": null,
   "metadata": {},
   "outputs": [],
   "source": [
    "def calc_perpendicular_distance( hit_pt, dir_vec, pivot_pt ):\n",
    "    \n",
    "    dist_vec = hit_pt - pivot_pt\n",
    "    return np.sqrt( np.dot( dist_vec, dist_vec ) -  np.dot( dist_vec, dir_vec )**2 )\n",
    "\n",
    "\n",
    "def get_direction_vector_from_angles( azi, zen ):\n",
    "    \n",
    "    return np.array([\n",
    "        np.cos(azi) * np.sin(zen),\n",
    "        np.sin(azi) * np.sin(zen),\n",
    "        np.cos(zen)\n",
    "    ])\n",
    "\n",
    "def calc_center_of_gravity(evt):\n",
    "    \n",
    "    hits = evt.hits[[\"t\", \"sensor_pos_x\", \"sensor_pos_y\", \"sensor_pos_z\"]].to_numpy()\n",
    "    return hits.mean(axis=0)[1:4]"
   ]
  },
  {
   "cell_type": "markdown",
   "metadata": {},
   "source": [
    "Let's check that bad guesses really result in a larger *mean*, or average, perpendicular distance. Adjust the values of the zenith `zen` and azimuth `azi` angles below and see how the mean distance changes. We'll also plot the direction vector again for a visual check on the 'goodness' of the guess.\n",
    "\n",
    "Does the mean distance calculation help you refine your guess more easily? "
   ]
  },
  {
   "cell_type": "code",
   "execution_count": null,
   "metadata": {},
   "outputs": [],
   "source": [
    "# adjust these!\n",
    "zen = np.deg2rad( -10 )\n",
    "azi = np.deg2rad( 100 )\n",
    "\n",
    "# we compute the direction and the pivot point:\n",
    "dir_vec = get_direction_vector_from_angles( azi, zen )\n",
    "pivot_pt = calc_center_of_gravity(evt)\n",
    "\n",
    "# and we can then compute the perpendicular distance between the line and each hit, and take the mean. \n",
    "hit_pts = evt.hits[ [\"sensor_pos_x\", \"sensor_pos_y\", \"sensor_pos_z\"] ].to_numpy()\n",
    "mean_dist = np.mean([\n",
    "    calc_perpendicular_distance( hit, dir_vec, pivot_pt ) for hit in hit_pts \n",
    "])\n",
    "\n",
    "# let's print it!\n",
    "print( f\"the mean distance is {mean_dist:.2f} meters \\n\" )\n",
    "\n",
    "# and make a plot:\n",
    "fig_with_arrow = go.FigureWidget( fig )\n",
    "fig_with_arrow.add_traces( plot_direction( dir_vec, pivot_pt, color=\"dodgerblue\" ) )\n",
    "fig_with_arrow.show()"
   ]
  },
  {
   "cell_type": "markdown",
   "metadata": {},
   "source": [
    "Just like you *minimized* the mean perpendicular distance by adjusting the zenith and azimuth values, a computer can minimize it using a minimization algorithm. Such algorithms define a procedure by which the computer repeatedly guesses some parameter (zenith and azimuth) values, evaluates the goodness of the guess (computes the mean distance), and then makes a new guess, over and over until some stopping condition (a condition that indicates that we think we've found the minimum).\n",
    "\n",
    "The python `scipy` library, for scientific programming, offers many different minimization algorithms in its `scipy.optimize` module. Let's try using one! "
   ]
  },
  {
   "cell_type": "code",
   "execution_count": null,
   "metadata": {},
   "outputs": [],
   "source": [
    "from scipy.optimize import minimize"
   ]
  },
  {
   "cell_type": "markdown",
   "metadata": {},
   "source": [
    "\n",
    "The `minimize` function takes in two inputs: \n",
    "- the first input is a function f whose input is a list of the parameters you want to minimize\n",
    "- the second input is your initial guess for those parameters."
   ]
  },
  {
   "cell_type": "code",
   "execution_count": null,
   "metadata": {},
   "outputs": [],
   "source": [
    "def calc_mean_perpendicular_distance( dir_angles, hit_pts, pivot_pt ):\n",
    "\n",
    "    dir_vec = get_direction_vector_from_angles( dir_angles[0], dir_angles[1] )\n",
    "    return np.mean([ calc_perpendicular_distance(hit, dir_vec, pivot_pt) for hit in hit_pts ])\n",
    "\n",
    "def function_to_minimize( dir_angles ):\n",
    "    return calc_mean_perpendicular_distance( dir_angles, hit_pts, pivot_pt )"
   ]
  },
  {
   "cell_type": "code",
   "execution_count": null,
   "metadata": {},
   "outputs": [],
   "source": [
    "initial_guess_azi = np.deg2rad( -10 )\n",
    "initial_guess_zen = np.deg2rad( 180 )\n",
    "\n",
    "initial_guess_angles = np.array([initial_guess_azi, initial_guess_zen])\n",
    "\n",
    "# let's run the minimization!\n",
    "minimization_output = minimize(\n",
    "    function_to_minimize,\n",
    "    initial_guess_angles\n",
    ")\n",
    "\n",
    "best_guess_azi, best_guess_zen = minimization_output.x\n",
    "smallest_distance = minimization_output.fun\n",
    "\n",
    "# let's print the output: \n",
    "print( \"The angles with the smallest perpendicular distance are:\" )\n",
    "print( f\"azi = {np.rad2deg(best_guess_azi):.2f} degrees\")\n",
    "print( f\"zen = {np.rad2deg(best_guess_zen):.2f} degrees\")\n",
    "print( \"For these angles, the mean perpendicular distance is: \")\n",
    "print( f\"\\t {smallest_distance:.2f} meters\")\n",
    "\n",
    "# and let's plot the direction angle! \n",
    "dir_vec = get_direction_vector_from_angles( best_guess_azi, best_guess_zen )\n",
    "fig_with_arrow = go.FigureWidget( fig )\n",
    "fig_with_arrow.add_traces( plot_direction( dir_vec, pivot_pt, color=\"dodgerblue\" ) )\n",
    "fig_with_arrow.show()"
   ]
  },
  {
   "cell_type": "markdown",
   "metadata": {},
   "source": [
    "## 4. How can we quantify the quality of our \"reconstructed\" directions?"
   ]
  }
 ],
 "metadata": {
  "kernelspec": {
   "display_name": "Python 3",
   "language": "python",
   "name": "python3"
  },
  "language_info": {
   "codemirror_mode": {
    "name": "ipython",
    "version": 3
   },
   "file_extension": ".py",
   "mimetype": "text/x-python",
   "name": "python",
   "nbconvert_exporter": "python",
   "pygments_lexer": "ipython3",
   "version": "3.10.6"
  }
 },
 "nbformat": 4,
 "nbformat_minor": 2
}
